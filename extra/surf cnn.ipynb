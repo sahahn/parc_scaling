{
 "cells": [
  {
   "cell_type": "code",
   "execution_count": 4,
   "id": "civil-ticket",
   "metadata": {},
   "outputs": [],
   "source": [
    "import numpy as np\n",
    "import pickle as pkl\n",
    "\n",
    "with open('/home/sage/brainsurfcnn/data/fs_LR_mesh_templates/icosphere_2.pkl', 'rb') as f:\n",
    "    i2 = pkl.load(f)\n",
    "\n",
    "with open('/home/sage/brainsurfcnn/data/fs_LR_mesh_templates/icosphere_1.pkl', 'rb') as f:\n",
    "    i1 = pkl.load(f)\n",
    "\n",
    "with open('/home/sage/brainsurfcnn/data/fs_LR_mesh_templates/icosphere_0.pkl', 'rb') as f:\n",
    "    i0 = pkl.load(f)"
   ]
  },
  {
   "cell_type": "code",
   "execution_count": 7,
   "id": "ordered-general",
   "metadata": {},
   "outputs": [
    {
     "data": {
      "text/plain": [
       "((2562, 3), (10242, 3), (32492, 3))"
      ]
     },
     "execution_count": 7,
     "metadata": {},
     "output_type": "execute_result"
    }
   ],
   "source": [
    "i0['V'].shape,  i1['V'].shape, i2['V'].shape"
   ]
  },
  {
   "cell_type": "code",
   "execution_count": null,
   "id": "latter-discipline",
   "metadata": {},
   "outputs": [],
   "source": []
  }
 ],
 "metadata": {
  "kernelspec": {
   "display_name": "Python (autogluon)",
   "language": "python",
   "name": "autogluon"
  },
  "language_info": {
   "codemirror_mode": {
    "name": "ipython",
    "version": 3
   },
   "file_extension": ".py",
   "mimetype": "text/x-python",
   "name": "python",
   "nbconvert_exporter": "python",
   "pygments_lexer": "ipython3",
   "version": "3.7.10"
  }
 },
 "nbformat": 4,
 "nbformat_minor": 5
}
