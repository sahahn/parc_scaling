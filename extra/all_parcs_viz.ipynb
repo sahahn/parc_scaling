{
 "cells": [
  {
   "cell_type": "code",
   "execution_count": 3,
   "id": "unlimited-timeline",
   "metadata": {},
   "outputs": [],
   "source": [
    "from Neuro_Plotting.plot import plot_surf_parc\n",
    "import numpy as np\n",
    "import os\n",
    "import matplotlib.pyplot as plt\n",
    "from nilearn.surface import load_surf_data"
   ]
  },
  {
   "cell_type": "code",
   "execution_count": null,
   "id": "breeding-component",
   "metadata": {
    "scrolled": false
   },
   "outputs": [],
   "source": [
    "mw_loc = '../raw/fs_LR_32k_label/medialwall.annot'\n",
    "mw_mask = ~load_surf_data(mw_loc).astype('bool')\n",
    "\n",
    "def clean_name(parc):\n",
    "    base = parc.split('/')[-1]\n",
    "    name = base.replace('_', ' ').replace('.npy', '')\n",
    "    name = name.replace('-', ' ')\n",
    "    return name\n",
    "\n",
    "parcs = os.listdir('../parcels/')\n",
    "parcs = [os.path.join('../parcels/', p) for p in parcs]\n",
    "\n",
    "os.makedirs('Figures/parcels/', exist_ok=True)\n",
    "\n",
    "for parc in parcs:\n",
    "    \n",
    "    if '_prob' in parc:\n",
    "        continue\n",
    "        \n",
    "    save_loc = 'Figures/parcels/' + parc.split('/')[-1].replace('.npy', '.png')\n",
    "    if os.path.exists(save_loc):\n",
    "        continue\n",
    "        \n",
    "    parcel = np.load(parc)\n",
    "    parcel[mw_mask] = 0\n",
    "        \n",
    "    plot_surf_parc(parcel, title=clean_name(parc))\n",
    "    plt.savefig(save_loc, dpi=100, transparent=True, bbox_inches='tight')\n",
    "    plt.close()"
   ]
  },
  {
   "cell_type": "code",
   "execution_count": null,
   "id": "elder-visitor",
   "metadata": {},
   "outputs": [],
   "source": []
  }
 ],
 "metadata": {
  "kernelspec": {
   "display_name": "Python 3.9.1 64-bit ('bpt': conda)",
   "language": "python",
   "name": "python391jvsc74a57bd0d11bc83678c6a2afeedd4386e54f5d9cdbd165400cc2c1372c0886b00a256ded"
  },
  "language_info": {
   "codemirror_mode": {
    "name": "ipython",
    "version": 3
   },
   "file_extension": ".py",
   "mimetype": "text/x-python",
   "name": "python",
   "nbconvert_exporter": "python",
   "pygments_lexer": "ipython3",
   "version": "3.9.1"
  }
 },
 "nbformat": 4,
 "nbformat_minor": 5
}
