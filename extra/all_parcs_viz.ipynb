{
 "cells": [
  {
   "cell_type": "code",
   "execution_count": 1,
   "id": "unlimited-timeline",
   "metadata": {},
   "outputs": [],
   "source": [
    "from Neuro_Plotting.plot import plot_surf_parc, plot_surf\n",
    "import numpy as np\n",
    "import os\n",
    "import matplotlib.pyplot as plt\n",
    "from nilearn.surface import load_surf_data\n",
    "import imageio"
   ]
  },
  {
   "cell_type": "code",
   "execution_count": 2,
   "id": "breeding-component",
   "metadata": {
    "scrolled": false
   },
   "outputs": [
    {
     "name": "stdout",
     "output_type": "stream",
     "text": [
      "../parcels/random_1500_1.npy\n",
      "../parcels/vol-resamp-mist-444.npy\n",
      "../parcels/random_6000_0.npy\n",
      "../parcels/random_3000_0.npy\n",
      "../parcels/random_1000_3.npy\n",
      "../parcels/random_1000_0.npy\n",
      "../parcels/random_1500_0.npy\n",
      "../parcels/random_1000_1.npy\n",
      "../parcels/random_600_0.npy\n",
      "../parcels/random_100_0.npy\n",
      "../parcels/random_20_2.npy\n",
      "../parcels/vol-resamp-craddock-tcorr_mean_prob.npy\n"
     ]
    },
    {
     "ename": "ValueError",
     "evalue": "Could not find a format to write the specified file in multi-image mode",
     "output_type": "error",
     "traceback": [
      "\u001b[0;31m---------------------------------------------------------------------------\u001b[0m",
      "\u001b[0;31mValueError\u001b[0m                                Traceback (most recent call last)",
      "\u001b[0;32m<ipython-input-2-755ea1be447b>\u001b[0m in \u001b[0;36m<module>\u001b[0;34m\u001b[0m\n\u001b[1;32m     77\u001b[0m     \u001b[0;31m# Seperate procedure if prob.\u001b[0m\u001b[0;34m\u001b[0m\u001b[0;34m\u001b[0m\u001b[0;34m\u001b[0m\u001b[0m\n\u001b[1;32m     78\u001b[0m     \u001b[0;32mif\u001b[0m \u001b[0;34m'_prob'\u001b[0m \u001b[0;32min\u001b[0m \u001b[0mparc\u001b[0m\u001b[0;34m:\u001b[0m\u001b[0;34m\u001b[0m\u001b[0;34m\u001b[0m\u001b[0m\n\u001b[0;32m---> 79\u001b[0;31m         \u001b[0mplot_prob_parc\u001b[0m\u001b[0;34m(\u001b[0m\u001b[0mparc\u001b[0m\u001b[0;34m)\u001b[0m\u001b[0;34m\u001b[0m\u001b[0;34m\u001b[0m\u001b[0m\n\u001b[0m\u001b[1;32m     80\u001b[0m \u001b[0;34m\u001b[0m\u001b[0m\n\u001b[1;32m     81\u001b[0m     \u001b[0;31m# Otherwise just plot and save\u001b[0m\u001b[0;34m\u001b[0m\u001b[0;34m\u001b[0m\u001b[0;34m\u001b[0m\u001b[0m\n",
      "\u001b[0;32m<ipython-input-2-755ea1be447b>\u001b[0m in \u001b[0;36mplot_prob_parc\u001b[0;34m(parc)\u001b[0m\n\u001b[1;32m     39\u001b[0m \u001b[0;34m\u001b[0m\u001b[0m\n\u001b[1;32m     40\u001b[0m     \u001b[0;31m# Load files from temp and make gif\u001b[0m\u001b[0;34m\u001b[0m\u001b[0;34m\u001b[0m\u001b[0;34m\u001b[0m\u001b[0m\n\u001b[0;32m---> 41\u001b[0;31m     with imageio.get_writer(save_loc,\n\u001b[0m\u001b[1;32m     42\u001b[0m                             \u001b[0mmode\u001b[0m\u001b[0;34m=\u001b[0m\u001b[0;34m'I'\u001b[0m\u001b[0;34m,\u001b[0m\u001b[0;34m\u001b[0m\u001b[0;34m\u001b[0m\u001b[0m\n\u001b[1;32m     43\u001b[0m                             duration=.5) as writer:\n",
      "\u001b[0;32m~/anaconda3/envs/bpt/lib/python3.9/site-packages/imageio/core/functions.py\u001b[0m in \u001b[0;36mget_writer\u001b[0;34m(uri, format, mode, **kwargs)\u001b[0m\n\u001b[1;32m    224\u001b[0m     \u001b[0;32mif\u001b[0m \u001b[0mformat\u001b[0m \u001b[0;32mis\u001b[0m \u001b[0;32mNone\u001b[0m\u001b[0;34m:\u001b[0m\u001b[0;34m\u001b[0m\u001b[0;34m\u001b[0m\u001b[0m\n\u001b[1;32m    225\u001b[0m         \u001b[0mmodename\u001b[0m \u001b[0;34m=\u001b[0m \u001b[0mMODENAMES\u001b[0m\u001b[0;34m.\u001b[0m\u001b[0mget\u001b[0m\u001b[0;34m(\u001b[0m\u001b[0mmode\u001b[0m\u001b[0;34m,\u001b[0m \u001b[0mmode\u001b[0m\u001b[0;34m)\u001b[0m\u001b[0;34m\u001b[0m\u001b[0;34m\u001b[0m\u001b[0m\n\u001b[0;32m--> 226\u001b[0;31m         raise ValueError(\n\u001b[0m\u001b[1;32m    227\u001b[0m             \u001b[0;34m\"Could not find a format to write the specified file in %s mode\"\u001b[0m \u001b[0;34m%\u001b[0m \u001b[0mmodename\u001b[0m\u001b[0;34m\u001b[0m\u001b[0;34m\u001b[0m\u001b[0m\n\u001b[1;32m    228\u001b[0m         )\n",
      "\u001b[0;31mValueError\u001b[0m: Could not find a format to write the specified file in multi-image mode"
     ]
    }
   ],
   "source": [
    "mw_loc = '../raw/fs_LR_32k_label/medialwall.annot'\n",
    "mw_mask = ~load_surf_data(mw_loc).astype('bool')\n",
    "\n",
    "def clean_name(parc):\n",
    "    base = parc.split('/')[-1]\n",
    "    name = base.replace('_', ' ').replace('.npy', '')\n",
    "    name = name.replace('-', ' ')\n",
    "    return name\n",
    "\n",
    "def plot_prob_parc(parc):\n",
    "    \n",
    "    # Only proc. if not already saved\n",
    "    save_loc = 'Figures/prob_parcels/' + parc.split('/')[-1].replace('.npy', '.gif')\n",
    "    if os.path.exists(save_loc):\n",
    "        return\n",
    "    \n",
    "    # Load\n",
    "    parcel = np.load(parc)\n",
    "\n",
    "    files = []\n",
    "    for i in range(parcel.shape[1]):\n",
    "        \n",
    "        # Gen title\n",
    "        title = clean_name(parc) + f' ({i}/{parcel.shape[1]})'\n",
    "        \n",
    "        # Plot and save to temp folder\n",
    "        plot_surf(parcel[:, i],\n",
    "                  threshold=0.000001,\n",
    "                  cmap='Reds',\n",
    "                  title=title)\n",
    "\n",
    "        save_loc = 'temp/' + str(i) + '.png'\n",
    "        plt.savefig(save_loc, dpi=50,\n",
    "                    transparent=True, bbox_inches='tight')\n",
    "        plt.close()\n",
    "        \n",
    "        # Keep track of in files\n",
    "        files.append(save_loc)\n",
    "    \n",
    "    # Load files from temp and make gif\n",
    "    with imageio.get_writer(save_loc,\n",
    "                            mode='I',\n",
    "                            duration=.5) as writer:\n",
    "\n",
    "        for filename in files:\n",
    "            image = imageio.imread(filename)\n",
    "            writer.append_data(image)\n",
    "            \n",
    "def plot_parc(parc, mw_mask):\n",
    "    \n",
    "    # Only make and save if doesn't exist\n",
    "    save_loc = 'Figures/parcels/' + parc.split('/')[-1].replace('.npy', '.png')\n",
    "    if os.path.exists(save_loc):\n",
    "        return\n",
    "\n",
    "    parcel = np.load(parc)\n",
    "    parcel[mw_mask] = 0\n",
    "    \n",
    "    # Plot and save\n",
    "    plot_surf_parc(parcel, title=clean_name(parc))\n",
    "    plt.savefig(save_loc, dpi=100, transparent=True, bbox_inches='tight')\n",
    "    plt.close()\n",
    "\n",
    "# Get all parcels\n",
    "parcs = os.listdir('../parcels/')\n",
    "parcs = [os.path.join('../parcels/', p) for p in parcs]\n",
    "\n",
    "# Make sure directories exist\n",
    "os.makedirs('Figures/parcels/', exist_ok=True)\n",
    "os.makedirs('Figures/prob_parcels/', exist_ok=True)\n",
    "os.makedirs('temp/', exist_ok=True)\n",
    "\n",
    "for parc in parcs:\n",
    "    \n",
    "    print(parc)\n",
    "    \n",
    "    # Seperate procedure if prob.\n",
    "    if '_prob' in parc:\n",
    "        plot_prob_parc(parc)\n",
    "        \n",
    "    # Otherwise just plot and save\n",
    "    else:\n",
    "        plot_parc(parc, mw_mask)"
   ]
  },
  {
   "cell_type": "code",
   "execution_count": null,
   "id": "innocent-communications",
   "metadata": {},
   "outputs": [],
   "source": []
  }
 ],
 "metadata": {
  "kernelspec": {
   "display_name": "Python 3.9.1 64-bit ('bpt': conda)",
   "language": "python",
   "name": "python391jvsc74a57bd0d11bc83678c6a2afeedd4386e54f5d9cdbd165400cc2c1372c0886b00a256ded"
  },
  "language_info": {
   "codemirror_mode": {
    "name": "ipython",
    "version": 3
   },
   "file_extension": ".py",
   "mimetype": "text/x-python",
   "name": "python",
   "nbconvert_exporter": "python",
   "pygments_lexer": "ipython3",
   "version": "3.9.1"
  }
 },
 "nbformat": 4,
 "nbformat_minor": 5
}
