{
 "cells": [
  {
   "cell_type": "code",
   "execution_count": 1,
   "id": "still-intensity",
   "metadata": {},
   "outputs": [],
   "source": [
    "from Neuro_Plotting.plot import plot_surf\n",
    "import numpy as np\n",
    "import os\n",
    "import matplotlib.pyplot as plt\n",
    "import imageio"
   ]
  },
  {
   "cell_type": "code",
   "execution_count": 2,
   "id": "separate-mozambique",
   "metadata": {},
   "outputs": [],
   "source": [
    "def clean_name(parc):\n",
    "    base = parc.split('/')[-1]\n",
    "    name = base.replace('_', ' ').replace('.npy', '')\n",
    "    name = name.replace('-', ' ')\n",
    "    return name"
   ]
  },
  {
   "cell_type": "code",
   "execution_count": 3,
   "id": "tested-detroit",
   "metadata": {},
   "outputs": [],
   "source": [
    "os.makedirs('temp/', exist_ok=True)\n",
    "\n",
    "parcs = os.listdir('../parcels/')\n",
    "parcs = [os.path.join('../parcels/', p) for p in parcs]"
   ]
  },
  {
   "cell_type": "code",
   "execution_count": null,
   "id": "intense-reach",
   "metadata": {},
   "outputs": [
    {
     "name": "stderr",
     "output_type": "stream",
     "text": [
      "/home/sage/anaconda3/envs/bpt/lib/python3.9/site-packages/Neuro_Plotting/plot_surf.py:275: RuntimeWarning: invalid value encountered in true_divide\n",
      "  surf_map_faces = surf_map_faces / (vmax - vmin)\n"
     ]
    }
   ],
   "source": [
    "parc = '../parcels/vol-resamp-difumo-64_prob.npy'\n",
    "name = clean_name('../parcels/vol-resamp-difumo-64_prob.npy')\n",
    "parcel = np.load(parc)\n",
    "\n",
    "files = []\n",
    "for i in range(parcel.shape[1]):\n",
    "\n",
    "    plot_surf(parcel[:, i],\n",
    "              threshold=0.00001,\n",
    "              cmap='Reds',\n",
    "              title=name + f' ({i}/{parcel.shape[1]})')\n",
    "\n",
    "    save_loc = 'temp/' + str(i) + '.png'\n",
    "    plt.savefig(save_loc, dpi=50,\n",
    "                transparent=True, bbox_inches='tight')\n",
    "    plt.close()\n",
    "    files.append(save_loc)\n",
    "    \n",
    "\n",
    "save_loc = 'Figures/parcels/' + parc.split('/')[-1].replace('.npy', '.gif')\n",
    "with imageio.get_writer(save_loc,\n",
    "                        mode='I',\n",
    "                        duration=.5) as writer:\n",
    "\n",
    "    for filename in files:\n",
    "        image = imageio.imread(filename)\n",
    "        writer.append_data(image)"
   ]
  },
  {
   "cell_type": "code",
   "execution_count": null,
   "id": "ethical-millennium",
   "metadata": {},
   "outputs": [],
   "source": []
  }
 ],
 "metadata": {
  "kernelspec": {
   "display_name": "Python 3.9.1 64-bit ('bpt': conda)",
   "language": "python",
   "name": "python391jvsc74a57bd0d11bc83678c6a2afeedd4386e54f5d9cdbd165400cc2c1372c0886b00a256ded"
  },
  "language_info": {
   "codemirror_mode": {
    "name": "ipython",
    "version": 3
   },
   "file_extension": ".py",
   "mimetype": "text/x-python",
   "name": "python",
   "nbconvert_exporter": "python",
   "pygments_lexer": "ipython3",
   "version": "3.9.1"
  }
 },
 "nbformat": 4,
 "nbformat_minor": 5
}
