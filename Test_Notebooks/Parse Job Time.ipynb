{
 "cells": [
  {
   "cell_type": "code",
   "execution_count": 37,
   "metadata": {},
   "outputs": [],
   "source": [
    "import os\n",
    "import datetime\n",
    "from datetime import timedelta\n",
    "import numpy as np\n",
    "from funcs import get_parc_sizes\n",
    "import pandas as pd\n",
    "import seaborn as sns\n",
    "import matplotlib.pyplot as plt"
   ]
  },
  {
   "cell_type": "markdown",
   "metadata": {},
   "source": [
    "### Come up with a way to parse error output for jobs that are cancelled due to running too long"
   ]
  },
  {
   "cell_type": "code",
   "execution_count": 38,
   "metadata": {},
   "outputs": [],
   "source": [
    "def conv_t_delta(in_str):\n",
    "    \n",
    "    in_str = in_str.replace('Time Elapsed: ', '').strip()\n",
    "    \n",
    "    s = in_str.split(':')\n",
    "    \n",
    "    if len(s) == 3:\n",
    "        return timedelta(hours=int(s[0]), minutes=int(s[1]), seconds=int(s[2]))\n",
    "    else:\n",
    "        print(s)\n",
    "        \n",
    "\n",
    "def is_binary(target):\n",
    "    \n",
    "    if target.endswith('_binary'):\n",
    "        return True\n",
    "    \n",
    "    # Otherwise check exceptions\n",
    "    binary = ['ksads_back_c_det_susp_p', 'married.bl',\n",
    "              'accult_phenx_q2_p', 'devhx_5_twin_p',\n",
    "              'sex_at_birth', 'devhx_6_pregnancy_planned_p',\n",
    "              'devhx_12a_born_premature_p',\n",
    "              'ksads_back_c_mh_sa_p']\n",
    "\n",
    "    return target in binary\n",
    "\n",
    "def extract(txt):\n",
    "    \n",
    "    if 'Validation Scores\\n' in txt:\n",
    "\n",
    "        run_ind = 'Running for:'\n",
    "\n",
    "        if run_ind in txt[1]:\n",
    "            run_info = txt[1]\n",
    "        elif run_ind in txt[2]:\n",
    "            run_info = txt[2]\n",
    "        elif run_ind in txt[3]:\n",
    "            run_info = txt[3]\n",
    "            \n",
    "        run_info = run_info.replace(run_ind, '').lstrip()\n",
    "        n_strip = run_info.split('---')\n",
    "        \n",
    "        parcel = n_strip[0]\n",
    "        \n",
    "        p_type = 'base'\n",
    "        if parcel.startswith('stacked_'):\n",
    "            p_type = 'stacked'\n",
    "        elif parcel.startswith('voted'):\n",
    "            p_type = 'voted'\n",
    "        elif parcel.startswith('grid'):\n",
    "            p_type = 'grid'\n",
    "        \n",
    "        try:\n",
    "            size = parc_sizes[parcel]\n",
    "        except KeyError:\n",
    "            return tuple([None] * 5)\n",
    "            \n",
    "        model = n_strip[1]\n",
    "        is_b = is_binary(n_strip[2].rstrip())\n",
    "\n",
    "        te_ind = 'Time Elapsed: '\n",
    "        time_elapsed = [conv_t_delta(l) for l in txt if l.startswith(te_ind)]\n",
    "\n",
    "        full = None\n",
    "        if len(n_strip) == 4:\n",
    "            if len(time_elapsed) == 1:\n",
    "                full = time_elapsed[0] * 5\n",
    "\n",
    "        else:\n",
    "            if len(time_elapsed) == 5:\n",
    "                full = np.sum(time_elapsed)\n",
    "            \n",
    "        if full is not None:\n",
    "            return model, size, is_b, full, p_type\n",
    "    \n",
    "    return tuple([None] * 5)\n",
    "\n",
    "def get_time_df(dr):\n",
    "    \n",
    "    files = os.listdir(dr)\n",
    "    files = [file for file in files if '.out' in file]\n",
    "    print(len(files), 'Job Logs found!')\n",
    "    \n",
    "    timing = pd.DataFrame(columns=['model', 'size', 'is_b', 'n_jobs', 'time', 'p_type'])\n",
    "\n",
    "    for file in files: \n",
    "        full_path = os.path.join(dr, file)\n",
    "\n",
    "        # Open file\n",
    "        with open(full_path, 'r') as f:\n",
    "            txt = f.readlines()\n",
    "\n",
    "        # Extract\n",
    "        model, size, is_b, full, p_type = extract(txt)\n",
    "\n",
    "        # If not done or other error\n",
    "        if model is None:\n",
    "            continue\n",
    "\n",
    "        # Determine how job was run\n",
    "        if file.startswith('test_') or file.startswith('8_'):\n",
    "            n_jobs = 8\n",
    "        elif file.startswith('2_'):\n",
    "            n_jobs = 2\n",
    "        elif file.startswith('4_'):\n",
    "            n_jobs = 4\n",
    "        elif file.startswith('12_'):\n",
    "            n_jobs = 12\n",
    "        elif file.startswith('16_'):\n",
    "            n_jobs = 16\n",
    "        elif file.startswith('low_') or file.startswith('high_'):\n",
    "            if '_extra' in file:\n",
    "                n_jobs = 48\n",
    "            else:\n",
    "                n_jobs = 24\n",
    "        elif file.startswith('long_'):\n",
    "            n_jobs = 1\n",
    "\n",
    "        else:\n",
    "            print('error:', file)\n",
    "\n",
    "        timing.loc[len(timing)] = [model, size, is_b, n_jobs, full.total_seconds(), p_type]\n",
    "        \n",
    "    return timing\n",
    "\n",
    "def set_y(up_to=1):\n",
    "    \n",
    "    plt.ylabel('Time to run 5-fold evaluation')\n",
    "    \n",
    "    if up_to == 1:\n",
    "        \n",
    "        plt.yticks([3600, 18000, 36000, 54000, 72000, 86400],\n",
    "                   ['1 Hour', '5 Hours', '10 Hours',\n",
    "                    '15 Hours', '20 Hours', '1 Day'])\n",
    "        \n",
    "    elif up_to == '5 hours':\n",
    "        \n",
    "        plt.yticks([60, 3600, 3600*2, 3600*3, 3600*4, 3600*5],\n",
    "                   ['1 Minute', '1 Hour',\n",
    "                    '2 Hours', '3 Hours',\n",
    "                    '4 Hours', '5 Hours'])\n",
    "        plt.ylim(-500, 3600 * 5)\n",
    "        \n",
    "    elif up_to == '6 hours':\n",
    "        \n",
    "        plt.yticks([60, 3600, 3600*2, 3600*3,\n",
    "                    3600*4, 3600*5, 3600*6],\n",
    "                   ['1 Minute', '1 Hour',\n",
    "                    '2 Hours', '3 Hours',\n",
    "                    '4 Hours', '5 Hours', '6 Hours'])\n",
    "        plt.ylim(-500, 3600 * 6)\n",
    "\n",
    "    elif up_to == 4:\n",
    "        \n",
    "        plt.yticks([3600, 36000, 86400,\n",
    "                    86400*2, 86400*3, 86400*4],\n",
    "                    ['1 Hour', '10 Hours', '1 Day', '2 Days',\n",
    "                     '3 Days', '4 Days'])\n",
    "        \n",
    "    elif up_to == 5:\n",
    "        \n",
    "        plt.yticks([3600, 36000, 86400,\n",
    "                    86400*2, 86400*3, 86400*4, 86400*5],\n",
    "                    ['1 Hour', '10 Hours', '1 Day', '2 Days',\n",
    "                     '3 Days', '4 Days', '5 Days'])\n",
    "        \n",
    "        plt.ylim(-500, 86400*6)\n",
    "\n",
    "def plot_6_hours(df, n_jobs=4):\n",
    "    \n",
    "    t_df = df.set_index(['n_jobs']).loc[n_jobs]\n",
    "\n",
    "    g = sns.relplot(\n",
    "        data=t_df, alpha=.5,\n",
    "        x=\"size\", y=\"time\", hue=\"model\",\n",
    "        marker=\"x\", s=50,\n",
    "    )\n",
    "\n",
    "    plt.title('Timing with ' + str(n_jobs) + ' Cores')\n",
    "    set_y(up_to='6 hours')\n",
    "    plt.xlabel('Number of Parcels')\n",
    "\n",
    "    plt.xlim(0, 100)\n",
    "    plt.show()\n",
    "    \n",
    "def plot_5_days(df, n_jobs=4):\n",
    "    \n",
    "    t_df = df.set_index(['n_jobs']).loc[n_jobs]\n",
    "\n",
    "    g = sns.relplot(\n",
    "        data=t_df, alpha=.25,\n",
    "        x=\"size\", y=\"time\", hue=\"model\",\n",
    "        marker=\"x\", s=50,\n",
    "    )\n",
    "\n",
    "    plt.title('Timing with ' + str(n_jobs) + ' Cores')\n",
    "    set_y(up_to=5)\n",
    "    plt.xlabel('Number of Parcels')\n",
    "    plt.show()\n",
    "    "
   ]
  },
  {
   "cell_type": "code",
   "execution_count": 39,
   "metadata": {},
   "outputs": [
    {
     "name": "stdout",
     "output_type": "stream",
     "text": [
      "8412 Job Logs found!\n"
     ]
    }
   ],
   "source": [
    "parc_sizes = get_parc_sizes(everything=True)\n",
    "dr = '../Exp/Job_Logs'\n",
    "timing = get_time_df(dr)"
   ]
  },
  {
   "cell_type": "code",
   "execution_count": 40,
   "metadata": {},
   "outputs": [],
   "source": [
    "stacked = timing[timing['p_type'] == 'stacked']\n",
    "voted = timing[timing['p_type'] == 'voted']\n",
    "grid = timing[timing['p_type'] == 'grid']\n",
    "identity = timing[timing['p_type'] == 'identity']"
   ]
  },
  {
   "cell_type": "code",
   "execution_count": 43,
   "metadata": {},
   "outputs": [
    {
     "ename": "ValueError",
     "evalue": "Could not interpret input 'svm'",
     "output_type": "error",
     "traceback": [
      "\u001b[0;31m---------------------------------------------------------------------------\u001b[0m",
      "\u001b[0;31mValueError\u001b[0m                                Traceback (most recent call last)",
      "\u001b[0;32m<ipython-input-43-b18265097f1a>\u001b[0m in \u001b[0;36m<module>\u001b[0;34m\u001b[0m\n\u001b[0;32m----> 1\u001b[0;31m \u001b[0mplot_5_days\u001b[0m\u001b[0;34m(\u001b[0m\u001b[0mstacked\u001b[0m\u001b[0;34m,\u001b[0m \u001b[0mn_jobs\u001b[0m\u001b[0;34m=\u001b[0m\u001b[0;36m8\u001b[0m\u001b[0;34m)\u001b[0m\u001b[0;34m\u001b[0m\u001b[0;34m\u001b[0m\u001b[0m\n\u001b[0m",
      "\u001b[0;32m<ipython-input-38-52995faf623d>\u001b[0m in \u001b[0;36mplot_5_days\u001b[0;34m(df, n_jobs)\u001b[0m\n\u001b[1;32m    191\u001b[0m         \u001b[0mdata\u001b[0m\u001b[0;34m=\u001b[0m\u001b[0mt_df\u001b[0m\u001b[0;34m,\u001b[0m \u001b[0malpha\u001b[0m\u001b[0;34m=\u001b[0m\u001b[0;36m.25\u001b[0m\u001b[0;34m,\u001b[0m\u001b[0;34m\u001b[0m\u001b[0;34m\u001b[0m\u001b[0m\n\u001b[1;32m    192\u001b[0m         \u001b[0mx\u001b[0m\u001b[0;34m=\u001b[0m\u001b[0;34m\"size\"\u001b[0m\u001b[0;34m,\u001b[0m \u001b[0my\u001b[0m\u001b[0;34m=\u001b[0m\u001b[0;34m\"time\"\u001b[0m\u001b[0;34m,\u001b[0m \u001b[0mhue\u001b[0m\u001b[0;34m=\u001b[0m\u001b[0;34m\"model\"\u001b[0m\u001b[0;34m,\u001b[0m\u001b[0;34m\u001b[0m\u001b[0;34m\u001b[0m\u001b[0m\n\u001b[0;32m--> 193\u001b[0;31m         \u001b[0mmarker\u001b[0m\u001b[0;34m=\u001b[0m\u001b[0;34m\"x\"\u001b[0m\u001b[0;34m,\u001b[0m \u001b[0ms\u001b[0m\u001b[0;34m=\u001b[0m\u001b[0;36m50\u001b[0m\u001b[0;34m,\u001b[0m\u001b[0;34m\u001b[0m\u001b[0;34m\u001b[0m\u001b[0m\n\u001b[0m\u001b[1;32m    194\u001b[0m     )\n\u001b[1;32m    195\u001b[0m \u001b[0;34m\u001b[0m\u001b[0m\n",
      "\u001b[0;32m~/anaconda3/envs/home/lib/python3.7/site-packages/seaborn/relational.py\u001b[0m in \u001b[0;36mrelplot\u001b[0;34m(x, y, hue, size, style, data, row, col, col_wrap, row_order, col_order, palette, hue_order, hue_norm, sizes, size_order, size_norm, markers, dashes, style_order, legend, kind, height, aspect, facet_kws, **kwargs)\u001b[0m\n\u001b[1;32m   1663\u001b[0m         \u001b[0msizes\u001b[0m\u001b[0;34m=\u001b[0m\u001b[0msizes\u001b[0m\u001b[0;34m,\u001b[0m \u001b[0msize_order\u001b[0m\u001b[0;34m=\u001b[0m\u001b[0msize_order\u001b[0m\u001b[0;34m,\u001b[0m \u001b[0msize_norm\u001b[0m\u001b[0;34m=\u001b[0m\u001b[0msize_norm\u001b[0m\u001b[0;34m,\u001b[0m\u001b[0;34m\u001b[0m\u001b[0;34m\u001b[0m\u001b[0m\n\u001b[1;32m   1664\u001b[0m         \u001b[0mmarkers\u001b[0m\u001b[0;34m=\u001b[0m\u001b[0mmarkers\u001b[0m\u001b[0;34m,\u001b[0m \u001b[0mdashes\u001b[0m\u001b[0;34m=\u001b[0m\u001b[0mdashes\u001b[0m\u001b[0;34m,\u001b[0m \u001b[0mstyle_order\u001b[0m\u001b[0;34m=\u001b[0m\u001b[0mstyle_order\u001b[0m\u001b[0;34m,\u001b[0m\u001b[0;34m\u001b[0m\u001b[0;34m\u001b[0m\u001b[0m\n\u001b[0;32m-> 1665\u001b[0;31m         \u001b[0mlegend\u001b[0m\u001b[0;34m=\u001b[0m\u001b[0mlegend\u001b[0m\u001b[0;34m,\u001b[0m\u001b[0;34m\u001b[0m\u001b[0;34m\u001b[0m\u001b[0m\n\u001b[0m\u001b[1;32m   1666\u001b[0m     )\n\u001b[1;32m   1667\u001b[0m \u001b[0;34m\u001b[0m\u001b[0m\n",
      "\u001b[0;32m~/anaconda3/envs/home/lib/python3.7/site-packages/seaborn/relational.py\u001b[0m in \u001b[0;36m__init__\u001b[0;34m(self, x, y, hue, size, style, data, palette, hue_order, hue_norm, sizes, size_order, size_norm, dashes, markers, style_order, x_bins, y_bins, units, estimator, ci, n_boot, alpha, x_jitter, y_jitter, legend)\u001b[0m\n\u001b[1;32m    889\u001b[0m \u001b[0;34m\u001b[0m\u001b[0m\n\u001b[1;32m    890\u001b[0m         plot_data = self.establish_variables(\n\u001b[0;32m--> 891\u001b[0;31m             \u001b[0mx\u001b[0m\u001b[0;34m,\u001b[0m \u001b[0my\u001b[0m\u001b[0;34m,\u001b[0m \u001b[0mhue\u001b[0m\u001b[0;34m,\u001b[0m \u001b[0msize\u001b[0m\u001b[0;34m,\u001b[0m \u001b[0mstyle\u001b[0m\u001b[0;34m,\u001b[0m \u001b[0munits\u001b[0m\u001b[0;34m,\u001b[0m \u001b[0mdata\u001b[0m\u001b[0;34m\u001b[0m\u001b[0;34m\u001b[0m\u001b[0m\n\u001b[0m\u001b[1;32m    892\u001b[0m         )\n\u001b[1;32m    893\u001b[0m \u001b[0;34m\u001b[0m\u001b[0m\n",
      "\u001b[0;32m~/anaconda3/envs/home/lib/python3.7/site-packages/seaborn/relational.py\u001b[0m in \u001b[0;36mestablish_variables\u001b[0;34m(self, x, y, hue, size, style, units, data)\u001b[0m\n\u001b[1;32m    140\u001b[0m                 \u001b[0;32mif\u001b[0m \u001b[0misinstance\u001b[0m\u001b[0;34m(\u001b[0m\u001b[0mvar\u001b[0m\u001b[0;34m,\u001b[0m \u001b[0mstr\u001b[0m\u001b[0;34m)\u001b[0m\u001b[0;34m:\u001b[0m\u001b[0;34m\u001b[0m\u001b[0;34m\u001b[0m\u001b[0m\n\u001b[1;32m    141\u001b[0m                     \u001b[0merr\u001b[0m \u001b[0;34m=\u001b[0m \u001b[0;34m\"Could not interpret input '{}'\"\u001b[0m\u001b[0;34m.\u001b[0m\u001b[0mformat\u001b[0m\u001b[0;34m(\u001b[0m\u001b[0mvar\u001b[0m\u001b[0;34m)\u001b[0m\u001b[0;34m\u001b[0m\u001b[0;34m\u001b[0m\u001b[0m\n\u001b[0;32m--> 142\u001b[0;31m                     \u001b[0;32mraise\u001b[0m \u001b[0mValueError\u001b[0m\u001b[0;34m(\u001b[0m\u001b[0merr\u001b[0m\u001b[0;34m)\u001b[0m\u001b[0;34m\u001b[0m\u001b[0;34m\u001b[0m\u001b[0m\n\u001b[0m\u001b[1;32m    143\u001b[0m \u001b[0;34m\u001b[0m\u001b[0m\n\u001b[1;32m    144\u001b[0m             \u001b[0;31m# Extract variable names\u001b[0m\u001b[0;34m\u001b[0m\u001b[0;34m\u001b[0m\u001b[0;34m\u001b[0m\u001b[0m\n",
      "\u001b[0;31mValueError\u001b[0m: Could not interpret input 'svm'"
     ]
    }
   ],
   "source": [
    "plot_5_days(stacked, n_jobs=8)"
   ]
  },
  {
   "cell_type": "code",
   "execution_count": 36,
   "metadata": {},
   "outputs": [
    {
     "data": {
      "image/png": "[encoded data removed]",
      "text/plain": [
       "<Figure size 428.625x360 with 1 Axes>"
      ]
     },
     "metadata": {
      "needs_background": "light"
     },
     "output_type": "display_data"
    }
   ],
   "source": [
    "plot_5_days(voted, n_jobs=16)"
   ]
  },
  {
   "cell_type": "code",
   "execution_count": 34,
   "metadata": {},
   "outputs": [
    {
     "data": {
      "image/png": "[encoded data removed]",
      "text/plain": [
       "<Figure size 428.625x360 with 1 Axes>"
      ]
     },
     "metadata": {
      "needs_background": "light"
     },
     "output_type": "display_data"
    }
   ],
   "source": [
    "plot_5_days(grid, n_jobs=8)"
   ]
  },
  {
   "cell_type": "code",
   "execution_count": null,
   "metadata": {},
   "outputs": [],
   "source": []
  }
 ],
 "metadata": {
  "kernelspec": {
   "display_name": "Python 3.7.6 64-bit ('home': conda)",
   "language": "python",
   "name": "python37664bithomeconda2aade2e1d0ce4797afe91f4891a59d68"
  },
  "language_info": {
   "codemirror_mode": {
    "name": "ipython",
    "version": 3
   },
   "file_extension": ".py",
   "mimetype": "text/x-python",
   "name": "python",
   "nbconvert_exporter": "python",
   "pygments_lexer": "ipython3",
   "version": "3.7.6"
  }
 },
 "nbformat": 4,
 "nbformat_minor": 4
}
