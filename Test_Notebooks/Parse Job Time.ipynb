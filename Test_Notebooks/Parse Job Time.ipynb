{
 "cells": [
  {
   "cell_type": "code",
   "execution_count": 1,
   "metadata": {},
   "outputs": [],
   "source": [
    "import os\n",
    "import datetime\n",
    "from datetime import timedelta\n",
    "import numpy as np\n",
    "from funcs import get_parc_sizes, extract_run_info, get_n_jobs\n",
    "import pandas as pd\n",
    "import seaborn as sns\n",
    "import matplotlib.pyplot as plt"
   ]
  },
  {
   "cell_type": "markdown",
   "metadata": {},
   "source": [
    "### Come up with a way to parse error output for jobs that are cancelled due to running too long"
   ]
  },
  {
   "cell_type": "code",
   "execution_count": 2,
   "metadata": {},
   "outputs": [],
   "source": [
    "def conv_t_delta(in_str):\n",
    "    \n",
    "    in_str = in_str.replace('Time Elapsed: ', '').strip()\n",
    "    \n",
    "    s = in_str.split(':')\n",
    "    \n",
    "    if len(s) == 3:\n",
    "        return timedelta(hours=int(s[0]), minutes=int(s[1]), seconds=int(s[2]))\n",
    "    else:\n",
    "        print(s)\n",
    "        \n",
    "\n",
    "def is_binary(target):\n",
    "    \n",
    "    if target.endswith('_binary'):\n",
    "        return True\n",
    "    \n",
    "    # Otherwise check exceptions\n",
    "    binary = ['ksads_back_c_det_susp_p', 'married.bl',\n",
    "              'accult_phenx_q2_p', 'devhx_5_twin_p',\n",
    "              'sex_at_birth', 'devhx_6_pregnancy_planned_p',\n",
    "              'devhx_12a_born_premature_p',\n",
    "              'ksads_back_c_mh_sa_p']\n",
    "\n",
    "    return target in binary\n",
    "\n",
    "\n",
    "\n",
    "def extract(txt):\n",
    "    \n",
    "    if 'Validation Scores\\n' in txt:\n",
    "\n",
    "        run_info = extract_run_info(txt)\n",
    "        n_strip = run_info.split('---')\n",
    "        \n",
    "        parcel = n_strip[0]\n",
    "        \n",
    "        p_type = 'base'\n",
    "        if parcel.startswith('stacked_'):\n",
    "            p_type = 'stacked'\n",
    "        elif parcel.startswith('voted'):\n",
    "            p_type = 'voted'\n",
    "        elif parcel.startswith('grid'):\n",
    "            p_type = 'grid'\n",
    "        \n",
    "        try:\n",
    "            size = parc_sizes[parcel]\n",
    "        except KeyError:\n",
    "            return tuple([None] * 5)\n",
    "            \n",
    "        model = n_strip[1]\n",
    "        is_b = is_binary(n_strip[2].rstrip())\n",
    "\n",
    "        te_ind = 'Time Elapsed: '\n",
    "        time_elapsed = [conv_t_delta(l) for l in txt if l.startswith(te_ind)]\n",
    "\n",
    "        full = None\n",
    "        if len(n_strip) == 4:\n",
    "            if len(time_elapsed) == 1:\n",
    "                full = time_elapsed[0] * 5\n",
    "\n",
    "        else:\n",
    "            if len(time_elapsed) == 5:\n",
    "                full = np.sum(time_elapsed)\n",
    "            \n",
    "        if full is not None:\n",
    "            return model, size, is_b, full, p_type\n",
    "    \n",
    "    return tuple([None] * 5)\n",
    "\n",
    "def get_time_df(dr):\n",
    "    \n",
    "    files = os.listdir(dr)\n",
    "    files = [file for file in files if '.out' in file]\n",
    "    print(len(files), 'Job Logs found!')\n",
    "    \n",
    "    timing = pd.DataFrame(columns=['model', 'size', 'is_b', 'n_jobs', 'time', 'p_type'])\n",
    "\n",
    "    for file in files: \n",
    "        full_path = os.path.join(dr, file)\n",
    "\n",
    "        # Open file\n",
    "        with open(full_path, 'r') as f:\n",
    "            txt = f.readlines()\n",
    "\n",
    "        # Extract\n",
    "        model, size, is_b, full, p_type = extract(txt)\n",
    "\n",
    "        # If not done or other error\n",
    "        if model is None:\n",
    "            continue\n",
    "\n",
    "        # Determine how job was run / n_jobs\n",
    "        n_jobs = get_n_jobs(file)\n",
    "        \n",
    "        # Set in df\n",
    "        timing.loc[len(timing)] = [model, size, is_b, n_jobs, full.total_seconds(), p_type]\n",
    "        \n",
    "    return timing\n",
    "\n",
    "def set_y(up_to=1):\n",
    "    \n",
    "    plt.ylabel('Time to run 5-fold evaluation')\n",
    "    \n",
    "    if up_to == 1:\n",
    "        \n",
    "        plt.yticks([3600, 18000, 36000, 54000, 72000, 86400],\n",
    "                   ['1 Hour', '5 Hours', '10 Hours',\n",
    "                    '15 Hours', '20 Hours', '1 Day'])\n",
    "        \n",
    "    elif up_to == '5 hours':\n",
    "        \n",
    "        plt.yticks([60, 3600, 3600*2, 3600*3, 3600*4, 3600*5],\n",
    "                   ['1 Minute', '1 Hour',\n",
    "                    '2 Hours', '3 Hours',\n",
    "                    '4 Hours', '5 Hours'])\n",
    "        plt.ylim(-500, 3600 * 5)\n",
    "        \n",
    "    elif up_to == '6 hours':\n",
    "        \n",
    "        plt.yticks([60, 3600, 3600*2, 3600*3,\n",
    "                    3600*4, 3600*5, 3600*6],\n",
    "                   ['1 Minute', '1 Hour',\n",
    "                    '2 Hours', '3 Hours',\n",
    "                    '4 Hours', '5 Hours', '6 Hours'])\n",
    "        plt.ylim(-500, 3600 * 6)\n",
    "\n",
    "    elif up_to == 4:\n",
    "        \n",
    "        plt.yticks([3600, 36000, 86400,\n",
    "                    86400*2, 86400*3, 86400*4],\n",
    "                    ['1 Hour', '10 Hours', '1 Day', '2 Days',\n",
    "                     '3 Days', '4 Days'])\n",
    "        \n",
    "    elif up_to == 5:\n",
    "        \n",
    "        plt.yticks([3600, 36000, 86400,\n",
    "                    86400*2, 86400*3, 86400*4, 86400*5],\n",
    "                    ['1 Hour', '10 Hours', '1 Day', '2 Days',\n",
    "                     '3 Days', '4 Days', '5 Days'])\n",
    "        \n",
    "        plt.ylim(-500, 86400*6)\n",
    "\n",
    "def plot_6_hours(df, n_jobs=4):\n",
    "    \n",
    "    t_df = df.set_index(['n_jobs']).loc[n_jobs]\n",
    "\n",
    "    g = sns.relplot(\n",
    "        data=t_df, alpha=.5,\n",
    "        x=\"size\", y=\"time\", hue=\"model\",\n",
    "        marker=\"x\", s=50,\n",
    "    )\n",
    "\n",
    "    plt.title('Timing with ' + str(n_jobs) + ' Cores')\n",
    "    set_y(up_to='6 hours')\n",
    "    plt.xlabel('Number of Parcels')\n",
    "\n",
    "    plt.xlim(0, 100)\n",
    "    plt.show()\n",
    "    \n",
    "def plot_5_days(df, n_jobs=4):\n",
    "    \n",
    "    t_df = df.set_index(['n_jobs']).loc[n_jobs]\n",
    "\n",
    "    g = sns.relplot(\n",
    "        data=t_df, alpha=.25,\n",
    "        x=\"size\", y=\"time\", hue=\"model\",\n",
    "        marker=\"x\", s=50,\n",
    "    )\n",
    "\n",
    "    plt.title('Timing with ' + str(n_jobs) + ' Cores')\n",
    "    set_y(up_to=5)\n",
    "    plt.xlabel('Number of Parcels')\n",
    "    plt.show()\n",
    "    "
   ]
  },
  {
   "cell_type": "markdown",
   "metadata": {},
   "source": [
    "# Random Times"
   ]
  },
  {
   "cell_type": "code",
   "execution_count": 8,
   "metadata": {},
   "outputs": [
    {
     "name": "stdout",
     "output_type": "stream",
     "text": [
      "28416 Job Logs found!\n"
     ]
    },
    {
     "data": {
      "image/png": "[encoded data removed]",
      "text/plain": [
       "<Figure size 428.625x360 with 1 Axes>"
      ]
     },
     "metadata": {
      "needs_background": "light"
     },
     "output_type": "display_data"
    },
    {
     "data": {
      "image/png": "[encoded data removed]",
      "text/plain": [
       "<Figure size 428.625x360 with 1 Axes>"
      ]
     },
     "metadata": {
      "needs_background": "light"
     },
     "output_type": "display_data"
    }
   ],
   "source": [
    "parc_sizes = get_parc_sizes(random=True)\n",
    "dr = '../Exp/Job_Logs'\n",
    "timing = get_time_df(dr)\n",
    "\n",
    "plot_5_days(timing, n_jobs=8)\n",
    "plot_5_days(timing, n_jobs=4)"
   ]
  },
  {
   "cell_type": "markdown",
   "metadata": {},
   "source": [
    "# Ensemble Times"
   ]
  },
  {
   "cell_type": "code",
   "execution_count": null,
   "metadata": {},
   "outputs": [],
   "source": [
    "parc_sizes = get_parc_sizes(everything=True)\n",
    "dr = '../Exp/Job_Logs'\n",
    "timing = get_time_df(dr)\n",
    "\n",
    "stacked = timing[timing['p_type'] == 'stacked']\n",
    "voted = timing[timing['p_type'] == 'voted']\n",
    "grid = timing[timing['p_type'] == 'grid']\n",
    "identity = timing[timing['p_type'] == 'identity']"
   ]
  },
  {
   "cell_type": "code",
   "execution_count": null,
   "metadata": {},
   "outputs": [],
   "source": []
  },
  {
   "cell_type": "code",
   "execution_count": null,
   "metadata": {},
   "outputs": [],
   "source": [
    "plot_5_days(stacked, n_jobs=8)"
   ]
  },
  {
   "cell_type": "code",
   "execution_count": null,
   "metadata": {},
   "outputs": [],
   "source": [
    "plot_5_days(voted, n_jobs=4)"
   ]
  },
  {
   "cell_type": "code",
   "execution_count": null,
   "metadata": {},
   "outputs": [],
   "source": [
    "plot_5_days(grid, n_jobs=4)"
   ]
  },
  {
   "cell_type": "code",
   "execution_count": null,
   "metadata": {},
   "outputs": [],
   "source": []
  }
 ],
 "metadata": {
  "kernelspec": {
   "display_name": "Python 3.7.6 64-bit ('home': conda)",
   "language": "python",
   "name": "python37664bithomeconda2aade2e1d0ce4797afe91f4891a59d68"
  },
  "language_info": {
   "codemirror_mode": {
    "name": "ipython",
    "version": 3
   },
   "file_extension": ".py",
   "mimetype": "text/x-python",
   "name": "python",
   "nbconvert_exporter": "python",
   "pygments_lexer": "ipython3",
   "version": "3.7.6"
  }
 },
 "nbformat": 4,
 "nbformat_minor": 4
}
