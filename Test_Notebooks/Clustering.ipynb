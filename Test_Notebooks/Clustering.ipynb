{
 "cells": [
  {
   "cell_type": "code",
   "execution_count": 1,
   "metadata": {},
   "outputs": [],
   "source": [
    "from BPt import *\n",
    "from sklearn.cluster import FeatureAgglomeration\n",
    "from nilearn.surface import load_surf_data\n",
    "from nilearn.surface import load_surf_mesh\n",
    "import numpy as np\n",
    "import nibabel as nib\n",
    "import nilearn.datasets\n",
    "import os\n",
    "import networkx as nx\n",
    "from sklearn.base import BaseEstimator, TransformerMixin"
   ]
  },
  {
   "cell_type": "code",
   "execution_count": 2,
   "metadata": {},
   "outputs": [],
   "source": [
    "def get_conn(loc):\n",
    "    \n",
    "    mesh = load_surf_mesh(loc)[1]\n",
    "    G = nx.Graph()\n",
    "    \n",
    "    for tri in mesh:\n",
    "        G.add_edge(tri[0], tri[1])\n",
    "        G.add_edge(tri[0], tri[2])\n",
    "        G.add_edge(tri[1], tri[2])\n",
    "        \n",
    "    return nx.adjacency_matrix(G)\n",
    "\n",
    "class SplitFeatureAgglomeration(FeatureAgglomeration):\n",
    "        \n",
    "    def fit(self, X, y=None, **params):\n",
    "        \n",
    "        X = X.reshape(X.shape[0], X.shape[1] // 4, 4)\n",
    "        self.lhs, self.rhs = [], []\n",
    "        for i in range(4):\n",
    "        \n",
    "            self.lhs.append(FeatureAgglomeration(\n",
    "                **self.get_params()).fit(X=X[:,:32492,i], y=y, **params))\n",
    "            self.rhs.append(FeatureAgglomeration(\n",
    "                **self.get_params()).fit(X=X[:,32492:,i], y=y, **params))\n",
    "        \n",
    "    def transform(self, X):\n",
    "        \n",
    "        X = X.reshape(X.shape[0], X.shape[1] // 4, 4)\n",
    "        \n",
    "        X_trans_list = []\n",
    "        for i in range(4):\n",
    "            X_trans_list.append(self.lhs[i].transform(X[:,:32492,i]))\n",
    "            X_trans_list.append(self.rhs[i].transform(X[:,32492:,i]))\n",
    "            \n",
    "        X_trans = np.hstack(X_trans_list)\n",
    "            \n",
    "        return X_trans"
   ]
  },
  {
   "cell_type": "code",
   "execution_count": 3,
   "metadata": {},
   "outputs": [
    {
     "name": "stdout",
     "output_type": "stream",
     "text": [
      "ML object loaded from save!\n"
     ]
    }
   ],
   "source": [
    "standard_mesh_loc = '../raw/standard_mesh_atlases/'\n",
    "loc = os.path.join(standard_mesh_loc, 'L.sphere.32k_fs_LR.surf.gii')\n",
    "con = get_conn(loc)\n",
    "\n",
    "ML = Load('../data/Base_consol.ML')\n",
    "ML.log_dr = None\n",
    "ML.n_jobs = 1"
   ]
  },
  {
   "cell_type": "code",
   "execution_count": null,
   "metadata": {},
   "outputs": [],
   "source": []
  },
  {
   "cell_type": "code",
   "execution_count": 4,
   "metadata": {},
   "outputs": [
    {
     "name": "stdout",
     "output_type": "stream",
     "text": [
      "Model(obj='ridge')\n",
      "Passed default model, setting to: None\n"
     ]
    }
   ],
   "source": [
    "loader = Loader('identity')\n",
    "\n",
    "feat_agg = SplitFeatureAgglomeration(connectivity=con, n_clusters=50, compute_full_tree=True, linkage='ward')\n",
    "transformer = Transformer(feat_agg)\n",
    "\n",
    "pipeline = Model_Pipeline(loaders=loader,\n",
    "                          imputers=None,\n",
    "                          transformers=transformer)\n",
    "\n",
    "ps = Problem_Spec(target=0)"
   ]
  },
  {
   "cell_type": "code",
   "execution_count": null,
   "metadata": {},
   "outputs": [
    {
     "name": "stderr",
     "output_type": "stream",
     "text": [
      "Repeats:   0%|          | 0/1 [00:00<?, ?it/s]\n",
      "Folds:   0%|          | 0/5 [00:00<?, ?it/s]\u001b[A"
     ]
    },
    {
     "name": "stdout",
     "output_type": "stream",
     "text": [
      "problem_spec problem_type ==  default, setting as: regression\n",
      "problem_spec scorer ==  default, setting as: ['explained_variance', 'neg_mean_squared_error']\n",
      "Model_Pipeline\n",
      "--------------\n",
      "loaders=\\\n",
      "Loader(obj='identity')\n",
      "\n",
      "transformers=\\\n",
      "Transformer(obj=SplitFeatureAgglomeration(compute_full_tree=True,\n",
      "                                          connectivity=<32492x32492 sparse matrix of type '<class 'numpy.longlong'>'\n",
      "\twith 194940 stored elements in Compressed Sparse Row format>,\n",
      "                                          n_clusters=50))\n",
      "\n",
      "model=\\\n",
      "Model(obj='ridge')\n",
      "\n",
      "param_search=\\\n",
      "None\n",
      "\n",
      "\n",
      "\n",
      "Problem_Spec\n",
      "------------\n",
      "problem_type = regression\n",
      "target = anthro_height_calc\n",
      "scorer = ['explained_variance', 'neg_mean_squared_error']\n",
      "weight_scorer = False\n",
      "scope = all\n",
      "subjects = all\n",
      "len(subjects) = 9432 (before overlap w/ train/test subjects)\n",
      "n_jobs = 1\n",
      "random_state = 5\n",
      "\n",
      "Evaluate Params\n",
      "---------------\n",
      "splits = 5\n",
      "n_repeats = 1\n",
      "cv = default\n",
      "train_subjects = train\n",
      "feat_importances = None\n",
      "len(train_subjects) = 9432 (before overlap w/ problem_spec.subjects)\n",
      "run_name = ridge\n",
      "\n",
      "\n",
      "Repeat: 1/1 Fold: 1/5\n"
     ]
    },
    {
     "name": "stderr",
     "output_type": "stream",
     "text": [
      "Repeats:   0%|          | 0/1 [00:00<?, ?it/s]\n",
      "Folds:   0%|          | 0/5 [00:00<?, ?it/s]\u001b[A"
     ]
    },
    {
     "name": "stdout",
     "output_type": "stream",
     "text": [
      "Train shape: (7539, 2)\n",
      "Val/Test shape: (1885, 2)\n",
      "Making predictions for additional target NaN subjects: 2\n",
      "[Pipeline] .......... (step 1 of 3) Processing identity, total= 1.2min\n",
      "[Pipeline] .......... (step 2 of 3) Processing Custom 0, total= 2.9min\n",
      "[Pipeline] ... (step 3 of 3) Processing ridge regressor, total=   0.1s\n",
      "Time Elapsed: 00:04:28\n",
      "val explained_variance: 0.04249796872170497\n",
      "val neg_mean_squared_error: -9.661683069645614\n",
      "\n",
      "Repeat: 1/1 Fold: 2/5\n"
     ]
    },
    {
     "name": "stderr",
     "output_type": "stream",
     "text": [
      "Repeats:   0%|          | 0/1 [04:28<?, ?it/s]\n",
      "Folds:  20%|██        | 1/5 [04:28<17:53, 268.44s/it]\u001b[A"
     ]
    },
    {
     "name": "stdout",
     "output_type": "stream",
     "text": [
      "Train shape: (7538, 2)\n",
      "Val/Test shape: (1886, 2)\n",
      "Making predictions for additional target NaN subjects: 1\n",
      "[Pipeline] .......... (step 1 of 3) Processing identity, total= 1.1min\n"
     ]
    }
   ],
   "source": [
    "results = ML.Evaluate(pipeline, ps, return_models=True, splits=5, n_repeats=1)"
   ]
  },
  {
   "cell_type": "markdown",
   "metadata": {},
   "source": [
    "Could make a custom transformer, that builds in the loading that would allow caching the full X input, as Data Files, and load the clustered... OR... skip altogether for this paper."
   ]
  }
 ],
 "metadata": {
  "kernelspec": {
   "display_name": "Python 3.7.6 64-bit ('home': conda)",
   "language": "python",
   "name": "python37664bithomeconda2aade2e1d0ce4797afe91f4891a59d68"
  },
  "language_info": {
   "codemirror_mode": {
    "name": "ipython",
    "version": 3
   },
   "file_extension": ".py",
   "mimetype": "text/x-python",
   "name": "python",
   "nbconvert_exporter": "python",
   "pygments_lexer": "ipython3",
   "version": "3.7.6"
  }
 },
 "nbformat": 4,
 "nbformat_minor": 4
}
