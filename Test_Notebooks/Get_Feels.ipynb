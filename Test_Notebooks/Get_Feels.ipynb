{
 "cells": [
  {
   "cell_type": "code",
   "execution_count": null,
   "metadata": {},
   "outputs": [],
   "source": [
    "import pandas as pd\n",
    "import os\n",
    "import numpy as np\n",
    "import time\n",
    "\n",
    "from BPt import *\n",
    "from BPt.extensions import SurfLabels, SurfMaps\n",
    "from sklearn.linear_model import ElasticNetCV\n",
    "\n",
    "import warnings\n",
    "from sklearn.exceptions import ConvergenceWarning\n",
    "\n",
    "warnings.filterwarnings(\"ignore\", category=ConvergenceWarning)"
   ]
  },
  {
   "cell_type": "code",
   "execution_count": null,
   "metadata": {},
   "outputs": [],
   "source": [
    "param_search = Param_Search(search_type='RandomSearch',\n",
    "                            n_iter=60,\n",
    "                            splits=3,\n",
    "                            n_repeats=1,\n",
    "                            cv=CV(groups='rel_family_id'))\n",
    "\n",
    "elastic = Model('elastic', params=1,\n",
    "                param_search=param_search,\n",
    "                extra_params={'tol': 1e-3})"
   ]
  },
  {
   "cell_type": "code",
   "execution_count": null,
   "metadata": {
    "scrolled": true
   },
   "outputs": [],
   "source": [
    "ML = Load('../data/Base_consol.ML')\n",
    "ML.log_dr = None\n",
    "ML.n_jobs = 16\n",
    "parcel = 'vol-resamp-difumo-1024_prob'\n",
    "\n",
    "\n",
    "rois = SurfMaps(maps = '../parcels/' + parcel + '.npy', strategy='ls')\n",
    "loader = Loader(rois, cache_loc='/home/sage/cache/'+parcel)\n",
    "pipeline = Model_Pipeline(imputers = None,\n",
    "                          loaders = loader,\n",
    "                          scalers = Scaler('robust'),\n",
    "                          model = elastic)\n",
    "\n",
    "results = ML.Evaluate(pipeline,\n",
    "                      Problem_Spec(target=1),\n",
    "                      splits=5,\n",
    "                      n_repeats=1,\n",
    "                      cv=CV(groups='rel_family_id'))\n",
    "\n",
    "\n",
    "rois = SurfMaps(maps = '../parcels/' + parcel + '.npy', strategy='average')\n",
    "loader = Loader(rois, cache_loc='/home/sage/cache/'+parcel+'_average')\n",
    "pipeline = Model_Pipeline(imputers = None,\n",
    "                          loaders = loader,\n",
    "                          scalers = Scaler('robust'),\n",
    "                          model = elastic)\n",
    "\n",
    "results = ML.Evaluate(pipeline,\n",
    "                      Problem_Spec(target=1),\n",
    "                      splits=5,\n",
    "                      n_repeats=1,\n",
    "                      cv=CV(groups='rel_family_id'))"
   ]
  },
  {
   "cell_type": "code",
   "execution_count": null,
   "metadata": {},
   "outputs": [],
   "source": [
    "stop\n",
    "\n",
    "64, ls - 0.1104507335298468\n",
    "64, wa - 0.1081314501079412\n",
    "\n",
    "128, ls - 0.1456198931372817\n",
    "128, wa - 0.1468823524777711\n",
    "\n",
    "256, ls - 0.1581170657384047\n",
    "256, wa - 0.1583927824602895\n",
    "\n",
    "512, ls - 0.15258950415716147\n",
    "512, wa - 0.1644101551534995\n"
   ]
  },
  {
   "cell_type": "code",
   "execution_count": null,
   "metadata": {},
   "outputs": [],
   "source": [
    "\n",
    "i = 9, 94 for 256"
   ]
  },
  {
   "cell_type": "code",
   "execution_count": null,
   "metadata": {},
   "outputs": [],
   "source": []
  },
  {
   "cell_type": "code",
   "execution_count": null,
   "metadata": {},
   "outputs": [],
   "source": []
  },
  {
   "cell_type": "code",
   "execution_count": null,
   "metadata": {},
   "outputs": [],
   "source": [
    "def get_p_model(parcel):\n",
    "    \n",
    "    param_search = Param_Search(search_type='RandomSearch',\n",
    "                                n_iter=60,\n",
    "                                splits=3,\n",
    "                                n_repeats=1,\n",
    "                                cv=CV(groups='rel_family_id'))\n",
    "\n",
    "    elastic = Model('elastic', params=1,\n",
    "                    param_search=param_search,\n",
    "                    extra_params={'tol': 1e-3})\n",
    "\n",
    "    rois = SurfLabels(labels = 'parcels/' + parcel + '.npy')\n",
    "    loader = Loader(rois, cache_loc='/home/sage/cache/'+parcel)\n",
    "\n",
    "    pipeline = Model_Pipeline(imputers = None,\n",
    "                              loaders = loader,\n",
    "                              scalers = Scaler('robust'),\n",
    "                              model = elastic)\n",
    "\n",
    "    return Model(pipeline)"
   ]
  },
  {
   "cell_type": "code",
   "execution_count": null,
   "metadata": {
    "scrolled": false
   },
   "outputs": [],
   "source": [
    "ML = Load('data/Base.ML')\n",
    "ML.n_jobs = 16\n",
    "\n",
    "stack_param_search = Param_Search(search_type='RandomSearch',\n",
    "                                  n_iter=60,\n",
    "                                  splits=3,\n",
    "                                  n_repeats=1)\n",
    "stack_model = Model('elastic', params=1, param_search=stack_param_search)\n",
    "\n",
    "stack_splits = CV_Splits(cv=CV(groups='rel_family_id'), splits=5, n_repeats=1)\n",
    "\n",
    "p1 = get_p_model('random_1000_0')\n",
    "p2 = get_p_model('random_1000_1')\n",
    "p3 = get_p_model('random_1000_2')\n",
    "p4 = get_p_model('random_1000_3')\n",
    "p5 = get_p_model('random_1000_4')\n",
    "\n",
    "stacking_ensemble = Ensemble(obj = \"stacking regressor\",\n",
    "                             models = [p1, p2, p3, p4, p5],\n",
    "                             cv_splits = stack_splits,\n",
    "                             base_model = stack_model,\n",
    "                             n_jobs_type = 'models')\n",
    "\n",
    "pipeline = Model_Pipeline(imputers=None,\n",
    "                          model=stacking_ensemble)"
   ]
  },
  {
   "cell_type": "code",
   "execution_count": null,
   "metadata": {
    "scrolled": false
   },
   "outputs": [],
   "source": [
    "results = ML.Evaluate(pipeline, Problem_Spec(target=1), splits=5, n_repeats=1, cv=CV(groups='rel_family_id'))"
   ]
  },
  {
   "cell_type": "code",
   "execution_count": null,
   "metadata": {},
   "outputs": [],
   "source": []
  }
 ],
 "metadata": {
  "kernelspec": {
   "display_name": "Python 3.7.6 64-bit ('home': conda)",
   "language": "python",
   "name": "python37664bithomeconda2aade2e1d0ce4797afe91f4891a59d68"
  },
  "language_info": {
   "codemirror_mode": {
    "name": "ipython",
    "version": 3
   },
   "file_extension": ".py",
   "mimetype": "text/x-python",
   "name": "python",
   "nbconvert_exporter": "python",
   "pygments_lexer": "ipython3",
   "version": "3.7.6"
  }
 },
 "nbformat": 4,
 "nbformat_minor": 4
}
