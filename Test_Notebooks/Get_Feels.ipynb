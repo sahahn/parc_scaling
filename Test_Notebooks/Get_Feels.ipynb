{
 "cells": [
  {
   "cell_type": "code",
   "execution_count": null,
   "metadata": {},
   "outputs": [],
   "source": [
    "import pandas as pd\n",
    "import os\n",
    "import numpy as np\n",
    "import time\n",
    "\n",
    "from BPt import *\n",
    "from BPt.extensions import SurfLabels, SurfMaps\n",
    "from sklearn.linear_model import ElasticNetCV\n",
    "\n",
    "import nevergrad as ng\n",
    "import warnings\n",
    "from sklearn.exceptions import ConvergenceWarning\n",
    "\n",
    "warnings.filterwarnings(\"ignore\", category=ConvergenceWarning)"
   ]
  },
  {
   "cell_type": "code",
   "execution_count": null,
   "metadata": {},
   "outputs": [],
   "source": [
    "def get_l_model(parcel):\n",
    "    \n",
    "    param_search = Param_Search(search_type='TwoPointsDE',\n",
    "                                n_iter=180,\n",
    "                                splits=.25,\n",
    "                                n_repeats=1,\n",
    "                                cv=CV(groups='rel_family_id'))\n",
    "    \n",
    "\n",
    "    model = Model('light gbm', params=1, param_search=param_search)\n",
    "\n",
    "    rois = SurfLabels(labels = '../extra_random_parcels/' + parcel + '.npy')\n",
    "    loader = Loader(rois, cache_loc='/home/sage/cache/'+parcel)\n",
    "\n",
    "    pipeline = Model_Pipeline(imputers = None,\n",
    "                              loaders = loader,\n",
    "                              scalers = Scaler('robust'),\n",
    "                              model = model)\n",
    "\n",
    "    return Model(pipeline)"
   ]
  },
  {
   "cell_type": "code",
   "execution_count": null,
   "metadata": {},
   "outputs": [],
   "source": [
    "def get_p_model(parcel):\n",
    "    \n",
    "    param_search = Param_Search(search_type='RandomSearch',\n",
    "                                n_iter=60,\n",
    "                                splits=3,\n",
    "                                n_repeats=1,\n",
    "                                cv=CV(groups='rel_family_id'))\n",
    "\n",
    "    elastic = Model('elastic', params=1,\n",
    "                    param_search=param_search,\n",
    "                    extra_params={'tol': 1e-3})\n",
    "\n",
    "    rois = SurfLabels(labels = '../extra_random_parcels/' + parcel + '.npy')\n",
    "    loader = Loader(rois, cache_loc='/home/sage/cache/'+parcel)\n",
    "\n",
    "    pipeline = Model_Pipeline(imputers = None,\n",
    "                              loaders = loader,\n",
    "                              scalers = Scaler('robust'),\n",
    "                              model = elastic)\n",
    "\n",
    "    return Model(pipeline)"
   ]
  },
  {
   "cell_type": "code",
   "execution_count": null,
   "metadata": {},
   "outputs": [],
   "source": [
    "def get_voting(parcels):\n",
    "    \n",
    "    models = [get_p_model(parcel) for parcel in parcels]\n",
    "    \n",
    "    voting_ensemble = Ensemble(obj = \"voting regressor\",\n",
    "                               models = models,\n",
    "                               n_jobs_type = 'models')\n",
    "    \n",
    "    pipeline = Model_Pipeline(imputers=None,\n",
    "                              model=voting_ensemble)\n",
    "    \n",
    "    return pipeline\n",
    "\n",
    "def get_stacking(parcels):\n",
    "    \n",
    "    stack_param_search = Param_Search(search_type='RandomSearch',\n",
    "                                      n_iter=60,\n",
    "                                      splits=3,\n",
    "                                      n_repeats=1)\n",
    "    \n",
    "    stack_model = Model('ridge', params=1, param_search=stack_param_search)\n",
    "\n",
    "    stack_splits = CV_Splits(cv=CV(groups='rel_family_id'), splits=3, n_repeats=1)\n",
    "    \n",
    "    models = [get_p_model(parcel) for parcel in parcels]\n",
    "\n",
    "    stacking_ensemble = Ensemble(obj = \"stacking regressor\",\n",
    "                                 models = models,\n",
    "                                 cv_splits = stack_splits,\n",
    "                                 base_model = stack_model,\n",
    "                                 n_jobs_type = 'models')\n",
    "\n",
    "    pipeline = Model_Pipeline(imputers=None,\n",
    "                              model=stacking_ensemble)\n",
    "    \n",
    "    return pipeline\n",
    "\n",
    "def get_loader(parcel, scope):\n",
    "\n",
    "    rois = SurfLabels(labels = '../extra_random_parcels/' + parcel + '.npy')\n",
    "    return Loader(rois, cache_loc='/home/sage/cache/'+parcel, scope=scope)\n",
    "\n",
    "def get_stacking_alt(parcels, search_type='RandomSearch', n_iter=60):\n",
    "    \n",
    "    \n",
    "    cv = CV(groups='rel_family_id')\n",
    "    \n",
    "    param_search = Param_Search(search_type=search_type,\n",
    "                                n_iter=n_iter,\n",
    "                                splits=3,\n",
    "                                n_repeats=1)\n",
    "    \n",
    "    models = [Model('elastic', params=1, extra_params={'tol': 1e-3}, scope=str(i+1))\n",
    "              for i in range(len(parcels))]\n",
    "\n",
    "    stacking_ensemble = Ensemble(obj = \"stacking regressor\",\n",
    "                                 models = models,\n",
    "                                 cv_splits = CV_Splits(cv=cv, splits=3, n_repeats=1),\n",
    "                                 base_model = Model('ridge', params=1),\n",
    "                                 param_search=param_search)\n",
    "\n",
    "    loaders = [get_loader(parcel, str(i+1)) for i, parcel in enumerate(parcels)]\n",
    "               \n",
    "    pipeline = Model_Pipeline(imputers=None,\n",
    "                              loaders=loaders,\n",
    "                              model=stacking_ensemble)\n",
    "    \n",
    "    return pipeline\n",
    "\n",
    "\n",
    "def evaluate(pipeline, base_dtype='float32', target=0):\n",
    "    \n",
    "    return ML.Evaluate(pipeline,\n",
    "                       Problem_Spec(target=target),\n",
    "                       splits=5,\n",
    "                       n_repeats=1,\n",
    "                       cv=CV(groups='rel_family_id'),\n",
    "                       only_fold=0,\n",
    "                       base_dtype=base_dtype)"
   ]
  },
  {
   "cell_type": "code",
   "execution_count": null,
   "metadata": {},
   "outputs": [],
   "source": [
    "def eval_choice(choices, search_type='RandomSearch', n_iter=180):\n",
    "    \n",
    "    param_search = Param_Search(search_type=search_type,\n",
    "                                n_iter=n_iter,\n",
    "                                splits=3,\n",
    "                                n_repeats=1)\n",
    "    \n",
    "    # Init w/ whatever\n",
    "    roi = SurfLabels(labels=choices[0])\n",
    "    \n",
    "    loader = Loader(roi,\n",
    "                    params={'labels': ng.p.Choice(choices)},\n",
    "                    cache_loc='/home/sage/cache/search_test')\n",
    "    \n",
    "    # Elastic net\n",
    "    model = Model('elastic', params=1, extra_params={'tol': 1e-3})\n",
    "    \n",
    "    pipeline = Model_Pipeline(imputers=None,\n",
    "                              loaders=loader,\n",
    "                              model=model,\n",
    "                              scalers=Scaler('robust'),\n",
    "                              param_search=param_search)\n",
    "    \n",
    "    # Eval\n",
    "    evaluate(pipeline)"
   ]
  },
  {
   "cell_type": "markdown",
   "metadata": {},
   "source": [
    "09:26\n",
    "38:45\n",
    "\n",
    "Scorer:  matthews\n",
    "Mean Validation score:  0.5562196772456983\n",
    "Std in Validation score:  0.0\n",
    "\n",
    "Scorer:  roc_auc\n",
    "Mean Validation score:  0.8673422488518034\n",
    "Std in Validation score:  0.0\n",
    "\n",
    "Scorer:  balanced_accuracy\n",
    "Mean Validation score:  0.7780889467083174\n",
    "Std in Validation score:  0.0\n"
   ]
  },
  {
   "cell_type": "code",
   "execution_count": null,
   "metadata": {},
   "outputs": [],
   "source": [
    "stop"
   ]
  },
  {
   "cell_type": "markdown",
   "metadata": {},
   "source": [
    "### Parcel as a hyper-parameter"
   ]
  },
  {
   "cell_type": "code",
   "execution_count": null,
   "metadata": {},
   "outputs": [],
   "source": [
    "ML = Load('../data/Base_consol.ML')\n",
    "ML.n_jobs = 8\n",
    "choices = ['../extra_random_parcels/random_300_' + str(i) + '.npy' for i in range(10)]"
   ]
  },
  {
   "cell_type": "code",
   "execution_count": null,
   "metadata": {
    "scrolled": true
   },
   "outputs": [],
   "source": [
    "ML = Load('../data/Base_consol.ML')\n",
    "\n",
    "param_search = Param_Search(search_type='RandomSearch',\n",
    "                            n_iter=60,\n",
    "                            splits=3,\n",
    "                            n_repeats=1)\n",
    "\n",
    "roi = SurfLabels(labels='../extra_random_parcels/random_100_0.npy')\n",
    "loader = Loader(roi, params={'labels': ng.p.Choice(choices)}, cache_loc='/home/sage/cache/search_test')\n",
    "\n",
    "\n",
    "model = Model('elastic', params=1, extra_params={'tol': 1e-3}, param_search=param_search)\n",
    "\n",
    "pipeline = Model_Pipeline(loaders=loader,\n",
    "                          model=model,\n",
    "                          scalers=Scaler('robust'),\n",
    "                          param_search=Param_Search('grid'))\n",
    "\n",
    "evaluate(pipeline)"
   ]
  },
  {
   "cell_type": "code",
   "execution_count": null,
   "metadata": {
    "scrolled": true
   },
   "outputs": [],
   "source": [
    "eval_choice(choices, search_type='RandomSearch', n_iter=360)"
   ]
  },
  {
   "cell_type": "code",
   "execution_count": null,
   "metadata": {
    "scrolled": true
   },
   "outputs": [],
   "source": [
    "eval_choice(choices, search_type='TwoPointsDE', n_iter=360)"
   ]
  },
  {
   "cell_type": "code",
   "execution_count": null,
   "metadata": {},
   "outputs": [],
   "source": []
  },
  {
   "cell_type": "code",
   "execution_count": null,
   "metadata": {},
   "outputs": [],
   "source": []
  },
  {
   "cell_type": "code",
   "execution_count": null,
   "metadata": {},
   "outputs": [],
   "source": [
    "stop"
   ]
  },
  {
   "cell_type": "code",
   "execution_count": null,
   "metadata": {},
   "outputs": [],
   "source": [
    "ML = Load('../data/Base_consol.ML')\n",
    "ML.n_jobs = 8\n",
    "parcels = ['random_100_' + str(i) for i in range(10)]"
   ]
  },
  {
   "cell_type": "code",
   "execution_count": null,
   "metadata": {},
   "outputs": [],
   "source": [
    "pipeline = get_voting(parcels)\n",
    "results = evaluate(pipeline)"
   ]
  },
  {
   "cell_type": "code",
   "execution_count": null,
   "metadata": {
    "scrolled": true
   },
   "outputs": [],
   "source": [
    "pipeline = get_stacking(parcels)\n",
    "results = evaluate(pipeline)"
   ]
  },
  {
   "cell_type": "code",
   "execution_count": null,
   "metadata": {},
   "outputs": [],
   "source": [
    "parcels = ['random_200_' + str(i) for i in range(10)]\n",
    "pipeline = get_voting(parcels)\n",
    "results = evaluate(pipeline)"
   ]
  },
  {
   "cell_type": "code",
   "execution_count": null,
   "metadata": {},
   "outputs": [],
   "source": [
    "pipeline = get_stacking(parcels)\n",
    "results = evaluate(pipeline)"
   ]
  },
  {
   "cell_type": "code",
   "execution_count": null,
   "metadata": {},
   "outputs": [],
   "source": [
    "parcels = ['random_300_' + str(i) for i in range(10)]\n",
    "pipeline = get_voting(parcels)\n",
    "results = evaluate(pipeline)"
   ]
  },
  {
   "cell_type": "code",
   "execution_count": null,
   "metadata": {},
   "outputs": [],
   "source": [
    "pipeline = get_stacking(parcels)\n",
    "results = evaluate(pipeline)"
   ]
  },
  {
   "cell_type": "code",
   "execution_count": null,
   "metadata": {},
   "outputs": [],
   "source": [
    "ML = Load('../data/Base_consol.ML')\n",
    "ML.n_jobs = 8\n",
    "\n",
    "parcels = ['random_' + str(i+1) + '00_0' for i in range(10)]"
   ]
  },
  {
   "cell_type": "code",
   "execution_count": null,
   "metadata": {},
   "outputs": [],
   "source": [
    "pipeline = get_voting(parcels)\n",
    "results = evaluate(pipeline)"
   ]
  },
  {
   "cell_type": "code",
   "execution_count": null,
   "metadata": {},
   "outputs": [],
   "source": [
    "pipeline = get_stacking(parcels)\n",
    "results = evaluate(pipeline)"
   ]
  },
  {
   "cell_type": "markdown",
   "metadata": {},
   "source": [
    "Keep for now~~~"
   ]
  },
  {
   "cell_type": "code",
   "execution_count": null,
   "metadata": {},
   "outputs": [],
   "source": [
    "ML = Load('../data/Base_consol.ML')\n",
    "ML.n_jobs = 8\n",
    "\n",
    "ML.all_data['1'] = ML.all_data['consolidated'].copy()\n",
    "ML.all_data['2'] = ML.all_data['consolidated'].copy()\n",
    "ML.all_data['3'] = ML.all_data['consolidated'].copy()\n",
    "ML.all_data.drop('consolidated', axis=1, inplace=True)\n",
    "ML.Data_Scopes.data_keys = ['1', '2', '3']\n",
    "\n",
    "pipeline = get_stacking_alt(parcels, search_type='RandomSearch', n_iter=180)\n",
    "results = evaluate(pipeline)"
   ]
  }
 ],
 "metadata": {
  "kernelspec": {
   "display_name": "Python 3.7.6 64-bit ('home': conda)",
   "language": "python",
   "name": "python37664bithomeconda2aade2e1d0ce4797afe91f4891a59d68"
  },
  "language_info": {
   "codemirror_mode": {
    "name": "ipython",
    "version": 3
   },
   "file_extension": ".py",
   "mimetype": "text/x-python",
   "name": "python",
   "nbconvert_exporter": "python",
   "pygments_lexer": "ipython3",
   "version": "3.7.6"
  }
 },
 "nbformat": 4,
 "nbformat_minor": 4
}
