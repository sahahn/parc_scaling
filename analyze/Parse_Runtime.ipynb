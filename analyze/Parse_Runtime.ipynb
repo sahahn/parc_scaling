{
 "cells": [
  {
   "cell_type": "code",
   "execution_count": 1,
   "id": "rolled-digest",
   "metadata": {},
   "outputs": [],
   "source": [
    "import os\n",
    "import datetime\n",
    "from datetime import timedelta\n",
    "import numpy as np\n",
    "from funcs import get_parc_sizes, extract\n",
    "import pandas as pd\n",
    "import seaborn as sns\n",
    "import matplotlib.pyplot as plt\n",
    "import matplotlib"
   ]
  },
  {
   "cell_type": "code",
   "execution_count": null,
   "id": "official-noise",
   "metadata": {},
   "outputs": [],
   "source": []
  },
  {
   "cell_type": "code",
   "execution_count": 2,
   "id": "interesting-fishing",
   "metadata": {},
   "outputs": [],
   "source": [
    "def timeTicks(y, pos):                                                                                                                                                                                                                                                         \n",
    "    d = datetime.timedelta(seconds=y)                                                                                                                                                                                                                                          \n",
    "    return str(d)\n",
    "\n",
    "def set_y_time(ax):\n",
    "    formatter = matplotlib.ticker.FuncFormatter(timeTicks)                                                                                                                                                                                                                         \n",
    "    ax.yaxis.set_major_formatter(formatter)\n",
    "    \n",
    "def round_size(df, r):\n",
    "    df['size'] = (df['size'] * 1/r).astype(int) * r\n",
    "    return df\n",
    "\n",
    "def proc_file(file, dr):\n",
    "\n",
    "    full_path = os.path.join(dr, file)\n",
    "\n",
    "    # Open file\n",
    "    with open(full_path, 'r') as f:\n",
    "        txt = f.readlines()\n",
    "\n",
    "    # Check for multiple runs\n",
    "    is_new_run = ['run  ' in line for line in txt]\n",
    "\n",
    "    # Multiple run case\n",
    "    if sum(is_new_run) >= 2:\n",
    "        inds = list(np.where(is_new_run)[0]) + [None]\n",
    "\n",
    "        for i in range(len(inds)-1):\n",
    "            add(txt[inds[i]:inds[i+1]])\n",
    "\n",
    "    # Single run case\n",
    "    else:\n",
    "        add(txt)\n",
    "        \n",
    "def proc_dr(dr):\n",
    "\n",
    "    files = os.listdir(dr)\n",
    "    files = [file for file in files if '.out' in file]\n",
    "\n",
    "    for file in files:\n",
    "        proc_file(file, dr)"
   ]
  },
  {
   "cell_type": "code",
   "execution_count": 3,
   "id": "loose-thirty",
   "metadata": {},
   "outputs": [
    {
     "name": "stdout",
     "output_type": "stream",
     "text": [
      "1\n",
      "2\n",
      "3\n",
      "4\n",
      "5\n",
      "6\n"
     ]
    },
    {
     "ename": "ValueError",
     "evalue": "True is not in list",
     "output_type": "error",
     "traceback": [
      "\u001b[0;31m---------------------------------------------------------------------------\u001b[0m",
      "\u001b[0;31mValueError\u001b[0m                                Traceback (most recent call last)",
      "\u001b[0;32m<ipython-input-3-54eaa4cf37fc>\u001b[0m in \u001b[0;36m<module>\u001b[0;34m\u001b[0m\n\u001b[1;32m     21\u001b[0m \u001b[0;32mfor\u001b[0m \u001b[0mi\u001b[0m \u001b[0;32min\u001b[0m \u001b[0mrange\u001b[0m\u001b[0;34m(\u001b[0m\u001b[0;36m1\u001b[0m\u001b[0;34m,\u001b[0m \u001b[0;36m10\u001b[0m\u001b[0;34m)\u001b[0m\u001b[0;34m:\u001b[0m\u001b[0;34m\u001b[0m\u001b[0;34m\u001b[0m\u001b[0m\n\u001b[1;32m     22\u001b[0m     \u001b[0mprint\u001b[0m\u001b[0;34m(\u001b[0m\u001b[0mi\u001b[0m\u001b[0;34m)\u001b[0m\u001b[0;34m\u001b[0m\u001b[0;34m\u001b[0m\u001b[0m\n\u001b[0;32m---> 23\u001b[0;31m     \u001b[0mproc_dr\u001b[0m\u001b[0;34m(\u001b[0m\u001b[0;34mf'../exp/All_Job_Logs/Job_Logs{i}'\u001b[0m\u001b[0;34m)\u001b[0m\u001b[0;34m\u001b[0m\u001b[0;34m\u001b[0m\u001b[0m\n\u001b[0m",
      "\u001b[0;32m<ipython-input-2-63a974b15de8>\u001b[0m in \u001b[0;36mproc_dr\u001b[0;34m(dr)\u001b[0m\n\u001b[1;32m     39\u001b[0m \u001b[0;34m\u001b[0m\u001b[0m\n\u001b[1;32m     40\u001b[0m     \u001b[0;32mfor\u001b[0m \u001b[0mfile\u001b[0m \u001b[0;32min\u001b[0m \u001b[0mfiles\u001b[0m\u001b[0;34m:\u001b[0m\u001b[0;34m\u001b[0m\u001b[0;34m\u001b[0m\u001b[0m\n\u001b[0;32m---> 41\u001b[0;31m         \u001b[0mproc_file\u001b[0m\u001b[0;34m(\u001b[0m\u001b[0mfile\u001b[0m\u001b[0;34m,\u001b[0m \u001b[0mdr\u001b[0m\u001b[0;34m)\u001b[0m\u001b[0;34m\u001b[0m\u001b[0;34m\u001b[0m\u001b[0m\n\u001b[0m",
      "\u001b[0;32m<ipython-input-2-63a974b15de8>\u001b[0m in \u001b[0;36mproc_file\u001b[0;34m(file, dr)\u001b[0m\n\u001b[1;32m     31\u001b[0m     \u001b[0;31m# Single run case\u001b[0m\u001b[0;34m\u001b[0m\u001b[0;34m\u001b[0m\u001b[0;34m\u001b[0m\u001b[0m\n\u001b[1;32m     32\u001b[0m     \u001b[0;32melse\u001b[0m\u001b[0;34m:\u001b[0m\u001b[0;34m\u001b[0m\u001b[0;34m\u001b[0m\u001b[0m\n\u001b[0;32m---> 33\u001b[0;31m         \u001b[0madd\u001b[0m\u001b[0;34m(\u001b[0m\u001b[0mtxt\u001b[0m\u001b[0;34m)\u001b[0m\u001b[0;34m\u001b[0m\u001b[0;34m\u001b[0m\u001b[0m\n\u001b[0m\u001b[1;32m     34\u001b[0m \u001b[0;34m\u001b[0m\u001b[0m\n\u001b[1;32m     35\u001b[0m \u001b[0;32mdef\u001b[0m \u001b[0mproc_dr\u001b[0m\u001b[0;34m(\u001b[0m\u001b[0mdr\u001b[0m\u001b[0;34m)\u001b[0m\u001b[0;34m:\u001b[0m\u001b[0;34m\u001b[0m\u001b[0;34m\u001b[0m\u001b[0m\n",
      "\u001b[0;32m<ipython-input-3-54eaa4cf37fc>\u001b[0m in \u001b[0;36madd\u001b[0;34m(file_txt)\u001b[0m\n\u001b[1;32m      9\u001b[0m \u001b[0;31m# Helper function\u001b[0m\u001b[0;34m\u001b[0m\u001b[0;34m\u001b[0m\u001b[0;34m\u001b[0m\u001b[0m\n\u001b[1;32m     10\u001b[0m \u001b[0;32mdef\u001b[0m \u001b[0madd\u001b[0m\u001b[0;34m(\u001b[0m\u001b[0mfile_txt\u001b[0m\u001b[0;34m)\u001b[0m\u001b[0;34m:\u001b[0m\u001b[0;34m\u001b[0m\u001b[0;34m\u001b[0m\u001b[0m\n\u001b[0;32m---> 11\u001b[0;31m     \u001b[0mex\u001b[0m \u001b[0;34m=\u001b[0m \u001b[0mextract\u001b[0m\u001b[0;34m(\u001b[0m\u001b[0mfile_txt\u001b[0m\u001b[0;34m,\u001b[0m \u001b[0mparc_sizes\u001b[0m\u001b[0;34m)\u001b[0m\u001b[0;34m\u001b[0m\u001b[0;34m\u001b[0m\u001b[0m\n\u001b[0m\u001b[1;32m     12\u001b[0m     \u001b[0;32mif\u001b[0m \u001b[0mex\u001b[0m \u001b[0;32mis\u001b[0m \u001b[0;32mnot\u001b[0m \u001b[0;32mNone\u001b[0m\u001b[0;34m:\u001b[0m\u001b[0;34m\u001b[0m\u001b[0;34m\u001b[0m\u001b[0m\n\u001b[1;32m     13\u001b[0m         \u001b[0mtiming\u001b[0m\u001b[0;34m.\u001b[0m\u001b[0mloc\u001b[0m\u001b[0;34m[\u001b[0m\u001b[0mlen\u001b[0m\u001b[0;34m(\u001b[0m\u001b[0mtiming\u001b[0m\u001b[0;34m)\u001b[0m\u001b[0;34m]\u001b[0m \u001b[0;34m=\u001b[0m \u001b[0mlist\u001b[0m\u001b[0;34m(\u001b[0m\u001b[0mex\u001b[0m\u001b[0;34m)\u001b[0m\u001b[0;34m\u001b[0m\u001b[0;34m\u001b[0m\u001b[0m\n",
      "\u001b[0;32m~/parc_scaling/analyze/funcs.py\u001b[0m in \u001b[0;36mextract\u001b[0;34m(txt, parc_sizes, skip_svm)\u001b[0m\n\u001b[1;32m    201\u001b[0m \u001b[0;34m\u001b[0m\u001b[0m\n\u001b[1;32m    202\u001b[0m     \u001b[0;31m# Get base run info\u001b[0m\u001b[0;34m\u001b[0m\u001b[0;34m\u001b[0m\u001b[0;34m\u001b[0m\u001b[0m\n\u001b[0;32m--> 203\u001b[0;31m     \u001b[0mn_strip\u001b[0m \u001b[0;34m=\u001b[0m \u001b[0mextract_run_info\u001b[0m\u001b[0;34m(\u001b[0m\u001b[0mtxt\u001b[0m\u001b[0;34m)\u001b[0m\u001b[0;34m.\u001b[0m\u001b[0msplit\u001b[0m\u001b[0;34m(\u001b[0m\u001b[0;34m'---'\u001b[0m\u001b[0;34m)\u001b[0m\u001b[0;34m\u001b[0m\u001b[0;34m\u001b[0m\u001b[0m\n\u001b[0m\u001b[1;32m    204\u001b[0m     \u001b[0mparcel\u001b[0m\u001b[0;34m,\u001b[0m \u001b[0mmodel\u001b[0m \u001b[0;34m=\u001b[0m \u001b[0mn_strip\u001b[0m\u001b[0;34m[\u001b[0m\u001b[0;36m0\u001b[0m\u001b[0;34m]\u001b[0m\u001b[0;34m,\u001b[0m \u001b[0mn_strip\u001b[0m\u001b[0;34m[\u001b[0m\u001b[0;36m1\u001b[0m\u001b[0;34m]\u001b[0m\u001b[0;34m\u001b[0m\u001b[0;34m\u001b[0m\u001b[0m\n\u001b[1;32m    205\u001b[0m     \u001b[0mis_b\u001b[0m \u001b[0;34m=\u001b[0m \u001b[0mis_binary\u001b[0m\u001b[0;34m(\u001b[0m\u001b[0mn_strip\u001b[0m\u001b[0;34m[\u001b[0m\u001b[0;36m2\u001b[0m\u001b[0;34m]\u001b[0m\u001b[0;34m)\u001b[0m\u001b[0;34m\u001b[0m\u001b[0;34m\u001b[0m\u001b[0m\n",
      "\u001b[0;32m~/parc_scaling/analyze/funcs.py\u001b[0m in \u001b[0;36mextract_run_info\u001b[0;34m(txt)\u001b[0m\n\u001b[1;32m    191\u001b[0m \u001b[0;34m\u001b[0m\u001b[0m\n\u001b[1;32m    192\u001b[0m     \u001b[0mrun_ind\u001b[0m \u001b[0;34m=\u001b[0m \u001b[0;34m'Running for:'\u001b[0m\u001b[0;34m\u001b[0m\u001b[0;34m\u001b[0m\u001b[0m\n\u001b[0;32m--> 193\u001b[0;31m     \u001b[0mind\u001b[0m \u001b[0;34m=\u001b[0m \u001b[0;34m[\u001b[0m\u001b[0mrun_ind\u001b[0m \u001b[0;32min\u001b[0m \u001b[0mline\u001b[0m \u001b[0;32mfor\u001b[0m \u001b[0mline\u001b[0m \u001b[0;32min\u001b[0m \u001b[0mtxt\u001b[0m\u001b[0;34m]\u001b[0m\u001b[0;34m.\u001b[0m\u001b[0mindex\u001b[0m\u001b[0;34m(\u001b[0m\u001b[0;32mTrue\u001b[0m\u001b[0;34m)\u001b[0m\u001b[0;34m\u001b[0m\u001b[0;34m\u001b[0m\u001b[0m\n\u001b[0m\u001b[1;32m    194\u001b[0m     \u001b[0;32mreturn\u001b[0m \u001b[0mtxt\u001b[0m\u001b[0;34m[\u001b[0m\u001b[0mind\u001b[0m\u001b[0;34m]\u001b[0m\u001b[0;34m.\u001b[0m\u001b[0mreplace\u001b[0m\u001b[0;34m(\u001b[0m\u001b[0mrun_ind\u001b[0m\u001b[0;34m,\u001b[0m \u001b[0;34m''\u001b[0m\u001b[0;34m)\u001b[0m\u001b[0;34m.\u001b[0m\u001b[0mstrip\u001b[0m\u001b[0;34m(\u001b[0m\u001b[0;34m)\u001b[0m\u001b[0;34m\u001b[0m\u001b[0;34m\u001b[0m\u001b[0m\n\u001b[1;32m    195\u001b[0m \u001b[0;34m\u001b[0m\u001b[0m\n",
      "\u001b[0;31mValueError\u001b[0m: True is not in list"
     ]
    }
   ],
   "source": [
    "# Load parc sizes\n",
    "parc_sizes = get_parc_sizes(everything=True)\n",
    "\n",
    "# Init timing df\n",
    "timing = pd.DataFrame(columns=['model', 'size', 'is_b',\n",
    "                               'time', 'p_type',\n",
    "                               'n_jobs', 'n_load_saved'])\n",
    "\n",
    "# Helper function\n",
    "def add(file_txt):\n",
    "    ex = extract(file_txt, parc_sizes)\n",
    "    if ex is not None:\n",
    "        timing.loc[len(timing)] = list(ex)\n",
    "\n",
    "\n",
    "# Special case\n",
    "proc_dr('../exp/All_Job_Logs/Original_Job_Logs_Ignore_SVM')\n",
    "timing.drop(timing[timing['model'] == 'svm'].index, inplace=True)\n",
    "\n",
    "# Process rest, Job_Logs1-9\n",
    "for i in range(1, 10):\n",
    "    print(i)\n",
    "    proc_dr(f'../exp/All_Job_Logs/Job_Logs{i}')"
   ]
  },
  {
   "cell_type": "code",
   "execution_count": null,
   "id": "unique-likelihood",
   "metadata": {},
   "outputs": [],
   "source": [
    "# Gen copy with no load\n",
    "no_load = timing.loc[timing[timing['n_load_saved'] == 0].index]"
   ]
  },
  {
   "cell_type": "code",
   "execution_count": null,
   "id": "noble-timing",
   "metadata": {},
   "outputs": [],
   "source": [
    "timing.shape"
   ]
  },
  {
   "cell_type": "code",
   "execution_count": null,
   "id": "solid-holocaust",
   "metadata": {},
   "outputs": [],
   "source": [
    "no_load.shape"
   ]
  },
  {
   "cell_type": "code",
   "execution_count": null,
   "id": "dramatic-harvard",
   "metadata": {},
   "outputs": [],
   "source": [
    "fig, ax = plt.subplots(figsize=(8, 6))\n",
    "\n",
    "sns.scatterplot(data=no_load, alpha=.2,\n",
    "                x=\"size\", y=\"time\", ax=ax,\n",
    "                hue=\"model\", marker=\"x\", s=50)\n",
    "set_y_time(ax)"
   ]
  },
  {
   "cell_type": "code",
   "execution_count": null,
   "id": "dimensional-mentor",
   "metadata": {},
   "outputs": [],
   "source": [
    "fig, ax = plt.subplots(figsize=(8, 6))\n",
    "sns.violinplot(data=round_size(no_load, 500), cut=0,\n",
    "               x=\"size\", y=\"time\", ax=ax)\n",
    "set_y_time(ax)"
   ]
  },
  {
   "cell_type": "code",
   "execution_count": null,
   "id": "falling-dancing",
   "metadata": {},
   "outputs": [],
   "source": [
    "fig, ax = plt.subplots(figsize=(12, 6))\n",
    "\n",
    "sns.violinplot(data=round_size(no_load, 500),\n",
    "               cut=0,\n",
    "               x=\"size\",\n",
    "               y=\"time\",\n",
    "               ax=ax,\n",
    "               hue=\"model\")\n",
    "\n",
    "set_y_time(ax)"
   ]
  },
  {
   "cell_type": "code",
   "execution_count": null,
   "id": "educated-hollow",
   "metadata": {},
   "outputs": [],
   "source": []
  },
  {
   "cell_type": "code",
   "execution_count": null,
   "id": "detected-folder",
   "metadata": {},
   "outputs": [],
   "source": []
  }
 ],
 "metadata": {
  "kernelspec": {
   "display_name": "Python 3.9.1 64-bit ('bpt': conda)",
   "language": "python",
   "name": "python39164bitbptconda7805b3f5d58e4b658b79cb94739371e6"
  },
  "language_info": {
   "codemirror_mode": {
    "name": "ipython",
    "version": 3
   },
   "file_extension": ".py",
   "mimetype": "text/x-python",
   "name": "python",
   "nbconvert_exporter": "python",
   "pygments_lexer": "ipython3",
   "version": "3.9.1"
  }
 },
 "nbformat": 4,
 "nbformat_minor": 5
}
