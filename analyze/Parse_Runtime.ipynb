{
 "cells": [
  {
   "cell_type": "code",
   "execution_count": 1,
   "id": "rolled-digest",
   "metadata": {},
   "outputs": [],
   "source": [
    "import os\n",
    "import datetime\n",
    "from datetime import timedelta\n",
    "import numpy as np\n",
    "from funcs import get_parc_sizes, extract\n",
    "import pandas as pd\n",
    "import seaborn as sns\n",
    "import matplotlib.pyplot as plt\n",
    "import matplotlib"
   ]
  },
  {
   "cell_type": "code",
   "execution_count": 2,
   "id": "ranking-nerve",
   "metadata": {},
   "outputs": [],
   "source": [
    "def timeTicks(y, pos):                                                                                                                                                                                                                                                         \n",
    "    d = datetime.timedelta(seconds=y)                                                                                                                                                                                                                                          \n",
    "    return str(d)\n",
    "\n",
    "def set_y_time(ax):\n",
    "    formatter = matplotlib.ticker.FuncFormatter(timeTicks)                                                                                                                                                                                                                         \n",
    "    ax.yaxis.set_major_formatter(formatter)\n",
    "    \n",
    "def round_size(df, r):\n",
    "    \n",
    "    df_copy = df.copy(deep=True)\n",
    "    df_copy['size'] = (df_copy['size'] * 1/r).astype(int) * r\n",
    "    return df_copy\n",
    "\n",
    "def proc_file(file, dr):\n",
    "\n",
    "    full_path = os.path.join(dr, file)\n",
    "\n",
    "    # Open file\n",
    "    with open(full_path, 'r') as f:\n",
    "        txt = f.readlines()\n",
    "\n",
    "    # Check for multiple runs\n",
    "    is_new_run = ['run  ' in line for line in txt]\n",
    "\n",
    "    # Multiple run case\n",
    "    if sum(is_new_run) >= 2:\n",
    "        inds = list(np.where(is_new_run)[0]) + [None]\n",
    "\n",
    "        for i in range(len(inds)-1):\n",
    "            add(txt[inds[i]:inds[i+1]])\n",
    "\n",
    "    # Single run case\n",
    "    else:\n",
    "        add(txt)\n",
    "        \n",
    "def proc_dr(dr):\n",
    "\n",
    "    files = os.listdir(dr)\n",
    "    files = [file for file in files if '.out' in file]\n",
    "\n",
    "    for file in files:\n",
    "        try:\n",
    "            proc_file(file, dr)\n",
    "        except:\n",
    "            print('Error with:', file)"
   ]
  },
  {
   "cell_type": "code",
   "execution_count": null,
   "id": "loose-thirty",
   "metadata": {},
   "outputs": [
    {
     "name": "stdout",
     "output_type": "stream",
     "text": [
      "(26382, 7)\n",
      "(51915, 7)\n",
      "(67205, 7)\n",
      "(75794, 7)\n",
      "(88578, 7)\n",
      "(102252, 7)\n",
      "Error with: alternate_2965775.out\n",
      "Error with: alternate_2965768.out\n",
      "Error with: alternate_2965773.out\n",
      "Error with: alternate_2965828.out\n",
      "Error with: alternate_2965671.out\n",
      "Error with: alternate_2965673.out\n",
      "Error with: alternate_2965770.out\n",
      "Error with: alternate_2965777.out\n",
      "Error with: alternate_2965667.out\n",
      "Error with: alternate_2965831.out\n",
      "Error with: alternate_2965772.out\n",
      "Error with: alternate_2965675.out\n",
      "Error with: alternate_2965643.out\n",
      "Error with: alternate_2965676.out\n",
      "Error with: alternate_2965774.out\n",
      "Error with: alternate_2965826.out\n",
      "Error with: alternate_2965829.out\n",
      "Error with: alternate_2965769.out\n",
      "Error with: alternate_2965827.out\n",
      "Error with: alternate_2965765.out\n",
      "Error with: alternate_2965674.out\n",
      "Error with: alternate_2965767.out\n",
      "Error with: alternate_2965825.out\n",
      "Error with: alternate_2965776.out\n",
      "Error with: alternate_2965669.out\n",
      "Error with: alternate_2965766.out\n",
      "Error with: alternate_2965830.out\n",
      "Error with: alternate_2965672.out\n",
      "Error with: alternate_2965668.out\n",
      "Error with: alternate_2965670.out\n",
      "Error with: alternate_2965771.out\n",
      "(105606, 7)\n"
     ]
    }
   ],
   "source": [
    "# Load parc sizes\n",
    "parc_sizes = get_parc_sizes(everything=True)\n",
    "\n",
    "# Init timing df\n",
    "timing = pd.DataFrame(columns=['model', 'size', 'is_b',\n",
    "                               'time', 'p_type',\n",
    "                               'n_jobs', 'n_load_saved'])\n",
    "\n",
    "# Helper function\n",
    "def add(file_txt):\n",
    "    ex = extract(file_txt, parc_sizes)\n",
    "    if ex is not None:\n",
    "        timing.loc[len(timing)] = list(ex)\n",
    "\n",
    "\n",
    "# Special case\n",
    "proc_dr('../exp/All_Job_Logs/Original_Job_Logs_Ignore_SVM')\n",
    "to_remove = timing[timing['model'] == 'svm'].index\n",
    "print(timing.shape)\n",
    "\n",
    "# Process rest, Job_Logs1-9\n",
    "for i in range(1, 10):\n",
    "    proc_dr(f'../exp/All_Job_Logs/Job_Logs{i}')\n",
    "    print(timing.shape)\n",
    "    \n",
    "timing.drop(to_remove, inplace=True)\n",
    "print(timing.shape)"
   ]
  },
  {
   "cell_type": "code",
   "execution_count": null,
   "id": "acquired-billy",
   "metadata": {},
   "outputs": [],
   "source": [
    "timing.to_pickle('timing.pkl')"
   ]
  },
  {
   "cell_type": "code",
   "execution_count": null,
   "id": "interstate-somewhere",
   "metadata": {},
   "outputs": [],
   "source": [
    "# Gen copy with no load\n",
    "no_load = timing.loc[timing[timing['n_load_saved'] == 0].index]\n",
    "no_load.shape"
   ]
  },
  {
   "cell_type": "code",
   "execution_count": null,
   "id": "structured-western",
   "metadata": {},
   "outputs": [],
   "source": [
    "# Just base\n",
    "just_base = timing[timing['p_type'] == 'base']\n",
    "just_base.shape"
   ]
  },
  {
   "cell_type": "code",
   "execution_count": null,
   "id": "molecular-inspection",
   "metadata": {},
   "outputs": [],
   "source": [
    "# Just base 4\n",
    "just_base4 = just_base[just_base['n_jobs'] == 4]\n",
    "just_base4.shape"
   ]
  },
  {
   "cell_type": "code",
   "execution_count": null,
   "id": "activated-tomorrow",
   "metadata": {},
   "outputs": [],
   "source": [
    "# Just base 8\n",
    "just_base8 = just_base[just_base['n_jobs'] == 8]\n",
    "just_base8.shape"
   ]
  },
  {
   "cell_type": "code",
   "execution_count": null,
   "id": "dramatic-harvard",
   "metadata": {},
   "outputs": [],
   "source": [
    "fig, ax = plt.subplots(figsize=(8, 6))\n",
    "\n",
    "sns.scatterplot(data=just_base4, alpha=.2,\n",
    "                x=\"size\", y=\"time\", ax=ax,\n",
    "                hue=\"model\", marker=\"x\", s=50)\n",
    "set_y_time(ax)"
   ]
  },
  {
   "cell_type": "code",
   "execution_count": null,
   "id": "meaningful-timber",
   "metadata": {},
   "outputs": [],
   "source": [
    "fig, ax = plt.subplots(figsize=(12, 6))\n",
    "sns.violinplot(data=round_size(just_base4, 200), cut=0,\n",
    "               x=\"size\", y=\"time\", ax=ax)\n",
    "set_y_time(ax)"
   ]
  },
  {
   "cell_type": "markdown",
   "id": "altered-yemen",
   "metadata": {},
   "source": [
    "## Base"
   ]
  },
  {
   "cell_type": "code",
   "execution_count": null,
   "id": "educated-hollow",
   "metadata": {},
   "outputs": [],
   "source": [
    "fig, ax = plt.subplots(figsize=(16, 6))\n",
    "\n",
    "sns.violinplot(data=round_size(just_base8, 500),\n",
    "               cut=0,\n",
    "               x=\"size\",\n",
    "               y=\"time\",\n",
    "               ax=ax,\n",
    "               hue=\"model\")\n",
    "\n",
    "set_y_time(ax)\n",
    "plt.legend(loc=2)\n",
    "\n",
    "plt.title('Runtimes by Pipeline - 8 Cores')\n",
    "plt.savefig('Figures/runtimes_by_model_8.png', dpi=200, bbox_inches='tight')"
   ]
  },
  {
   "cell_type": "code",
   "execution_count": null,
   "id": "happy-leone",
   "metadata": {},
   "outputs": [],
   "source": [
    "fig, ax = plt.subplots(figsize=(16, 6))\n",
    "\n",
    "sns.violinplot(data=round_size(just_base4, 500),\n",
    "               cut=0,\n",
    "               x=\"size\",\n",
    "               y=\"time\",\n",
    "               ax=ax,\n",
    "               hue=\"model\")\n",
    "\n",
    "set_y_time(ax)\n",
    "plt.legend(loc=2)\n",
    "\n",
    "plt.title('Runtimes by Pipeline - 4 Cores')\n",
    "plt.savefig('Figures/runtimes_by_model_4.png', dpi=200, bbox_inches='tight')"
   ]
  },
  {
   "cell_type": "code",
   "execution_count": null,
   "id": "imperial-ballet",
   "metadata": {},
   "outputs": [],
   "source": []
  },
  {
   "cell_type": "code",
   "execution_count": null,
   "id": "involved-straight",
   "metadata": {},
   "outputs": [],
   "source": []
  }
 ],
 "metadata": {
  "kernelspec": {
   "display_name": "Python 3.9.1 64-bit ('bpt': conda)",
   "language": "python",
   "name": "python39164bitbptconda7805b3f5d58e4b658b79cb94739371e6"
  },
  "language_info": {
   "codemirror_mode": {
    "name": "ipython",
    "version": 3
   },
   "file_extension": ".py",
   "mimetype": "text/x-python",
   "name": "python",
   "nbconvert_exporter": "python",
   "pygments_lexer": "ipython3",
   "version": "3.9.1"
  }
 },
 "nbformat": 4,
 "nbformat_minor": 5
}
