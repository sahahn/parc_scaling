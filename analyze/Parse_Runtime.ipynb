{
 "cells": [
  {
   "cell_type": "code",
   "execution_count": 1,
   "id": "rolled-digest",
   "metadata": {},
   "outputs": [],
   "source": [
    "import os\n",
    "import datetime\n",
    "from datetime import timedelta\n",
    "import numpy as np\n",
    "from funcs import get_parc_sizes, extract\n",
    "import pandas as pd\n",
    "import seaborn as sns\n",
    "import matplotlib.pyplot as plt\n",
    "import matplotlib"
   ]
  },
  {
   "cell_type": "code",
   "execution_count": null,
   "id": "loose-thirty",
   "metadata": {},
   "outputs": [],
   "source": [
    "parc_sizes = get_parc_sizes(everything=True)\n",
    "\n",
    "timing = pd.DataFrame(columns=['model', 'size', 'is_b',\n",
    "                               'time', 'p_type',\n",
    "                               'n_jobs', 'n_load_saved'])\n",
    "\n",
    "dr = '../exp/All_Job_Logs/Job_Logs1'\n",
    "\n",
    "def add(file_txt):\n",
    "    ex = extract(file_txt, parc_sizes)\n",
    "    if ex is not None:\n",
    "        timing.loc[len(timing)] = list(ex)\n",
    "\n",
    "def proc_file(file):\n",
    "\n",
    "    full_path = os.path.join(dr, file)\n",
    "\n",
    "    # Open file\n",
    "    with open(full_path, 'r') as f:\n",
    "        txt = f.readlines()\n",
    "\n",
    "    # Check for multiple runs\n",
    "    is_new_run = ['run  ' in line for line in txt]\n",
    "\n",
    "    # Multiple run case\n",
    "    if sum(is_new_run) >= 2:\n",
    "        inds = list(np.where(is_new_run)[0]) + [None]\n",
    "\n",
    "        for i in range(len(inds)-1):\n",
    "            add(txt[inds[i]:inds[i+1]])\n",
    "\n",
    "    # Single run case\n",
    "    else:\n",
    "        add(txt)\n",
    "        \n",
    "files = os.listdir(dr)\n",
    "files = [file for file in files if '.out' in file]\n",
    "\n",
    "for file in files:\n",
    "    proc_file(file)\n",
    "    \n",
    "# Gen copy with no load\n",
    "no_load = timing.loc[timing[timing['n_load_saved'] == 0].index]"
   ]
  },
  {
   "cell_type": "code",
   "execution_count": null,
   "id": "noble-timing",
   "metadata": {},
   "outputs": [],
   "source": [
    "def timeTicks(y, pos):                                                                                                                                                                                                                                                         \n",
    "    d = datetime.timedelta(seconds=y)                                                                                                                                                                                                                                          \n",
    "    return str(d)\n",
    "\n",
    "def set_y_time(ax):\n",
    "    formatter = matplotlib.ticker.FuncFormatter(timeTicks)                                                                                                                                                                                                                         \n",
    "    ax.yaxis.set_major_formatter(formatter)\n",
    "    \n",
    "def round_size(df, r):\n",
    "    df['size'] = (df['size'] * 1/r).astype(int) * r\n",
    "    return df"
   ]
  },
  {
   "cell_type": "code",
   "execution_count": null,
   "id": "dramatic-harvard",
   "metadata": {},
   "outputs": [],
   "source": [
    "fig, ax = plt.subplots(figsize=(8, 6))\n",
    "\n",
    "sns.scatterplot(data=no_load, alpha=.2,\n",
    "                x=\"size\", y=\"time\", ax=ax,\n",
    "                hue=\"model\", marker=\"x\", s=50)\n",
    "set_y_time(ax)"
   ]
  },
  {
   "cell_type": "code",
   "execution_count": null,
   "id": "dimensional-mentor",
   "metadata": {},
   "outputs": [],
   "source": [
    "fig, ax = plt.subplots(figsize=(8, 6))\n",
    "sns.violinplot(data=round_size(no_load, 500), cut=0,\n",
    "               x=\"size\", y=\"time\", ax=ax)\n",
    "set_y_time(ax)"
   ]
  },
  {
   "cell_type": "code",
   "execution_count": null,
   "id": "falling-dancing",
   "metadata": {},
   "outputs": [],
   "source": [
    "fig, ax = plt.subplots(figsize=(12, 6))\n",
    "\n",
    "sns.violinplot(data=round_size(no_load, 500),\n",
    "               cut=0,\n",
    "               x=\"size\",\n",
    "               y=\"time\",\n",
    "               ax=ax,\n",
    "               hue=\"model\")\n",
    "\n",
    "set_y_time(ax)"
   ]
  },
  {
   "cell_type": "code",
   "execution_count": null,
   "id": "educated-hollow",
   "metadata": {},
   "outputs": [],
   "source": []
  }
 ],
 "metadata": {
  "kernelspec": {
   "display_name": "Python 3.9.1 64-bit ('bpt': conda)",
   "language": "python",
   "name": "python39164bitbptconda7805b3f5d58e4b658b79cb94739371e6"
  },
  "language_info": {
   "codemirror_mode": {
    "name": "ipython",
    "version": 3
   },
   "file_extension": ".py",
   "mimetype": "text/x-python",
   "name": "python",
   "nbconvert_exporter": "python",
   "pygments_lexer": "ipython3",
   "version": "3.9.1"
  }
 },
 "nbformat": 4,
 "nbformat_minor": 5
}
