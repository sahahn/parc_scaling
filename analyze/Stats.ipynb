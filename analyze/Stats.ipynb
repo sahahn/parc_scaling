{
 "cells": [
  {
   "cell_type": "markdown",
   "id": "alone-report",
   "metadata": {},
   "source": [
    "# Statistical Tests\n",
    "\n",
    "This notebook is used to perform the statistical tests as reported in the paper (in addition to a few extra ones)."
   ]
  },
  {
   "cell_type": "code",
   "execution_count": 2,
   "id": "everyday-salad",
   "metadata": {},
   "outputs": [],
   "source": [
    "from plot_funcs import (get_results, plot_avg_ranks, get_mean_avg_ranks, get_ranks_sizes, get_highest_performing_df, get_cut_off_df,\n",
    "                        get_across_ranks, get_intra_pipeline_df, get_single_vs_multiple_df, get_results_df)\n",
    "from statsmodels.formula.api import ols, rlm\n",
    "import numpy as np\n",
    "import seaborn as sns\n",
    "from scipy.stats import linregress\n",
    "import matplotlib.pyplot as plt\n",
    "import pandas as pd\n",
    "from IPython.display import display\n",
    "from funcs import save_stats_summary, save_results_table"
   ]
  },
  {
   "cell_type": "code",
   "execution_count": 3,
   "id": "immune-contest",
   "metadata": {},
   "outputs": [
    {
     "name": "stdout",
     "output_type": "stream",
     "text": [
      "Found: 64530 Incomplete: 0\n"
     ]
    }
   ],
   "source": [
    "results = get_results('../exp/results')\n",
    "static = {'random': True, 'base': True, 'fs': True, 'ico': True}"
   ]
  },
  {
   "cell_type": "markdown",
   "id": "listed-locking",
   "metadata": {},
   "source": [
    "# Averaged Performance-Size Scaling\n",
    "\n",
    "This test corresponds to Figure 2 in the manuscript, what we want to test here is the relationship between Mean Rank and size and then as further influenced by type of parcellation."
   ]
  },
  {
   "cell_type": "code",
   "execution_count": 4,
   "id": "blond-dispute",
   "metadata": {},
   "outputs": [
    {
     "name": "stdout",
     "output_type": "stream",
     "text": [
      "1 -13\n",
      "Smallest size: 7.0\n",
      "Largest size: 4000.0\n",
      "Intercept                                       1.982025e-220\n",
      "C(Parcellation_Type)[T.Freesurfer Extracted]     6.906313e-01\n",
      "C(Parcellation_Type)[T.Icosahedron]              8.274644e-01\n",
      "C(Parcellation_Type)[T.Random]                   4.040000e-08\n",
      "Size                                            1.293155e-101\n",
      "dtype: float64\n"
     ]
    },
    {
     "data": {
      "text/html": [
       "<table class=\"simpletable\">\n",
       "<caption>OLS Regression Results</caption>\n",
       "<tr>\n",
       "  <th>Dep. Variable:</th>        <td>Mean_Rank</td>    <th>  R-squared:         </th> <td>   0.902</td> \n",
       "</tr>\n",
       "<tr>\n",
       "  <th>Model:</th>                   <td>OLS</td>       <th>  Adj. R-squared:    </th> <td>   0.900</td> \n",
       "</tr>\n",
       "<tr>\n",
       "  <th>Method:</th>             <td>Least Squares</td>  <th>  F-statistic:       </th> <td>   462.8</td> \n",
       "</tr>\n",
       "<tr>\n",
       "  <th>Date:</th>             <td>Tue, 22 Jun 2021</td> <th>  Prob (F-statistic):</th> <td>3.57e-100</td>\n",
       "</tr>\n",
       "<tr>\n",
       "  <th>Time:</th>                 <td>11:43:44</td>     <th>  Log-Likelihood:    </th> <td>  294.77</td> \n",
       "</tr>\n",
       "<tr>\n",
       "  <th>No. Observations:</th>      <td>   206</td>      <th>  AIC:               </th> <td>  -579.5</td> \n",
       "</tr>\n",
       "<tr>\n",
       "  <th>Df Residuals:</th>          <td>   201</td>      <th>  BIC:               </th> <td>  -562.9</td> \n",
       "</tr>\n",
       "<tr>\n",
       "  <th>Df Model:</th>              <td>     4</td>      <th>                     </th>     <td> </td>    \n",
       "</tr>\n",
       "<tr>\n",
       "  <th>Covariance Type:</th>      <td>nonrobust</td>    <th>                     </th>     <td> </td>    \n",
       "</tr>\n",
       "</table>\n",
       "<table class=\"simpletable\">\n",
       "<tr>\n",
       "                        <td></td>                          <th>coef</th>     <th>std err</th>      <th>t</th>      <th>P>|t|</th>  <th>[0.025</th>    <th>0.975]</th>  \n",
       "</tr>\n",
       "<tr>\n",
       "  <th>Intercept</th>                                    <td>    2.6123</td> <td>    0.015</td> <td>  172.573</td> <td> 0.000</td> <td>    2.582</td> <td>    2.642</td>\n",
       "</tr>\n",
       "<tr>\n",
       "  <th>C(Parcellation_Type)[T.Freesurfer Extracted]</th> <td>    0.0167</td> <td>    0.042</td> <td>    0.399</td> <td> 0.691</td> <td>   -0.066</td> <td>    0.099</td>\n",
       "</tr>\n",
       "<tr>\n",
       "  <th>C(Parcellation_Type)[T.Icosahedron]</th>          <td>   -0.0055</td> <td>    0.025</td> <td>   -0.218</td> <td> 0.827</td> <td>   -0.055</td> <td>    0.044</td>\n",
       "</tr>\n",
       "<tr>\n",
       "  <th>C(Parcellation_Type)[T.Random]</th>               <td>    0.0494</td> <td>    0.009</td> <td>    5.709</td> <td> 0.000</td> <td>    0.032</td> <td>    0.066</td>\n",
       "</tr>\n",
       "<tr>\n",
       "  <th>Size</th>                                         <td>   -0.2782</td> <td>    0.007</td> <td>  -42.080</td> <td> 0.000</td> <td>   -0.291</td> <td>   -0.265</td>\n",
       "</tr>\n",
       "</table>\n",
       "<table class=\"simpletable\">\n",
       "<tr>\n",
       "  <th>Omnibus:</th>       <td> 2.407</td> <th>  Durbin-Watson:     </th> <td>   1.406</td>\n",
       "</tr>\n",
       "<tr>\n",
       "  <th>Prob(Omnibus):</th> <td> 0.300</td> <th>  Jarque-Bera (JB):  </th> <td>   2.234</td>\n",
       "</tr>\n",
       "<tr>\n",
       "  <th>Skew:</th>          <td> 0.101</td> <th>  Prob(JB):          </th> <td>   0.327</td>\n",
       "</tr>\n",
       "<tr>\n",
       "  <th>Kurtosis:</th>      <td> 3.469</td> <th>  Cond. No.          </th> <td>    26.6</td>\n",
       "</tr>\n",
       "</table><br/><br/>Notes:<br/>[1] Standard Errors assume that the covariance matrix of the errors is correctly specified."
      ],
      "text/plain": [
       "<class 'statsmodels.iolib.summary.Summary'>\n",
       "\"\"\"\n",
       "                            OLS Regression Results                            \n",
       "==============================================================================\n",
       "Dep. Variable:              Mean_Rank   R-squared:                       0.902\n",
       "Model:                            OLS   Adj. R-squared:                  0.900\n",
       "Method:                 Least Squares   F-statistic:                     462.8\n",
       "Date:                Tue, 22 Jun 2021   Prob (F-statistic):          3.57e-100\n",
       "Time:                        11:43:44   Log-Likelihood:                 294.77\n",
       "No. Observations:                 206   AIC:                            -579.5\n",
       "Df Residuals:                     201   BIC:                            -562.9\n",
       "Df Model:                           4                                         \n",
       "Covariance Type:            nonrobust                                         \n",
       "================================================================================================================\n",
       "                                                   coef    std err          t      P>|t|      [0.025      0.975]\n",
       "----------------------------------------------------------------------------------------------------------------\n",
       "Intercept                                        2.6123      0.015    172.573      0.000       2.582       2.642\n",
       "C(Parcellation_Type)[T.Freesurfer Extracted]     0.0167      0.042      0.399      0.691      -0.066       0.099\n",
       "C(Parcellation_Type)[T.Icosahedron]             -0.0055      0.025     -0.218      0.827      -0.055       0.044\n",
       "C(Parcellation_Type)[T.Random]                   0.0494      0.009      5.709      0.000       0.032       0.066\n",
       "Size                                            -0.2782      0.007    -42.080      0.000      -0.291      -0.265\n",
       "==============================================================================\n",
       "Omnibus:                        2.407   Durbin-Watson:                   1.406\n",
       "Prob(Omnibus):                  0.300   Jarque-Bera (JB):                2.234\n",
       "Skew:                           0.101   Prob(JB):                        0.327\n",
       "Kurtosis:                       3.469   Cond. No.                         26.6\n",
       "==============================================================================\n",
       "\n",
       "Notes:\n",
       "[1] Standard Errors assume that the covariance matrix of the errors is correctly specified.\n",
       "\"\"\""
      ]
     },
     "execution_count": 4,
     "metadata": {},
     "output_type": "execute_result"
    }
   ],
   "source": [
    "r_df = get_ranks_sizes(results, log=True,\n",
    "                       threshold=True, **static)\n",
    "model = ols('Mean_Rank ~ Size + C(Parcellation_Type)', data=r_df).fit()\n",
    "save_stats_summary(model, 'base_results1')\n",
    "print(model.pvalues)\n",
    "\n",
    "model.summary()"
   ]
  },
  {
   "cell_type": "markdown",
   "id": "chronic-greeting",
   "metadata": {},
   "source": [
    "Only the difference between existing and random have enough statistical power. Viz just the different fits for Existing vs. Random:"
   ]
  },
  {
   "cell_type": "code",
   "execution_count": 5,
   "id": "broke-domestic",
   "metadata": {},
   "outputs": [
    {
     "data": {
      "image/png": "[encoded data removed]",
      "text/plain": [
       "<Figure size 864x576 with 1 Axes>"
      ]
     },
     "metadata": {
      "needs_background": "light"
     },
     "output_type": "display_data"
    }
   ],
   "source": [
    "# Gen plot\n",
    "_, ax = plt.subplots(figsize=(12, 8))\n",
    "\n",
    "# Reverse log10 on size\n",
    "e_size = 10 ** r_df['Size'][r_df['Parcellation_Type'] == 'Existing']\n",
    "r_size = 10 ** r_df['Size'][r_df['Parcellation_Type'] == 'Random']\n",
    "\n",
    "# Get pred fit lines\n",
    "e_fit = 10 ** model.params.Intercept * (e_size **(model.params.Size))\n",
    "\n",
    "r_intercept = 10 ** (model.params.Intercept + model.params['C(Parcellation_Type)[T.Random]'])\n",
    "r_fit = r_intercept * (r_size **(model.params.Size))\n",
    "\n",
    "# Plot lines of fit\n",
    "ax.plot(e_size, e_fit, color='green', alpha=.8)\n",
    "ax.plot(r_size, r_fit, color='gray', alpha=.8)\n",
    "\n",
    "# Add main plot\n",
    "plot_avg_ranks(results,\n",
    "               log=True,\n",
    "               ax=ax, **static)\n",
    "\n",
    "plt.savefig('Figures/base_results_fit1.png', dpi=300, bbox_inches='tight')"
   ]
  },
  {
   "cell_type": "markdown",
   "id": "continued-board",
   "metadata": {},
   "source": [
    "We want to next check if there is a possible interaction between parcellation type and size."
   ]
  },
  {
   "cell_type": "code",
   "execution_count": 6,
   "id": "reverse-mongolia",
   "metadata": {},
   "outputs": [
    {
     "name": "stdout",
     "output_type": "stream",
     "text": [
      "Intercept                                            1.146780e-169\n",
      "C(Parcellation_Type)[T.Freesurfer Extracted]          3.930177e-01\n",
      "C(Parcellation_Type)[T.Icosahedron]                   5.976996e-01\n",
      "C(Parcellation_Type)[T.Random]                        2.141784e-01\n",
      "Size                                                  3.050137e-56\n",
      "Size:C(Parcellation_Type)[T.Freesurfer Extracted]     4.101729e-01\n",
      "Size:C(Parcellation_Type)[T.Icosahedron]              6.135194e-01\n",
      "Size:C(Parcellation_Type)[T.Random]                   7.940296e-01\n",
      "dtype: float64\n"
     ]
    },
    {
     "data": {
      "text/html": [
       "<table class=\"simpletable\">\n",
       "<caption>OLS Regression Results</caption>\n",
       "<tr>\n",
       "  <th>Dep. Variable:</th>        <td>Mean_Rank</td>    <th>  R-squared:         </th> <td>   0.903</td>\n",
       "</tr>\n",
       "<tr>\n",
       "  <th>Model:</th>                   <td>OLS</td>       <th>  Adj. R-squared:    </th> <td>   0.899</td>\n",
       "</tr>\n",
       "<tr>\n",
       "  <th>Method:</th>             <td>Least Squares</td>  <th>  F-statistic:       </th> <td>   262.0</td>\n",
       "</tr>\n",
       "<tr>\n",
       "  <th>Date:</th>             <td>Tue, 22 Jun 2021</td> <th>  Prob (F-statistic):</th> <td>1.85e-96</td>\n",
       "</tr>\n",
       "<tr>\n",
       "  <th>Time:</th>                 <td>11:43:49</td>     <th>  Log-Likelihood:    </th> <td>  295.28</td>\n",
       "</tr>\n",
       "<tr>\n",
       "  <th>No. Observations:</th>      <td>   206</td>      <th>  AIC:               </th> <td>  -574.6</td>\n",
       "</tr>\n",
       "<tr>\n",
       "  <th>Df Residuals:</th>          <td>   198</td>      <th>  BIC:               </th> <td>  -547.9</td>\n",
       "</tr>\n",
       "<tr>\n",
       "  <th>Df Model:</th>              <td>     7</td>      <th>                     </th>     <td> </td>   \n",
       "</tr>\n",
       "<tr>\n",
       "  <th>Covariance Type:</th>      <td>nonrobust</td>    <th>                     </th>     <td> </td>   \n",
       "</tr>\n",
       "</table>\n",
       "<table class=\"simpletable\">\n",
       "<tr>\n",
       "                          <td></td>                             <th>coef</th>     <th>std err</th>      <th>t</th>      <th>P>|t|</th>  <th>[0.025</th>    <th>0.975]</th>  \n",
       "</tr>\n",
       "<tr>\n",
       "  <th>Intercept</th>                                         <td>    2.6186</td> <td>    0.027</td> <td>   97.916</td> <td> 0.000</td> <td>    2.566</td> <td>    2.671</td>\n",
       "</tr>\n",
       "<tr>\n",
       "  <th>C(Parcellation_Type)[T.Freesurfer Extracted]</th>      <td>    0.4179</td> <td>    0.488</td> <td>    0.856</td> <td> 0.393</td> <td>   -0.545</td> <td>    1.380</td>\n",
       "</tr>\n",
       "<tr>\n",
       "  <th>C(Parcellation_Type)[T.Icosahedron]</th>               <td>   -0.0729</td> <td>    0.138</td> <td>   -0.529</td> <td> 0.598</td> <td>   -0.345</td> <td>    0.199</td>\n",
       "</tr>\n",
       "<tr>\n",
       "  <th>C(Parcellation_Type)[T.Random]</th>                    <td>    0.0411</td> <td>    0.033</td> <td>    1.246</td> <td> 0.214</td> <td>   -0.024</td> <td>    0.106</td>\n",
       "</tr>\n",
       "<tr>\n",
       "  <th>Size</th>                                              <td>   -0.2813</td> <td>    0.013</td> <td>  -22.422</td> <td> 0.000</td> <td>   -0.306</td> <td>   -0.257</td>\n",
       "</tr>\n",
       "<tr>\n",
       "  <th>Size:C(Parcellation_Type)[T.Freesurfer Extracted]</th> <td>   -0.2002</td> <td>    0.243</td> <td>   -0.825</td> <td> 0.410</td> <td>   -0.679</td> <td>    0.278</td>\n",
       "</tr>\n",
       "<tr>\n",
       "  <th>Size:C(Parcellation_Type)[T.Icosahedron]</th>          <td>    0.0246</td> <td>    0.049</td> <td>    0.506</td> <td> 0.614</td> <td>   -0.071</td> <td>    0.121</td>\n",
       "</tr>\n",
       "<tr>\n",
       "  <th>Size:C(Parcellation_Type)[T.Random]</th>               <td>    0.0039</td> <td>    0.015</td> <td>    0.261</td> <td> 0.794</td> <td>   -0.025</td> <td>    0.033</td>\n",
       "</tr>\n",
       "</table>\n",
       "<table class=\"simpletable\">\n",
       "<tr>\n",
       "  <th>Omnibus:</th>       <td> 2.366</td> <th>  Durbin-Watson:     </th> <td>   1.410</td>\n",
       "</tr>\n",
       "<tr>\n",
       "  <th>Prob(Omnibus):</th> <td> 0.306</td> <th>  Jarque-Bera (JB):  </th> <td>   2.158</td>\n",
       "</tr>\n",
       "<tr>\n",
       "  <th>Skew:</th>          <td> 0.108</td> <th>  Prob(JB):          </th> <td>   0.340</td>\n",
       "</tr>\n",
       "<tr>\n",
       "  <th>Kurtosis:</th>      <td> 3.452</td> <th>  Cond. No.          </th> <td>    404.</td>\n",
       "</tr>\n",
       "</table><br/><br/>Notes:<br/>[1] Standard Errors assume that the covariance matrix of the errors is correctly specified."
      ],
      "text/plain": [
       "<class 'statsmodels.iolib.summary.Summary'>\n",
       "\"\"\"\n",
       "                            OLS Regression Results                            \n",
       "==============================================================================\n",
       "Dep. Variable:              Mean_Rank   R-squared:                       0.903\n",
       "Model:                            OLS   Adj. R-squared:                  0.899\n",
       "Method:                 Least Squares   F-statistic:                     262.0\n",
       "Date:                Tue, 22 Jun 2021   Prob (F-statistic):           1.85e-96\n",
       "Time:                        11:43:49   Log-Likelihood:                 295.28\n",
       "No. Observations:                 206   AIC:                            -574.6\n",
       "Df Residuals:                     198   BIC:                            -547.9\n",
       "Df Model:                           7                                         \n",
       "Covariance Type:            nonrobust                                         \n",
       "=====================================================================================================================\n",
       "                                                        coef    std err          t      P>|t|      [0.025      0.975]\n",
       "---------------------------------------------------------------------------------------------------------------------\n",
       "Intercept                                             2.6186      0.027     97.916      0.000       2.566       2.671\n",
       "C(Parcellation_Type)[T.Freesurfer Extracted]          0.4179      0.488      0.856      0.393      -0.545       1.380\n",
       "C(Parcellation_Type)[T.Icosahedron]                  -0.0729      0.138     -0.529      0.598      -0.345       0.199\n",
       "C(Parcellation_Type)[T.Random]                        0.0411      0.033      1.246      0.214      -0.024       0.106\n",
       "Size                                                 -0.2813      0.013    -22.422      0.000      -0.306      -0.257\n",
       "Size:C(Parcellation_Type)[T.Freesurfer Extracted]    -0.2002      0.243     -0.825      0.410      -0.679       0.278\n",
       "Size:C(Parcellation_Type)[T.Icosahedron]              0.0246      0.049      0.506      0.614      -0.071       0.121\n",
       "Size:C(Parcellation_Type)[T.Random]                   0.0039      0.015      0.261      0.794      -0.025       0.033\n",
       "==============================================================================\n",
       "Omnibus:                        2.366   Durbin-Watson:                   1.410\n",
       "Prob(Omnibus):                  0.306   Jarque-Bera (JB):                2.158\n",
       "Skew:                           0.108   Prob(JB):                        0.340\n",
       "Kurtosis:                       3.452   Cond. No.                         404.\n",
       "==============================================================================\n",
       "\n",
       "Notes:\n",
       "[1] Standard Errors assume that the covariance matrix of the errors is correctly specified.\n",
       "\"\"\""
      ]
     },
     "execution_count": 6,
     "metadata": {},
     "output_type": "execute_result"
    },
    {
     "data": {
      "image/png": "[encoded data removed]",
      "text/plain": [
       "<Figure size 498x360 with 1 Axes>"
      ]
     },
     "metadata": {
      "needs_background": "light"
     },
     "output_type": "display_data"
    }
   ],
   "source": [
    "sns.lmplot(y='Mean_Rank', x='Size', data=r_df, hue='Parcellation_Type')\n",
    "plt.title('LogLog OLS By Parcellation')\n",
    "plt.savefig('Figures/base_results_fit2.png', dpi=200, bbox_inches='tight')\n",
    "\n",
    "model = ols('Mean_Rank ~ Size * C(Parcellation_Type)', data=r_df).fit()\n",
    "save_stats_summary(model, 'base_results2')\n",
    "print(model.pvalues)\n",
    "model.summary()"
   ]
  },
  {
   "cell_type": "markdown",
   "id": "atomic-clone",
   "metadata": {},
   "source": [
    "No interactions are signifigant here.\n",
    "\n",
    "Next, we will see how the results change when using robust regression and no thresholding, where thresholding = the procedure for selecting the region in which the scaling holds."
   ]
  },
  {
   "cell_type": "code",
   "execution_count": 7,
   "id": "expanded-methodology",
   "metadata": {},
   "outputs": [
    {
     "name": "stdout",
     "output_type": "stream",
     "text": [
      "Intercept                                       0.000000e+00\n",
      "C(Parcellation_Type)[T.Freesurfer Extracted]    6.245984e-01\n",
      "C(Parcellation_Type)[T.Icosahedron]             7.260774e-01\n",
      "C(Parcellation_Type)[T.Random]                  9.421043e-10\n",
      "Size                                            0.000000e+00\n",
      "dtype: float64\n"
     ]
    },
    {
     "data": {
      "text/html": [
       "<table class=\"simpletable\">\n",
       "<caption>Robust linear Model Regression Results</caption>\n",
       "<tr>\n",
       "  <th>Dep. Variable:</th>      <td>Mean_Rank</td>    <th>  No. Observations:  </th> <td>   220</td>\n",
       "</tr>\n",
       "<tr>\n",
       "  <th>Model:</th>                 <td>RLM</td>       <th>  Df Residuals:      </th> <td>   215</td>\n",
       "</tr>\n",
       "<tr>\n",
       "  <th>Method:</th>               <td>IRLS</td>       <th>  Df Model:          </th> <td>     4</td>\n",
       "</tr>\n",
       "<tr>\n",
       "  <th>Norm:</th>                <td>HuberT</td>      <th>                     </th>    <td> </td>  \n",
       "</tr>\n",
       "<tr>\n",
       "  <th>Scale Est.:</th>            <td>mad</td>       <th>                     </th>    <td> </td>  \n",
       "</tr>\n",
       "<tr>\n",
       "  <th>Cov Type:</th>              <td>H1</td>        <th>                     </th>    <td> </td>  \n",
       "</tr>\n",
       "<tr>\n",
       "  <th>Date:</th>           <td>Tue, 22 Jun 2021</td> <th>                     </th>    <td> </td>  \n",
       "</tr>\n",
       "<tr>\n",
       "  <th>Time:</th>               <td>11:43:49</td>     <th>                     </th>    <td> </td>  \n",
       "</tr>\n",
       "<tr>\n",
       "  <th>No. Iterations:</th>        <td>20</td>        <th>                     </th>    <td> </td>  \n",
       "</tr>\n",
       "</table>\n",
       "<table class=\"simpletable\">\n",
       "<tr>\n",
       "                        <td></td>                          <th>coef</th>     <th>std err</th>      <th>z</th>      <th>P>|z|</th>  <th>[0.025</th>    <th>0.975]</th>  \n",
       "</tr>\n",
       "<tr>\n",
       "  <th>Intercept</th>                                    <td>    2.5668</td> <td>    0.014</td> <td>  179.239</td> <td> 0.000</td> <td>    2.539</td> <td>    2.595</td>\n",
       "</tr>\n",
       "<tr>\n",
       "  <th>C(Parcellation_Type)[T.Freesurfer Extracted]</th> <td>    0.0217</td> <td>    0.044</td> <td>    0.489</td> <td> 0.625</td> <td>   -0.065</td> <td>    0.109</td>\n",
       "</tr>\n",
       "<tr>\n",
       "  <th>C(Parcellation_Type)[T.Icosahedron]</th>          <td>   -0.0093</td> <td>    0.027</td> <td>   -0.350</td> <td> 0.726</td> <td>   -0.061</td> <td>    0.043</td>\n",
       "</tr>\n",
       "<tr>\n",
       "  <th>C(Parcellation_Type)[T.Random]</th>               <td>    0.0557</td> <td>    0.009</td> <td>    6.119</td> <td> 0.000</td> <td>    0.038</td> <td>    0.074</td>\n",
       "</tr>\n",
       "<tr>\n",
       "  <th>Size</th>                                         <td>   -0.2580</td> <td>    0.006</td> <td>  -42.077</td> <td> 0.000</td> <td>   -0.270</td> <td>   -0.246</td>\n",
       "</tr>\n",
       "</table><br/><br/>If the model instance has been used for another fit with different fit parameters, then the fit options might not be the correct ones anymore ."
      ],
      "text/plain": [
       "<class 'statsmodels.iolib.summary.Summary'>\n",
       "\"\"\"\n",
       "                    Robust linear Model Regression Results                    \n",
       "==============================================================================\n",
       "Dep. Variable:              Mean_Rank   No. Observations:                  220\n",
       "Model:                            RLM   Df Residuals:                      215\n",
       "Method:                          IRLS   Df Model:                            4\n",
       "Norm:                          HuberT                                         \n",
       "Scale Est.:                       mad                                         \n",
       "Cov Type:                          H1                                         \n",
       "Date:                Tue, 22 Jun 2021                                         \n",
       "Time:                        11:43:49                                         \n",
       "No. Iterations:                    20                                         \n",
       "================================================================================================================\n",
       "                                                   coef    std err          z      P>|z|      [0.025      0.975]\n",
       "----------------------------------------------------------------------------------------------------------------\n",
       "Intercept                                        2.5668      0.014    179.239      0.000       2.539       2.595\n",
       "C(Parcellation_Type)[T.Freesurfer Extracted]     0.0217      0.044      0.489      0.625      -0.065       0.109\n",
       "C(Parcellation_Type)[T.Icosahedron]             -0.0093      0.027     -0.350      0.726      -0.061       0.043\n",
       "C(Parcellation_Type)[T.Random]                   0.0557      0.009      6.119      0.000       0.038       0.074\n",
       "Size                                            -0.2580      0.006    -42.077      0.000      -0.270      -0.246\n",
       "================================================================================================================\n",
       "\n",
       "If the model instance has been used for another fit with different fit parameters, then the fit options might not be the correct ones anymore .\n",
       "\"\"\""
      ]
     },
     "execution_count": 7,
     "metadata": {},
     "output_type": "execute_result"
    }
   ],
   "source": [
    "r_df = get_ranks_sizes(results, log=True, **static)\n",
    "\n",
    "model = rlm('Mean_Rank ~ Size + C(Parcellation_Type)', data=r_df).fit()\n",
    "print(model.pvalues)\n",
    "model.summary()"
   ]
  },
  {
   "cell_type": "markdown",
   "id": "motivated-alberta",
   "metadata": {},
   "source": [
    "Let's view some specific raw results, as well as save a copy of the raw results table"
   ]
  },
  {
   "cell_type": "code",
   "execution_count": 8,
   "id": "intense-blues",
   "metadata": {},
   "outputs": [
    {
     "data": {
      "text/html": [
       "<div>\n",
       "<style scoped>\n",
       "    .dataframe tbody tr th:only-of-type {\n",
       "        vertical-align: middle;\n",
       "    }\n",
       "\n",
       "    .dataframe tbody tr th {\n",
       "        vertical-align: top;\n",
       "    }\n",
       "\n",
       "    .dataframe thead th {\n",
       "        text-align: right;\n",
       "    }\n",
       "</style>\n",
       "<table border=\"1\" class=\"dataframe\">\n",
       "  <thead>\n",
       "    <tr style=\"text-align: right;\">\n",
       "      <th></th>\n",
       "      <th>Parcellation_Type</th>\n",
       "      <th>Mean_Rank</th>\n",
       "      <th>Size</th>\n",
       "      <th>r2</th>\n",
       "      <th>roc_auc</th>\n",
       "      <th>full_name</th>\n",
       "    </tr>\n",
       "  </thead>\n",
       "  <tbody>\n",
       "    <tr>\n",
       "      <th>194</th>\n",
       "      <td>Existing</td>\n",
       "      <td>46.888889</td>\n",
       "      <td>949</td>\n",
       "      <td>0.085201</td>\n",
       "      <td>0.629424</td>\n",
       "      <td>vol-resamp-difumo-1024_prob</td>\n",
       "    </tr>\n",
       "  </tbody>\n",
       "</table>\n",
       "</div>"
      ],
      "text/plain": [
       "    Parcellation_Type  Mean_Rank  Size        r2   roc_auc  \\\n",
       "194          Existing  46.888889   949  0.085201  0.629424   \n",
       "\n",
       "                       full_name  \n",
       "194  vol-resamp-difumo-1024_prob  "
      ]
     },
     "metadata": {},
     "output_type": "display_data"
    },
    {
     "data": {
      "text/html": [
       "<div>\n",
       "<style scoped>\n",
       "    .dataframe tbody tr th:only-of-type {\n",
       "        vertical-align: middle;\n",
       "    }\n",
       "\n",
       "    .dataframe tbody tr th {\n",
       "        vertical-align: top;\n",
       "    }\n",
       "\n",
       "    .dataframe thead th {\n",
       "        text-align: right;\n",
       "    }\n",
       "</style>\n",
       "<table border=\"1\" class=\"dataframe\">\n",
       "  <thead>\n",
       "    <tr style=\"text-align: right;\">\n",
       "      <th></th>\n",
       "      <th>Parcellation_Type</th>\n",
       "      <th>Mean_Rank</th>\n",
       "      <th>Size</th>\n",
       "      <th>r2</th>\n",
       "      <th>roc_auc</th>\n",
       "      <th>full_name</th>\n",
       "    </tr>\n",
       "  </thead>\n",
       "  <tbody>\n",
       "    <tr>\n",
       "      <th>11</th>\n",
       "      <td>Freesurfer Extracted</td>\n",
       "      <td>97.422222</td>\n",
       "      <td>150</td>\n",
       "      <td>0.073573</td>\n",
       "      <td>0.61954</td>\n",
       "      <td>freesurfer_destr</td>\n",
       "    </tr>\n",
       "  </tbody>\n",
       "</table>\n",
       "</div>"
      ],
      "text/plain": [
       "       Parcellation_Type  Mean_Rank  Size        r2  roc_auc         full_name\n",
       "11  Freesurfer Extracted  97.422222   150  0.073573  0.61954  freesurfer_destr"
      ]
     },
     "metadata": {},
     "output_type": "display_data"
    },
    {
     "data": {
      "text/html": [
       "<div>\n",
       "<style scoped>\n",
       "    .dataframe tbody tr th:only-of-type {\n",
       "        vertical-align: middle;\n",
       "    }\n",
       "\n",
       "    .dataframe tbody tr th {\n",
       "        vertical-align: top;\n",
       "    }\n",
       "\n",
       "    .dataframe thead th {\n",
       "        text-align: right;\n",
       "    }\n",
       "</style>\n",
       "<table border=\"1\" class=\"dataframe\">\n",
       "  <thead>\n",
       "    <tr style=\"text-align: right;\">\n",
       "      <th></th>\n",
       "      <th>Parcellation_Type</th>\n",
       "      <th>Mean_Rank</th>\n",
       "      <th>Size</th>\n",
       "      <th>r2</th>\n",
       "      <th>roc_auc</th>\n",
       "      <th>full_name</th>\n",
       "    </tr>\n",
       "  </thead>\n",
       "  <tbody>\n",
       "    <tr>\n",
       "      <th>10</th>\n",
       "      <td>Freesurfer Extracted</td>\n",
       "      <td>142.592593</td>\n",
       "      <td>68</td>\n",
       "      <td>0.061316</td>\n",
       "      <td>0.606063</td>\n",
       "      <td>freesurfer_desikan</td>\n",
       "    </tr>\n",
       "  </tbody>\n",
       "</table>\n",
       "</div>"
      ],
      "text/plain": [
       "       Parcellation_Type   Mean_Rank  Size        r2   roc_auc  \\\n",
       "10  Freesurfer Extracted  142.592593    68  0.061316  0.606063   \n",
       "\n",
       "             full_name  \n",
       "10  freesurfer_desikan  "
      ]
     },
     "metadata": {},
     "output_type": "display_data"
    }
   ],
   "source": [
    "r_df = get_ranks_sizes(results, log=False, keep_full_name=True, add_raw=True, **static)\n",
    "\n",
    "# Show top result\n",
    "display(r_df.sort_values('Mean_Rank').iloc[[0]])\n",
    "\n",
    "# Show the two freesurfer\n",
    "display(r_df[r_df['full_name'] == 'freesurfer_destr'])\n",
    "display(r_df[r_df['full_name'] == 'freesurfer_desikan'])\n",
    "\n",
    "# Save raw results\n",
    "save_results_table(r_df, name='raw_results1')"
   ]
  },
  {
   "cell_type": "markdown",
   "id": "brief-compromise",
   "metadata": {},
   "source": [
    "# Choice of Pipeline"
   ]
  },
  {
   "cell_type": "markdown",
   "id": "severe-bikini",
   "metadata": {},
   "source": [
    "### Intra-Pipeline Comparison"
   ]
  },
  {
   "cell_type": "code",
   "execution_count": null,
   "id": "limited-tourist",
   "metadata": {},
   "outputs": [],
   "source": [
    "intra_pipe_df = get_intra_pipeline_df(results, log=True,\n",
    "                                      threshold=True, **static)\n",
    "\n",
    "# Plot\n",
    "sns.lmplot(x='Size', y='Mean_Rank', hue='Model', data=intra_pipe_df)\n",
    "plt.title('Intra pipe')\n",
    "\n",
    "# Run stats\n",
    "model = ols('Mean_Rank ~ Size * C(Model)', data=intra_pipe_df).fit()\n",
    "print(model.pvalues)\n",
    "model.summary()"
   ]
  },
  {
   "cell_type": "markdown",
   "id": "clear-variation",
   "metadata": {},
   "source": [
    "### Inter-Pipeline"
   ]
  },
  {
   "cell_type": "code",
   "execution_count": null,
   "id": "annual-settle",
   "metadata": {},
   "outputs": [],
   "source": [
    "inter_pipe_df = get_across_ranks(results, log=True, **static)\n",
    "\n",
    "# Plot\n",
    "sns.lmplot(x='Size', y='Mean_Rank', hue='Model', data=inter_pipe_df)\n",
    "plt.title('Inter pipe')\n",
    "\n",
    "model = ols('Mean_Rank ~ Size * C(Model)', data=inter_pipe_df).fit()\n",
    "print(model.pvalues)\n",
    "model.summary()"
   ]
  },
  {
   "cell_type": "code",
   "execution_count": null,
   "id": "breathing-estonia",
   "metadata": {},
   "outputs": [],
   "source": [
    "print('Elastic intercept vs. SVM intercept')\n",
    "model.params.Intercept, model.params.Intercept+model.params['C(Model)[T.svm]'], model.pvalues['C(Model)[T.svm]']"
   ]
  },
  {
   "cell_type": "code",
   "execution_count": null,
   "id": "owned-sellers",
   "metadata": {},
   "outputs": [],
   "source": [
    "print('Elastic size coef vs. SVM interaction')\n",
    "model.params.Size, model.params.Size+model.params['Size:C(Model)[T.svm]'], model.pvalues['Size:C(Model)[T.svm]']"
   ]
  },
  {
   "cell_type": "markdown",
   "id": "involved-twelve",
   "metadata": {},
   "source": [
    "# Variation Across Target Variable"
   ]
  },
  {
   "cell_type": "code",
   "execution_count": null,
   "id": "brutal-probability",
   "metadata": {},
   "outputs": [],
   "source": [
    "r_df = get_ranks_sizes(results, avg_targets=False,\n",
    "                       log=True, threshold=False, **static)\n",
    "\n",
    "sns.lmplot(y='Mean_Rank', x='Size', data=r_df)\n",
    "plt.title('LogLog OLS By Parcellation')\n",
    "\n",
    "model = ols('Mean_Rank ~ Size', data=r_df).fit()\n",
    "print(model.pvalues)\n",
    "model.summary()"
   ]
  },
  {
   "cell_type": "markdown",
   "id": "cubic-nerve",
   "metadata": {},
   "source": [
    "### Calculate IQR at every unique size, then fit a model explaining it in relation to size."
   ]
  },
  {
   "cell_type": "code",
   "execution_count": null,
   "id": "cognitive-router",
   "metadata": {},
   "outputs": [],
   "source": [
    "def v(x):\n",
    "    rl = x['Mean_Rank']\n",
    "    return rl.quantile(.75) - rl.quantile(.25)\n",
    "    \n",
    "log_size_to_var = r_df.groupby('Size').apply(v)\n",
    "ls_df = log_size_to_var.to_frame().reset_index().rename(columns={0: 'IQR'})\n",
    "\n",
    "\n",
    "sns.lmplot(y='IQR', x='Size', data=ls_df)\n",
    "plt.title('Size to IQR')\n",
    "\n",
    "model = ols('IQR ~ Size', data=ls_df).fit()\n",
    "print(model.pvalues)\n",
    "model.summary()"
   ]
  },
  {
   "cell_type": "markdown",
   "id": "optical-briefs",
   "metadata": {},
   "source": [
    "### Compare thresholded R2 at 4000 and less between variation models"
   ]
  },
  {
   "cell_type": "code",
   "execution_count": null,
   "id": "golden-niagara",
   "metadata": {
    "scrolled": true
   },
   "outputs": [],
   "source": [
    "r_df = get_ranks_sizes(results, avg_targets=False,\n",
    "                       log=True, threshold=False, **static)\n",
    "r_df = r_df[r_df['Size'] <= np.log10(4000)]\n",
    "\n",
    "sns.lmplot(y='Mean_Rank', x='Size', data=r_df)\n",
    "plt.title('LogLog OLS By Parcellation')\n",
    "\n",
    "model = ols('Mean_Rank ~ Size', data=r_df).fit()\n",
    "print(model.pvalues)\n",
    "model.summary()"
   ]
  },
  {
   "cell_type": "code",
   "execution_count": null,
   "id": "specified-strategy",
   "metadata": {},
   "outputs": [],
   "source": [
    "r_df = get_ranks_sizes(results, avg_targets=True, log=True,\n",
    "                       threshold=False, **static)\n",
    "r_df = r_df[r_df['Size'] <= np.log10(4000)]\n",
    "\n",
    "sns.lmplot(y='Mean_Rank', x='Size', data=r_df)\n",
    "plt.title('LogLog OLS By Parcellation')\n",
    "\n",
    "model = ols('Mean_Rank ~ Size', data=r_df).fit()\n",
    "print(model.pvalues)\n",
    "model.summary()"
   ]
  },
  {
   "cell_type": "markdown",
   "id": "acute-crazy",
   "metadata": {},
   "source": [
    "# Single vs. Multiple Parcellations\n",
    "\n",
    "1. Compare Ensembles to Non-Ensembled Results"
   ]
  },
  {
   "cell_type": "code",
   "execution_count": null,
   "id": "final-ending",
   "metadata": {},
   "outputs": [],
   "source": [
    "r_df = get_single_vs_multiple_df(results, threshold=False, log=True,\n",
    "                                 stacked=True,\n",
    "                                 voted=True, grid=True,\n",
    "                                 **static).reset_index()\n",
    "# Plot\n",
    "sns.lmplot(x='Size', y='Mean_Rank', hue='is_ensemble', data=r_df)\n",
    "plt.title('If Ensemble')\n",
    "\n",
    "model = ols('Mean_Rank ~ Size * C(is_ensemble)', data=r_df).fit()\n",
    "print(model.pvalues)\n",
    "model.summary()"
   ]
  },
  {
   "cell_type": "code",
   "execution_count": null,
   "id": "intermediate-destiny",
   "metadata": {},
   "outputs": [],
   "source": [
    "model.params.Intercept, model.params.Intercept + model.params['C(is_ensemble)[T.1]'], model.pvalues['C(is_ensemble)[T.1]']"
   ]
  },
  {
   "cell_type": "code",
   "execution_count": null,
   "id": "given-absorption",
   "metadata": {},
   "outputs": [],
   "source": [
    "model.params.Size, model.params.Size + model.params['Size:C(is_ensemble)[T.1]'], model.pvalues['Size:C(is_ensemble)[T.1]']"
   ]
  },
  {
   "cell_type": "markdown",
   "id": "assigned-shooting",
   "metadata": {},
   "source": [
    "2. Compare Stacked vs. Voted Results"
   ]
  },
  {
   "cell_type": "code",
   "execution_count": null,
   "id": "certified-killing",
   "metadata": {},
   "outputs": [],
   "source": [
    "r_df = get_ranks_sizes(results, stacked=True,\n",
    "                       voted=True, log=True,\n",
    "                       threshold=False)\n",
    "\n",
    "sns.lmplot(x='Size', y='Mean_Rank', hue='Parcellation_Type', data=r_df)\n",
    "plt.title('Stacked vs. Voted')\n",
    "\n",
    "model = ols('Mean_Rank ~ Size + C(Parcellation_Type)', data=r_df).fit()\n",
    "print(model.pvalues)\n",
    "model.summary()"
   ]
  },
  {
   "cell_type": "markdown",
   "id": "compact-context",
   "metadata": {},
   "source": [
    "Make sure allowing for interactions is also not signifgant"
   ]
  },
  {
   "cell_type": "code",
   "execution_count": null,
   "id": "accompanied-flush",
   "metadata": {},
   "outputs": [],
   "source": [
    "model = ols('Mean_Rank ~ Size * C(Parcellation_Type)', data=r_df).fit()\n",
    "print(model.pvalues)\n",
    "model.summary()"
   ]
  },
  {
   "cell_type": "markdown",
   "id": "psychological-czech",
   "metadata": {},
   "source": [
    "3. Compare fixed size ensemble to across size ensemble"
   ]
  },
  {
   "cell_type": "code",
   "execution_count": null,
   "id": "round-mason",
   "metadata": {},
   "outputs": [],
   "source": [
    "r_df = get_ranks_sizes(results, stacked=True,\n",
    "                       voted=True, log=True,\n",
    "                       threshold=False, by_group=False)\n",
    "r_df['across_sizes'] = [1 if '-' in r else 0 for r in r_df.index]\n",
    "\n",
    "sns.lmplot(x='Size', y='Mean_Rank', hue='across_sizes', data=r_df)\n",
    "plt.title('Fixed vs. Across Sizes')\n",
    "\n",
    "model = ols('Mean_Rank ~ Size + C(across_sizes)', data=r_df).fit()\n",
    "print(model.pvalues)\n",
    "model.summary()"
   ]
  },
  {
   "cell_type": "markdown",
   "id": "thermal-regard",
   "metadata": {},
   "source": [
    "Check for size interactions on only a subset where they start at the same size"
   ]
  },
  {
   "cell_type": "code",
   "execution_count": null,
   "id": "grave-wells",
   "metadata": {},
   "outputs": [],
   "source": [
    "r_df = get_ranks_sizes(results, stacked=True,\n",
    "                       voted=True, log=True,\n",
    "                       threshold=False, by_group=False)\n",
    "r_df['across_sizes'] = [1 if '-' in r else 0 for r in r_df.index]\n",
    "r_df = r_df[r_df['Size'] > 2.9]\n",
    "\n",
    "sns.lmplot(x='Size', y='Mean_Rank', hue='across_sizes', data=r_df)\n",
    "plt.title('Fixed vs. Across Sizes')\n",
    "\n",
    "model = ols('Mean_Rank ~ Size * C(across_sizes)', data=r_df).fit()\n",
    "print(model.pvalues)\n",
    "model.summary()"
   ]
  },
  {
   "cell_type": "markdown",
   "id": "weekly-guess",
   "metadata": {},
   "source": [
    "4. Compare ‘Grid’ results to just random single parcellation results"
   ]
  },
  {
   "cell_type": "code",
   "execution_count": null,
   "id": "labeled-validation",
   "metadata": {},
   "outputs": [],
   "source": [
    "r_df = get_ranks_sizes(results, grid=True, random=True,\n",
    "                       threshold=False, by_group=True, log=True)\n",
    "\n",
    "# Get only random parcellations of the same size\n",
    "g_sizes = r_df[r_df['Parcellation_Type'] == 'Grid']['Size']\n",
    "g_max = g_sizes.max()\n",
    "g_min = g_sizes.min()\n",
    "print('restrict to:', round(10 ** g_min), round(10 ** g_max))\n",
    "r_df = r_df[(r_df['Size'] >= g_min) & (r_df['Size'] <= g_max)]\n",
    "\n",
    "sns.lmplot(x='Size', y='Mean_Rank', hue='Parcellation_Type', data=r_df)\n",
    "plt.title('Grid vs. Random')\n",
    "\n",
    "model = ols('Mean_Rank ~ Size + C(Parcellation_Type)', data=r_df).fit()\n",
    "print(model.pvalues)\n",
    "model.summary()"
   ]
  },
  {
   "cell_type": "markdown",
   "id": "referenced-bottle",
   "metadata": {},
   "source": [
    "# Highest Performance"
   ]
  },
  {
   "cell_type": "markdown",
   "id": "standard-friendly",
   "metadata": {},
   "source": [
    " Inter pipeline ensemble results, to show that SVM based ensembles outperform other pipelines, use as justification for including them in Figure 6."
   ]
  },
  {
   "cell_type": "code",
   "execution_count": null,
   "id": "adolescent-orange",
   "metadata": {},
   "outputs": [],
   "source": [
    "inter_pipe_df = get_across_ranks(results, drop_all=True,\n",
    "                                 log=True, stacked=True, voted=True)\n",
    "\n",
    "# Plot\n",
    "sns.lmplot(x='Size', y='Mean_Rank', hue='Model', data=inter_pipe_df)\n",
    "plt.title('Inter pipe ensemble')\n",
    "\n",
    "# Model\n",
    "model = ols('Mean_Rank ~ Size * C(Model)', data=inter_pipe_df).fit()\n",
    "print(model.pvalues)\n",
    "model.summary()"
   ]
  },
  {
   "cell_type": "code",
   "execution_count": null,
   "id": "logical-accent",
   "metadata": {},
   "outputs": [],
   "source": [
    "# get DF\n",
    "r_df = get_highest_performing_df(results)\n",
    "\n",
    "# Do Threshold\n",
    "r_df = get_cut_off_df(r_df)\n",
    "print('Smallest size:', r_df.sort_values('Size').iloc[0].Size)\n",
    "print('Largest size:', r_df.sort_values('Size').iloc[-1].Size)\n",
    "\n",
    "# Setup for plot\n",
    "r_df = r_df.reset_index()\n",
    "r_df['Mean_Rank'] = np.log10(r_df['Mean_Rank'])\n",
    "r_df['Size'] = np.log10(r_df['Size'])\n",
    "\n",
    "sns.lmplot(y='Mean_Rank', x='Size', data=r_df, hue='Model')\n",
    "\n",
    "# Model\n",
    "model = ols('Mean_Rank ~ Size + C(Model)', data=r_df).fit()\n",
    "print(model.pvalues)\n",
    "model.summary()"
   ]
  },
  {
   "cell_type": "code",
   "execution_count": null,
   "id": "removable-robert",
   "metadata": {},
   "outputs": [],
   "source": []
  }
 ],
 "metadata": {
  "kernelspec": {
   "display_name": "Python 3.9.1 64-bit ('bpt': conda)",
   "language": "python",
   "name": "python39164bitbptconda7805b3f5d58e4b658b79cb94739371e6"
  },
  "language_info": {
   "codemirror_mode": {
    "name": "ipython",
    "version": 3
   },
   "file_extension": ".py",
   "mimetype": "text/x-python",
   "name": "python",
   "nbconvert_exporter": "python",
   "pygments_lexer": "ipython3",
   "version": "3.9.1"
  }
 },
 "nbformat": 4,
 "nbformat_minor": 5
}
