{
 "cells": [
  {
   "cell_type": "code",
   "execution_count": 1,
   "id": "sitting-identity",
   "metadata": {},
   "outputs": [],
   "source": [
    "from scipy.stats import kstest, powerlaw\n",
    "from plot_funcs import get_results, get_mean_avg_ranks, get_ranks_sizes\n",
    "from statsmodels.formula.api import ols, rlm\n",
    "from scipy.stats import linregress\n",
    "import numpy as np\n",
    "import matplotlib.pyplot as plt"
   ]
  },
  {
   "cell_type": "markdown",
   "id": "contrary-browse",
   "metadata": {},
   "source": [
    "Base off method from: http://snap.stanford.edu/class/cs224w-readings/clauset09powerlaw.pdf"
   ]
  },
  {
   "cell_type": "code",
   "execution_count": 2,
   "id": "ongoing-milwaukee",
   "metadata": {},
   "outputs": [
    {
     "name": "stdout",
     "output_type": "stream",
     "text": [
      "Found: 64530 Incomplete: 0\n"
     ]
    }
   ],
   "source": [
    "results = get_results('../exp/results')"
   ]
  },
  {
   "cell_type": "code",
   "execution_count": 3,
   "id": "occasional-buffer",
   "metadata": {},
   "outputs": [],
   "source": [
    "def get_divergence(ij, in_xs, in_ys, plot=False):\n",
    "    \n",
    "    i, j = ij\n",
    "    \n",
    "    if i < 0 or j < 0:\n",
    "        return 10000\n",
    "    \n",
    "    j = -j\n",
    "    if j == 0:\n",
    "        j = None\n",
    "    \n",
    "    xs = in_xs.copy()[i:j]\n",
    "    ys = in_ys.copy()[i:j]\n",
    "    \n",
    "    # Estimate fit\n",
    "    r = linregress(np.log10(xs), np.log10(ys))\n",
    "    \n",
    "    # Get points from what should be fit\n",
    "    p_ys = 10**(r.intercept) * (xs **(r.slope))\n",
    "    \n",
    "    k = kstest(ys, p_ys).statistic\n",
    "\n",
    "    \n",
    "    if plot:\n",
    "        plt.scatter(xs, p_ys)\n",
    "        plt.scatter(xs, ys)\n",
    "        print(k)\n",
    "    \n",
    "    # Return kstest\n",
    "    return k\n",
    "\n",
    "def get_min_max_bounds(r_df, plot=False):\n",
    "    \n",
    "    # To array\n",
    "    xs = np.array(r_df['Size'])\n",
    "    ys = np.array(r_df['Mean_Rank'])\n",
    " \n",
    "    up_to = len(xs) // 4\n",
    "\n",
    "    # First estimate lower bound\n",
    "    options = [(i, 0) for i in range(up_to)]\n",
    "    divergences = [get_divergence(o, xs, ys) for o in options]\n",
    "    i = options[np.argmin(divergences)][0]\n",
    "\n",
    "    # Estimate upper based on lower\n",
    "    options = [(i, j) for j in range(up_to)]\n",
    "    divergences = [get_divergence(o, xs, ys) for o in options]\n",
    "    j = options[np.argmin(divergences)][1]\n",
    "    \n",
    "    if plot:\n",
    "        get_divergence((i, j), xs, ys, plot=True)\n",
    "        \n",
    "    return i, j"
   ]
  },
  {
   "cell_type": "code",
   "execution_count": 4,
   "id": "dramatic-booth",
   "metadata": {},
   "outputs": [
    {
     "name": "stdout",
     "output_type": "stream",
     "text": [
      "0.10576923076923077\n"
     ]
    },
    {
     "data": {
      "text/plain": [
       "(2, 10)"
      ]
     },
     "execution_count": 4,
     "metadata": {},
     "output_type": "execute_result"
    },
    {
     "data": {
      "image/png": "[encoded data removed]",
      "text/plain": [
       "<Figure size 432x288 with 1 Axes>"
      ]
     },
     "metadata": {
      "needs_background": "light"
     },
     "output_type": "display_data"
    }
   ],
   "source": [
    "r_df = get_ranks_sizes(results, log=False,\n",
    "                       random=True, base=True,\n",
    "                       ico=True, fs=True).sort_values('Size')\n",
    "\n",
    "get_min_max_bounds(r_df, plot=True)"
   ]
  },
  {
   "cell_type": "code",
   "execution_count": null,
   "id": "organized-resource",
   "metadata": {},
   "outputs": [],
   "source": []
  }
 ],
 "metadata": {
  "kernelspec": {
   "display_name": "Python 3.9.1 64-bit ('bpt': conda)",
   "language": "python",
   "name": "python39164bitbptconda7805b3f5d58e4b658b79cb94739371e6"
  },
  "language_info": {
   "codemirror_mode": {
    "name": "ipython",
    "version": 3
   },
   "file_extension": ".py",
   "mimetype": "text/x-python",
   "name": "python",
   "nbconvert_exporter": "python",
   "pygments_lexer": "ipython3",
   "version": "3.9.1"
  }
 },
 "nbformat": 4,
 "nbformat_minor": 5
}
