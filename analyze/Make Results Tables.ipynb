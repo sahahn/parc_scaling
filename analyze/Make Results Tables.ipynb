{
 "cells": [
  {
   "cell_type": "code",
   "execution_count": 1,
   "id": "weekly-plain",
   "metadata": {},
   "outputs": [],
   "source": [
    "from plot_funcs import (get_results, get_ranks_sizes, get_across_ranks,\n",
    "                        get_intra_pipeline_df, clean_model_names)\n",
    "from funcs import save_results_table, clean_col_names, save_table\n",
    "from IPython.display import display"
   ]
  },
  {
   "cell_type": "code",
   "execution_count": 2,
   "id": "tender-calgary",
   "metadata": {},
   "outputs": [
    {
     "name": "stdout",
     "output_type": "stream",
     "text": [
      "Found: 64530 Incomplete: 0\n"
     ]
    }
   ],
   "source": [
    "results = get_results('../exp/results')\n",
    "static = {'random': True, 'base': True, 'fs': True, 'ico': True}"
   ]
  },
  {
   "cell_type": "markdown",
   "id": "monthly-swedish",
   "metadata": {},
   "source": [
    "## Base Expiriment - By Parcellation"
   ]
  },
  {
   "cell_type": "code",
   "execution_count": 3,
   "id": "expressed-equivalent",
   "metadata": {},
   "outputs": [
    {
     "data": {
      "text/html": [
       "<div>\n",
       "<style scoped>\n",
       "    .dataframe tbody tr th:only-of-type {\n",
       "        vertical-align: middle;\n",
       "    }\n",
       "\n",
       "    .dataframe tbody tr th {\n",
       "        vertical-align: top;\n",
       "    }\n",
       "\n",
       "    .dataframe thead th {\n",
       "        text-align: right;\n",
       "    }\n",
       "</style>\n",
       "<table border=\"1\" class=\"dataframe\">\n",
       "  <thead>\n",
       "    <tr style=\"text-align: right;\">\n",
       "      <th></th>\n",
       "      <th>Parcellation_Type</th>\n",
       "      <th>Mean_Rank</th>\n",
       "      <th>Size</th>\n",
       "      <th>r2</th>\n",
       "      <th>roc_auc</th>\n",
       "      <th>full_name</th>\n",
       "    </tr>\n",
       "  </thead>\n",
       "  <tbody>\n",
       "    <tr>\n",
       "      <th>194</th>\n",
       "      <td>Existing</td>\n",
       "      <td>46.703704</td>\n",
       "      <td>949</td>\n",
       "      <td>0.085201</td>\n",
       "      <td>0.629424</td>\n",
       "      <td>difumo 1024</td>\n",
       "    </tr>\n",
       "  </tbody>\n",
       "</table>\n",
       "</div>"
      ],
      "text/plain": [
       "    Parcellation_Type  Mean_Rank  Size        r2   roc_auc    full_name\n",
       "194          Existing  46.703704   949  0.085201  0.629424  difumo 1024"
      ]
     },
     "metadata": {},
     "output_type": "display_data"
    },
    {
     "data": {
      "text/html": [
       "<div>\n",
       "<style scoped>\n",
       "    .dataframe tbody tr th:only-of-type {\n",
       "        vertical-align: middle;\n",
       "    }\n",
       "\n",
       "    .dataframe tbody tr th {\n",
       "        vertical-align: top;\n",
       "    }\n",
       "\n",
       "    .dataframe thead th {\n",
       "        text-align: right;\n",
       "    }\n",
       "</style>\n",
       "<table border=\"1\" class=\"dataframe\">\n",
       "  <thead>\n",
       "    <tr style=\"text-align: right;\">\n",
       "      <th></th>\n",
       "      <th>Parcellation_Type</th>\n",
       "      <th>Mean_Rank</th>\n",
       "      <th>Size</th>\n",
       "      <th>r2</th>\n",
       "      <th>roc_auc</th>\n",
       "      <th>full_name</th>\n",
       "    </tr>\n",
       "  </thead>\n",
       "  <tbody>\n",
       "    <tr>\n",
       "      <th>11</th>\n",
       "      <td>Freesurfer Extracted</td>\n",
       "      <td>97.422222</td>\n",
       "      <td>150</td>\n",
       "      <td>0.073573</td>\n",
       "      <td>0.61954</td>\n",
       "      <td>freesurfer destr</td>\n",
       "    </tr>\n",
       "  </tbody>\n",
       "</table>\n",
       "</div>"
      ],
      "text/plain": [
       "       Parcellation_Type  Mean_Rank  Size        r2  roc_auc         full_name\n",
       "11  Freesurfer Extracted  97.422222   150  0.073573  0.61954  freesurfer destr"
      ]
     },
     "metadata": {},
     "output_type": "display_data"
    },
    {
     "data": {
      "text/html": [
       "<div>\n",
       "<style scoped>\n",
       "    .dataframe tbody tr th:only-of-type {\n",
       "        vertical-align: middle;\n",
       "    }\n",
       "\n",
       "    .dataframe tbody tr th {\n",
       "        vertical-align: top;\n",
       "    }\n",
       "\n",
       "    .dataframe thead th {\n",
       "        text-align: right;\n",
       "    }\n",
       "</style>\n",
       "<table border=\"1\" class=\"dataframe\">\n",
       "  <thead>\n",
       "    <tr style=\"text-align: right;\">\n",
       "      <th></th>\n",
       "      <th>Parcellation_Type</th>\n",
       "      <th>Mean_Rank</th>\n",
       "      <th>Size</th>\n",
       "      <th>r2</th>\n",
       "      <th>roc_auc</th>\n",
       "      <th>full_name</th>\n",
       "    </tr>\n",
       "  </thead>\n",
       "  <tbody>\n",
       "    <tr>\n",
       "      <th>10</th>\n",
       "      <td>Freesurfer Extracted</td>\n",
       "      <td>142.562963</td>\n",
       "      <td>68</td>\n",
       "      <td>0.061316</td>\n",
       "      <td>0.606063</td>\n",
       "      <td>freesurfer desikan</td>\n",
       "    </tr>\n",
       "  </tbody>\n",
       "</table>\n",
       "</div>"
      ],
      "text/plain": [
       "       Parcellation_Type   Mean_Rank  Size        r2   roc_auc  \\\n",
       "10  Freesurfer Extracted  142.562963    68  0.061316  0.606063   \n",
       "\n",
       "             full_name  \n",
       "10  freesurfer desikan  "
      ]
     },
     "metadata": {},
     "output_type": "display_data"
    }
   ],
   "source": [
    "r_df = get_ranks_sizes(results, log=False, \n",
    "                       keep_full_name=True,\n",
    "                       add_raw=True, **static)\n",
    "\n",
    "# Show top result\n",
    "display(r_df.sort_values('Mean_Rank').iloc[[0]])\n",
    "\n",
    "# Show the two freesurfer\n",
    "display(r_df[r_df['full_name'] == 'freesurfer destr'])\n",
    "display(r_df[r_df['full_name'] == 'freesurfer desikan'])\n",
    "\n",
    "# Save raw results\n",
    "save_results_table(r_df, name='raw_results1')"
   ]
  },
  {
   "cell_type": "markdown",
   "id": "transsexual-jonathan",
   "metadata": {},
   "source": [
    "## Base Expiriment - By Pipeline\n",
    "\n",
    "### Intra-Pipeline"
   ]
  },
  {
   "cell_type": "code",
   "execution_count": 4,
   "id": "handed-enclosure",
   "metadata": {},
   "outputs": [],
   "source": [
    "# Get df\n",
    "intra_pipe_df = get_intra_pipeline_df(results, log=False, keep_full_name=True, add_raw=True,\n",
    "                                      threshold=False, **static).rename({'Model': 'Pipeline'}, axis=1)\n",
    "\n",
    "# Get display col names and change order\n",
    "intra_pipe_df = clean_col_names(intra_pipe_df)\n",
    "intra_pipe_df = intra_pipe_df[['Parcellation', 'Pipeline', 'Mean Rank',\n",
    "                               'Size', 'Mean R2', 'Mean ROC AUC']]\n",
    "\n",
    "# Save\n",
    "save_table(intra_pipe_df, 'intra_pipe_table')"
   ]
  },
  {
   "cell_type": "markdown",
   "id": "exotic-fiber",
   "metadata": {},
   "source": [
    "### Inter-Pipeline"
   ]
  },
  {
   "cell_type": "code",
   "execution_count": 5,
   "id": "metric-alpha",
   "metadata": {},
   "outputs": [],
   "source": [
    "# Get df\n",
    "inter_pipe_df = clean_model_names(\n",
    "    get_across_ranks(results, log=False,\n",
    "                     **static).rename({'Model': 'Pipeline'}, axis=1))\n",
    "\n",
    "# Prep\n",
    "inter_pipe_df = inter_pipe_df.drop('Parcellation', axis=1)\n",
    "inter_pipe_df = clean_col_names(inter_pipe_df)\n",
    "inter_pipe_df = inter_pipe_df[['Parcellation', 'Pipeline', 'Mean Rank', 'Size']]\n",
    "\n",
    "# Save\n",
    "save_table(inter_pipe_df, 'inter_pipe_table')"
   ]
  },
  {
   "cell_type": "markdown",
   "id": "empirical-fortune",
   "metadata": {},
   "source": [
    "## Base Expiriment - By Target"
   ]
  },
  {
   "cell_type": "code",
   "execution_count": 6,
   "id": "laughing-swimming",
   "metadata": {},
   "outputs": [],
   "source": [
    "# Get data\n",
    "r_df = get_ranks_sizes(results, avg_targets=False,\n",
    "                       keep_full_name=True,\n",
    "                       log=False, threshold=False, **static)\n",
    "\n",
    "# Get display col names and change order\n",
    "r_df = clean_col_names(r_df)\n",
    "r_df = r_df[['Target', 'Parcellation', 'Mean Rank', 'Mean Score', 'Size']]\n",
    "\n",
    "# Save the table\n",
    "save_table(r_df, 'by_target_full_results')"
   ]
  },
  {
   "cell_type": "code",
   "execution_count": null,
   "id": "numeric-proceeding",
   "metadata": {},
   "outputs": [],
   "source": []
  }
 ],
 "metadata": {
  "kernelspec": {
   "display_name": "Python 3.9.1 64-bit ('bpt': conda)",
   "language": "python",
   "name": "python391jvsc74a57bd0d11bc83678c6a2afeedd4386e54f5d9cdbd165400cc2c1372c0886b00a256ded"
  },
  "language_info": {
   "codemirror_mode": {
    "name": "ipython",
    "version": 3
   },
   "file_extension": ".py",
   "mimetype": "text/x-python",
   "name": "python",
   "nbconvert_exporter": "python",
   "pygments_lexer": "ipython3",
   "version": "3.9.1"
  }
 },
 "nbformat": 4,
 "nbformat_minor": 5
}
