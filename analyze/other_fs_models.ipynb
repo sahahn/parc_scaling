{
 "cells": [
  {
   "cell_type": "code",
   "execution_count": 1,
   "id": "e5c62f8f",
   "metadata": {},
   "outputs": [],
   "source": [
    "import numpy as np\n",
    "import seaborn as sns\n",
    "import pandas as pd\n",
    "import matplotlib.pyplot as plt\n",
    "\n",
    "from statsmodels.formula.api import ols, rlm\n",
    "from scipy.stats import linregress\n",
    "from IPython.display import display\n",
    "\n",
    "from plot_funcs import (get_results, plot_avg_ranks, get_mean_avg_ranks,\n",
    "                        clean_model_names, get_ranks_sizes, clean_model_names,\n",
    "                        get_highest_performing_df, get_cut_off_df,\n",
    "                        get_across_ranks, get_intra_pipeline_df,\n",
    "                        get_single_vs_multiple_df, get_model_avg_ranks, get_results_df)\n",
    "from funcs import save_stats_summary, save_results_table, clean_col_names"
   ]
  },
  {
   "cell_type": "code",
   "execution_count": null,
   "id": "7bef71e3",
   "metadata": {},
   "outputs": [],
   "source": [
    "results = get_results('../exp/results')\n",
    "static = {'random': True, 'base': True, 'fs': True, 'ico': True}"
   ]
  },
  {
   "cell_type": "code",
   "execution_count": null,
   "id": "2711fed5",
   "metadata": {},
   "outputs": [],
   "source": [
    "intra_pipe_df = get_intra_pipeline_df(results, log=True,\n",
    "                                      models=['elastic', 'elasticFS'],\n",
    "                                      threshold=False, **static).rename({'Model': 'Pipeline'}, axis=1)\n",
    "\n",
    "# Plot\n",
    "g = sns.lmplot(x='Size', y='Mean_Rank', hue='Pipeline', data=intra_pipe_df)"
   ]
  },
  {
   "cell_type": "code",
   "execution_count": null,
   "id": "saved-reaction",
   "metadata": {},
   "outputs": [],
   "source": []
  }
 ],
 "metadata": {
  "kernelspec": {
   "display_name": "Python 3.9.1 64-bit ('bpt': conda)",
   "language": "python",
   "name": "python391jvsc74a57bd0d11bc83678c6a2afeedd4386e54f5d9cdbd165400cc2c1372c0886b00a256ded"
  },
  "language_info": {
   "codemirror_mode": {
    "name": "ipython",
    "version": 3
   },
   "file_extension": ".py",
   "mimetype": "text/x-python",
   "name": "python",
   "nbconvert_exporter": "python",
   "pygments_lexer": "ipython3",
   "version": "3.9.1"
  }
 },
 "nbformat": 4,
 "nbformat_minor": 5
}
