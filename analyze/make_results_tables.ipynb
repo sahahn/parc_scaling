{
 "cells": [
  {
   "cell_type": "markdown",
   "id": "promotional-dayton",
   "metadata": {},
   "source": [
    "# Make Results Tables\n",
    "\n",
    "This notebook generates full HTML tables of results for usage within the online documentation."
   ]
  },
  {
   "cell_type": "code",
   "execution_count": 1,
   "id": "norman-lyric",
   "metadata": {},
   "outputs": [
    {
     "name": "stderr",
     "output_type": "stream",
     "text": [
      "/home/sage/anaconda3/envs/bpt/lib/python3.9/site-packages/nilearn/datasets/__init__.py:93: FutureWarning: Fetchers from the nilearn.datasets module will be updated in version 0.9 to return python strings instead of bytes and Pandas dataframes instead of Numpy arrays.\n",
      "  warn(\"Fetchers from the nilearn.datasets module will be \"\n"
     ]
    }
   ],
   "source": [
    "from plot_funcs import (get_results, get_ranks_sizes, get_across_ranks, clean_name,\n",
    "                        get_intra_pipeline_df, clean_model_names, get_highest_performing_df)\n",
    "from funcs import save_results_table, clean_col_names, save_table\n",
    "from IPython.display import display"
   ]
  },
  {
   "cell_type": "code",
   "execution_count": 2,
   "id": "universal-marina",
   "metadata": {},
   "outputs": [
    {
     "name": "stdout",
     "output_type": "stream",
     "text": [
      "Found: 87390 Incomplete: 0\n"
     ]
    }
   ],
   "source": [
    "results = get_results('../exp/results')\n",
    "static = {'random': True, 'base': True, 'fs': True, 'ico': True}"
   ]
  },
  {
   "cell_type": "markdown",
   "id": "passing-mainland",
   "metadata": {},
   "source": [
    "## Base Expiriment - By Parcellation"
   ]
  },
  {
   "cell_type": "code",
   "execution_count": 3,
   "id": "genuine-garlic",
   "metadata": {},
   "outputs": [
    {
     "data": {
      "text/html": [
       "<div>\n",
       "<style scoped>\n",
       "    .dataframe tbody tr th:only-of-type {\n",
       "        vertical-align: middle;\n",
       "    }\n",
       "\n",
       "    .dataframe tbody tr th {\n",
       "        vertical-align: top;\n",
       "    }\n",
       "\n",
       "    .dataframe thead th {\n",
       "        text-align: right;\n",
       "    }\n",
       "</style>\n",
       "<table border=\"1\" class=\"dataframe\">\n",
       "  <thead>\n",
       "    <tr style=\"text-align: right;\">\n",
       "      <th></th>\n",
       "      <th>Parcellation_Type</th>\n",
       "      <th>Mean_Rank</th>\n",
       "      <th>Size</th>\n",
       "      <th>r2</th>\n",
       "      <th>roc_auc</th>\n",
       "      <th>full_name</th>\n",
       "      <th>Median_Rank</th>\n",
       "    </tr>\n",
       "  </thead>\n",
       "  <tbody>\n",
       "    <tr>\n",
       "      <th>194</th>\n",
       "      <td>Existing</td>\n",
       "      <td>46.703704</td>\n",
       "      <td>949</td>\n",
       "      <td>0.081132</td>\n",
       "      <td>0.625744</td>\n",
       "      <td>difumo 1024</td>\n",
       "      <td>34.666667</td>\n",
       "    </tr>\n",
       "  </tbody>\n",
       "</table>\n",
       "</div>"
      ],
      "text/plain": [
       "    Parcellation_Type  Mean_Rank  Size        r2   roc_auc    full_name  \\\n",
       "194          Existing  46.703704   949  0.081132  0.625744  difumo 1024   \n",
       "\n",
       "     Median_Rank  \n",
       "194    34.666667  "
      ]
     },
     "metadata": {},
     "output_type": "display_data"
    },
    {
     "data": {
      "text/html": [
       "<div>\n",
       "<style scoped>\n",
       "    .dataframe tbody tr th:only-of-type {\n",
       "        vertical-align: middle;\n",
       "    }\n",
       "\n",
       "    .dataframe tbody tr th {\n",
       "        vertical-align: top;\n",
       "    }\n",
       "\n",
       "    .dataframe thead th {\n",
       "        text-align: right;\n",
       "    }\n",
       "</style>\n",
       "<table border=\"1\" class=\"dataframe\">\n",
       "  <thead>\n",
       "    <tr style=\"text-align: right;\">\n",
       "      <th></th>\n",
       "      <th>Parcellation_Type</th>\n",
       "      <th>Mean_Rank</th>\n",
       "      <th>Size</th>\n",
       "      <th>r2</th>\n",
       "      <th>roc_auc</th>\n",
       "      <th>full_name</th>\n",
       "      <th>Median_Rank</th>\n",
       "    </tr>\n",
       "  </thead>\n",
       "  <tbody>\n",
       "    <tr>\n",
       "      <th>11</th>\n",
       "      <td>Freesurfer Extracted</td>\n",
       "      <td>97.422222</td>\n",
       "      <td>150</td>\n",
       "      <td>0.067749</td>\n",
       "      <td>0.614584</td>\n",
       "      <td>freesurfer destr</td>\n",
       "      <td>100.666667</td>\n",
       "    </tr>\n",
       "  </tbody>\n",
       "</table>\n",
       "</div>"
      ],
      "text/plain": [
       "       Parcellation_Type  Mean_Rank  Size        r2   roc_auc  \\\n",
       "11  Freesurfer Extracted  97.422222   150  0.067749  0.614584   \n",
       "\n",
       "           full_name  Median_Rank  \n",
       "11  freesurfer destr   100.666667  "
      ]
     },
     "metadata": {},
     "output_type": "display_data"
    },
    {
     "data": {
      "text/html": [
       "<div>\n",
       "<style scoped>\n",
       "    .dataframe tbody tr th:only-of-type {\n",
       "        vertical-align: middle;\n",
       "    }\n",
       "\n",
       "    .dataframe tbody tr th {\n",
       "        vertical-align: top;\n",
       "    }\n",
       "\n",
       "    .dataframe thead th {\n",
       "        text-align: right;\n",
       "    }\n",
       "</style>\n",
       "<table border=\"1\" class=\"dataframe\">\n",
       "  <thead>\n",
       "    <tr style=\"text-align: right;\">\n",
       "      <th></th>\n",
       "      <th>Parcellation_Type</th>\n",
       "      <th>Mean_Rank</th>\n",
       "      <th>Size</th>\n",
       "      <th>r2</th>\n",
       "      <th>roc_auc</th>\n",
       "      <th>full_name</th>\n",
       "      <th>Median_Rank</th>\n",
       "    </tr>\n",
       "  </thead>\n",
       "  <tbody>\n",
       "    <tr>\n",
       "      <th>10</th>\n",
       "      <td>Freesurfer Extracted</td>\n",
       "      <td>142.562963</td>\n",
       "      <td>68</td>\n",
       "      <td>0.054734</td>\n",
       "      <td>0.601322</td>\n",
       "      <td>freesurfer desikan</td>\n",
       "      <td>152.666667</td>\n",
       "    </tr>\n",
       "  </tbody>\n",
       "</table>\n",
       "</div>"
      ],
      "text/plain": [
       "       Parcellation_Type   Mean_Rank  Size        r2   roc_auc  \\\n",
       "10  Freesurfer Extracted  142.562963    68  0.054734  0.601322   \n",
       "\n",
       "             full_name  Median_Rank  \n",
       "10  freesurfer desikan   152.666667  "
      ]
     },
     "metadata": {},
     "output_type": "display_data"
    }
   ],
   "source": [
    "# Get base\n",
    "r_df = get_ranks_sizes(results, log=False, \n",
    "                       keep_full_name=True,\n",
    "                       add_raw=True, **static)\n",
    "\n",
    "# Add median rank\n",
    "r_df['Median_Rank'] = get_ranks_sizes(\n",
    "    results, log=False, rank_type='Median_Rank', **static)['Median_Rank']\n",
    "\n",
    "# Show top result\n",
    "display(r_df.sort_values('Mean_Rank').iloc[[0]])\n",
    "\n",
    "# Show the two freesurfer\n",
    "display(r_df[r_df['full_name'] == 'freesurfer destr'])\n",
    "display(r_df[r_df['full_name'] == 'freesurfer desikan'])\n",
    "\n",
    "# Save raw results\n",
    "save_results_table(r_df, name='raw_results1')"
   ]
  },
  {
   "cell_type": "markdown",
   "id": "freelance-parcel",
   "metadata": {},
   "source": [
    "## Base Expiriment - By Pipeline\n",
    "\n",
    "### Intra-Pipeline"
   ]
  },
  {
   "cell_type": "code",
   "execution_count": 4,
   "id": "connected-syria",
   "metadata": {},
   "outputs": [],
   "source": [
    "# Get df\n",
    "intra_pipe_df = get_intra_pipeline_df(results, log=False, keep_full_name=True, add_raw=True,\n",
    "                                      threshold=False, **static)\n",
    "\n",
    "# Get display col names and change order\n",
    "intra_pipe_df = clean_col_names(intra_pipe_df)\n",
    "intra_pipe_df = intra_pipe_df[['Parcellation', 'Pipeline', 'Mean Rank',\n",
    "                               'Size', 'Mean R2', 'Mean ROC AUC']]\n",
    "\n",
    "# Save\n",
    "save_table(intra_pipe_df.sort_values(['Pipeline', 'Mean Rank']),\n",
    "           'intra_pipe_table')"
   ]
  },
  {
   "cell_type": "markdown",
   "id": "formed-groove",
   "metadata": {},
   "source": [
    "### Inter-Pipeline"
   ]
  },
  {
   "cell_type": "code",
   "execution_count": 8,
   "id": "rotary-foster",
   "metadata": {},
   "outputs": [],
   "source": [
    "# Get df\n",
    "inter_pipe_df = clean_model_names(\n",
    "    get_across_ranks(results, log=False,\n",
    "                     **static))\n",
    "\n",
    "# Prep\n",
    "inter_pipe_df = inter_pipe_df.drop('Parcellation', axis=1)\n",
    "inter_pipe_df = clean_col_names(inter_pipe_df)\n",
    "inter_pipe_df = inter_pipe_df[['Parcellation', 'Pipeline', 'Mean Rank', 'Size']]\n",
    "\n",
    "# Save\n",
    "save_table(inter_pipe_df.sort_values('Mean Rank'), 'inter_pipe_table')"
   ]
  },
  {
   "cell_type": "markdown",
   "id": "protected-reverse",
   "metadata": {},
   "source": [
    "## Base Expiriment - By Target"
   ]
  },
  {
   "cell_type": "code",
   "execution_count": 11,
   "id": "south-burst",
   "metadata": {},
   "outputs": [],
   "source": [
    "# Get data\n",
    "r_df = get_ranks_sizes(results, avg_targets=False,\n",
    "                       keep_full_name=True,\n",
    "                       log=False, threshold=False, **static)\n",
    "\n",
    "# Get display col names and change order\n",
    "r_df = clean_col_names(r_df)\n",
    "r_df = r_df[['Target', 'Parcellation', 'Mean Rank', 'Mean Score', 'Size']]\n",
    "\n",
    "# Save the table\n",
    "save_table(r_df.sort_values('Target'), 'by_target_full_results')"
   ]
  },
  {
   "cell_type": "markdown",
   "id": "small-inspiration",
   "metadata": {},
   "source": [
    "## Full Results - By Target"
   ]
  },
  {
   "cell_type": "code",
   "execution_count": 15,
   "id": "confident-flavor",
   "metadata": {},
   "outputs": [],
   "source": [
    "# Get data\n",
    "r_df = get_ranks_sizes(results, avg_targets=False,\n",
    "                       keep_full_name=True,\n",
    "                       log=False, threshold=False,\n",
    "                       stacked=True, voted=True, grid=True,\n",
    "                       **static)\n",
    "\n",
    "# Get display col names and change order\n",
    "r_df = clean_col_names(r_df)\n",
    "r_df = r_df[['Target', 'Parcellation', 'Mean Rank', 'Mean Score', 'Size']]\n",
    "\n",
    "# Save the table\n",
    "save_table(r_df.sort_values('Target'), 'all_by_target_full_results')"
   ]
  },
  {
   "cell_type": "markdown",
   "id": "accessible-medline",
   "metadata": {},
   "source": [
    "## Full Results - Single + Multiple Parcellations"
   ]
  },
  {
   "cell_type": "code",
   "execution_count": null,
   "id": "still-measurement",
   "metadata": {},
   "outputs": [],
   "source": [
    "r_df = get_ranks_sizes(results, log=False,\n",
    "                       keep_full_name=True, add_raw=True,\n",
    "                       stacked=True, voted=True, grid=True,\n",
    "                       **static)\n",
    "\n",
    "# Show top result\n",
    "display(r_df.sort_values('Mean_Rank').iloc[[0]])\n",
    "\n",
    "# Save raw results\n",
    "save_results_table(r_df, name='raw_full_results')"
   ]
  },
  {
   "cell_type": "markdown",
   "id": "packed-welsh",
   "metadata": {},
   "source": [
    "## Ensemble Only - By Pipeline\n",
    "\n",
    "### Intra-Pipeline"
   ]
  },
  {
   "cell_type": "code",
   "execution_count": null,
   "id": "express-surprise",
   "metadata": {},
   "outputs": [],
   "source": [
    "# Get df\n",
    "intra_pipe_df = get_intra_pipeline_df(results, log=False,\n",
    "                                      keep_full_name=True,\n",
    "                                      add_raw=True, stacked=True, voted=True)\n",
    "\n",
    "# Get display col names and change order\n",
    "intra_pipe_df = clean_col_names(intra_pipe_df)\n",
    "intra_pipe_df = intra_pipe_df[['Parcellation', 'Pipeline', 'Mean Rank',\n",
    "                               'Size', 'Mean R2', 'Mean ROC AUC']]\n",
    "\n",
    "# Save\n",
    "save_table(intra_pipe_df.sort_values(['Pipeline', 'Mean Rank']),\n",
    "           'ensemble_intra_pipe_table')"
   ]
  },
  {
   "cell_type": "markdown",
   "id": "fiscal-direction",
   "metadata": {},
   "source": [
    "### Inter-Pipeline"
   ]
  },
  {
   "cell_type": "code",
   "execution_count": null,
   "id": "viral-directory",
   "metadata": {},
   "outputs": [],
   "source": [
    "# Get df\n",
    "inter_pipe_df = clean_model_names(\n",
    "    get_across_ranks(results, log=False, stacked=True,\n",
    "                     voted=True, models=['svm', 'lgbm', 'elastic']))\n",
    "\n",
    "# Prep\n",
    "inter_pipe_df = inter_pipe_df.drop('Parcellation', axis=1)\n",
    "inter_pipe_df = clean_col_names(inter_pipe_df)\n",
    "inter_pipe_df = inter_pipe_df[['Parcellation', 'Pipeline', 'Mean Rank', 'Size']]\n",
    "\n",
    "# Save\n",
    "save_table(inter_pipe_df.sort_values('Mean Rank'), 'ensemble_inter_pipe_table')"
   ]
  },
  {
   "cell_type": "markdown",
   "id": "reliable-bidder",
   "metadata": {},
   "source": [
    "## Highest Performing Only"
   ]
  },
  {
   "cell_type": "code",
   "execution_count": null,
   "id": "significant-costs",
   "metadata": {},
   "outputs": [],
   "source": [
    "# Get scores df\n",
    "r_df = get_highest_performing_df(results).reset_index()\n",
    "\n",
    "# Prep for display\n",
    "r_df = clean_model_names(clean_col_names(r_df))\n",
    "r_df = r_df[['Parcellation', 'Pipeline', 'Mean Rank', 'Size', 'Mean R2', 'Mean ROC AUC']]\n",
    "r_df['Parcellation'] = r_df['Parcellation'].apply(clean_name)\n",
    "\n",
    "# Save the table\n",
    "save_table(r_df.sort_values('Mean Rank'), 'best_of_full_results')"
   ]
  },
  {
   "cell_type": "markdown",
   "id": "fifth-howard",
   "metadata": {},
   "source": [
    "## Highest Performing w/ Extra Special"
   ]
  },
  {
   "cell_type": "code",
   "execution_count": null,
   "id": "failing-weather",
   "metadata": {},
   "outputs": [],
   "source": [
    "# Get scores df\n",
    "r_df = get_highest_performing_df(results, add_special=True).reset_index()\n",
    "\n",
    "# Prep for display\n",
    "r_df = clean_model_names(clean_col_names(r_df))\n",
    "r_df = r_df[['Parcellation', 'Pipeline', 'Mean Rank', 'Size', 'Mean R2', 'Mean ROC AUC']]\n",
    "r_df['Parcellation'] = r_df['Parcellation'].apply(clean_name)\n",
    "\n",
    "# Save the table\n",
    "save_table(r_df.sort_values('Mean Rank'), 'best_of_full_results_extra')"
   ]
  }
 ],
 "metadata": {
  "kernelspec": {
   "display_name": "Python 3.9.1 64-bit ('bpt': conda)",
   "language": "python",
   "name": "python391jvsc74a57bd0816e2859f723fb77ad3214da0fbda681e8d4db93bd8b118618b521c0b1f5f48f"
  },
  "language_info": {
   "codemirror_mode": {
    "name": "ipython",
    "version": 3
   },
   "file_extension": ".py",
   "mimetype": "text/x-python",
   "name": "python",
   "nbconvert_exporter": "python",
   "pygments_lexer": "ipython3",
   "version": "3.9.1"
  }
 },
 "nbformat": 4,
 "nbformat_minor": 5
}
