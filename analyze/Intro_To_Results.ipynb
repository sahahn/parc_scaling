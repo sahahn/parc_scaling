{
 "cells": [
  {
   "cell_type": "code",
   "execution_count": 1,
   "id": "bright-sellers",
   "metadata": {},
   "outputs": [],
   "source": [
    "from plot_funcs import (get_results, get_mean_avg_ranks,\n",
    "                        get_results_df, plot_avg_ranks, get_ranks_sizes)\n",
    "from funcs import save_stats_summary\n",
    "import matplotlib.pyplot as plt\n",
    "import seaborn as sns\n",
    "from statsmodels.formula.api import ols, rlm"
   ]
  },
  {
   "cell_type": "markdown",
   "id": "aware-commission",
   "metadata": {},
   "source": [
    "Most of the utilities for loading and plotting results are defined in other functions, these notebooks are for making sense of them.\n",
    "\n",
    "First we will consider loading the raw results."
   ]
  },
  {
   "cell_type": "code",
   "execution_count": null,
   "id": "color-thought",
   "metadata": {},
   "outputs": [],
   "source": [
    "results = get_results('../exp/results')"
   ]
  },
  {
   "cell_type": "markdown",
   "id": "corporate-sheep",
   "metadata": {},
   "source": [
    "These are still in a difficult format to work with, we will plot with results for just the elastic net models and just random parcellations."
   ]
  },
  {
   "cell_type": "code",
   "execution_count": null,
   "id": "prepared-projection",
   "metadata": {},
   "outputs": [],
   "source": [
    "plot_avg_ranks(results, random=True, model='elastic')\n",
    "plt.savefig('Figures/simple_example.png', dpi=300, bbox_inches='tight')"
   ]
  },
  {
   "cell_type": "markdown",
   "id": "shared-ethics",
   "metadata": {},
   "source": [
    "Next plot as log-log"
   ]
  },
  {
   "cell_type": "code",
   "execution_count": null,
   "id": "diverse-receiver",
   "metadata": {},
   "outputs": [],
   "source": [
    "plot_avg_ranks(results, random=True, log=True, model='elastic')\n",
    "plt.savefig('Figures/simple_example_log.png', dpi=300, bbox_inches='tight')"
   ]
  },
  {
   "cell_type": "markdown",
   "id": "entertaining-height",
   "metadata": {},
   "source": [
    "We can use the following function to get these same results in a dataframe before plotting."
   ]
  },
  {
   "cell_type": "code",
   "execution_count": null,
   "id": "injured-hunter",
   "metadata": {},
   "outputs": [],
   "source": [
    "r_df = get_ranks_sizes(results, models=['elastic'], log=True,\n",
    "                       threshold=False, random=True)\n",
    "r_df = r_df.sort_values(by='Size')\n",
    "r_df.head()"
   ]
  },
  {
   "cell_type": "markdown",
   "id": "obvious-comment",
   "metadata": {},
   "source": [
    "We next fit a model simply from log10 mean rank ~ size"
   ]
  },
  {
   "cell_type": "code",
   "execution_count": null,
   "id": "broad-night",
   "metadata": {},
   "outputs": [],
   "source": [
    "model = ols('Mean_Rank ~ Size', data=r_df).fit()\n",
    "model.summary()"
   ]
  },
  {
   "cell_type": "markdown",
   "id": "modern-universal",
   "metadata": {},
   "source": [
    "Let's add the fitted model to the plot from before"
   ]
  },
  {
   "cell_type": "code",
   "execution_count": null,
   "id": "amended-finder",
   "metadata": {},
   "outputs": [],
   "source": [
    "# Gen plot\n",
    "_, ax = plt.subplots(figsize=(12, 8))\n",
    "\n",
    "# Reverse log10 on size\n",
    "o_size = 10 ** r_df['Size']\n",
    "\n",
    "# Line of pred. fit\n",
    "p_fit = 10 ** model.params.Intercept * (o_size **(model.params.Size))\n",
    "\n",
    "# Plot line of fit\n",
    "ax.plot(o_size, p_fit, color='blue',\n",
    "        alpha=.8, label=f'R2={model.rsquared:.3f}')\n",
    "\n",
    "# Plot data points as before\n",
    "plot_avg_ranks(results, random=True, log=True,\n",
    "               model='elastic', ax=ax)\n",
    "\n",
    "plt.savefig('Figures/simple_example_log_with_fit.png', dpi=300, bbox_inches='tight')"
   ]
  },
  {
   "cell_type": "code",
   "execution_count": null,
   "id": "unlikely-teach",
   "metadata": {},
   "outputs": [],
   "source": [
    "r_df_thresh = get_ranks_sizes(results, models=['elastic'], log=True,\n",
    "                              threshold=True, random=True).sort_values(by='Size')\n",
    "model = ols('Mean_Rank ~ Size', data=r_df_thresh).fit()\n",
    "\n",
    "# Gen plot\n",
    "_, ax = plt.subplots(figsize=(12, 8))\n",
    "\n",
    "# Reverse log10 on size\n",
    "o_size = 10 ** r_df_thresh['Size']\n",
    "\n",
    "# Line of pred. fit\n",
    "p_fit = 10 ** model.params.Intercept * (o_size **(model.params.Size))\n",
    "\n",
    "# Plot line of fit\n",
    "ax.plot(o_size, p_fit, color='blue',\n",
    "        alpha=.8, label=f'R2={model.rsquared:.3f}')\n",
    "\n",
    "# Plot data points as before\n",
    "plot_avg_ranks(results, random=True, log=True,\n",
    "               model='elastic', ax=ax)\n",
    "\n",
    "# Save stats summary as html\n",
    "save_stats_summary(model, 'stats_example')\n",
    "\n",
    "# Save Fig\n",
    "plt.savefig('Figures/simple_example_log_with_fit2.png', dpi=300, bbox_inches='tight')"
   ]
  },
  {
   "cell_type": "markdown",
   "id": "miniature-species",
   "metadata": {},
   "source": [
    "Now what about averaging"
   ]
  },
  {
   "cell_type": "code",
   "execution_count": null,
   "id": "related-insulation",
   "metadata": {},
   "outputs": [],
   "source": [
    "plot_avg_ranks(results, random=True, log=True)\n",
    "plt.savefig('Figures/all_example_log.png', dpi=300, bbox_inches='tight')"
   ]
  },
  {
   "cell_type": "markdown",
   "id": "unlikely-retro",
   "metadata": {},
   "source": [
    "Look at some example specific results:"
   ]
  },
  {
   "cell_type": "code",
   "execution_count": null,
   "id": "compact-therapist",
   "metadata": {},
   "outputs": [],
   "source": [
    "print(results['random_1000_1---elastic---anthro_waist_cm'][0][0])\n",
    "print(results['random_1000_1---elastic---cbcl_scr_syn_rulebreak_r'][0][0])\n",
    "print((results['random_1000_1---elastic---anthro_waist_cm'][0][0] + results['random_1000_1---elastic---cbcl_scr_syn_rulebreak_r'][0][0]) / 2)\n",
    "print()\n",
    "\n",
    "print(results['random_10_1---elastic---anthro_waist_cm'][0][0])\n",
    "print(results['random_10_1---elastic---cbcl_scr_syn_rulebreak_r'][0][0])\n",
    "print((results['random_10_1---elastic---anthro_waist_cm'][0][0] + results['random_10_1---elastic---cbcl_scr_syn_rulebreak_r'][0][0]) / 2)"
   ]
  },
  {
   "cell_type": "markdown",
   "id": "focused-remedy",
   "metadata": {},
   "source": [
    "The point of this example being to point out that target variables exist on different scales of predictability."
   ]
  }
 ],
 "metadata": {
  "kernelspec": {
   "display_name": "Python 3.8.5 64-bit ('home': conda)",
   "language": "python",
   "name": "python385jvsc74a57bd00f4d82ee7a9bc9f3e46d02f56021cc355daf8a37fd5b163d5c48409823735812"
  },
  "language_info": {
   "codemirror_mode": {
    "name": "ipython",
    "version": 3
   },
   "file_extension": ".py",
   "mimetype": "text/x-python",
   "name": "python",
   "nbconvert_exporter": "python",
   "pygments_lexer": "ipython3",
   "version": "3.8.5"
  }
 },
 "nbformat": 4,
 "nbformat_minor": 5
}
