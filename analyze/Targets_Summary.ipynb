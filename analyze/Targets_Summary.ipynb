{
 "cells": [
  {
   "cell_type": "markdown",
   "id": "clear-creator",
   "metadata": {},
   "source": [
    "This notebook is used to save a nicely formatted HTML table for the online documentation"
   ]
  },
  {
   "cell_type": "code",
   "execution_count": 1,
   "id": "chinese-psychology",
   "metadata": {},
   "outputs": [],
   "source": [
    "import BPt as bp\n",
    "from plot_funcs import target_to_name"
   ]
  },
  {
   "cell_type": "code",
   "execution_count": 2,
   "id": "general-glass",
   "metadata": {},
   "outputs": [],
   "source": [
    "def to_link(in_str):\n",
    "    \n",
    "    if '=' in in_str:\n",
    "        end = in_str.split('=')[-1]\n",
    "        return '<p style=\"text-align: center;\">' + end + '</p>'\n",
    "    \n",
    "    i = in_str.lower()\n",
    "    i = i.replace(' ', '-').replace('(', '').replace(')', '')\n",
    "    \n",
    "    return f'<a href=\"./target_variables#{i}\"><p style=\"text-align: center;\">{in_str}</p></a>'\n",
    "\n",
    "# Load dataset\n",
    "data = bp.read_pickle('../data/dataset.pkl')\n",
    "\n",
    "# Generate summary\n",
    "f_df, b_df = data.summary('target', measures=['count', 'mean +- std',\n",
    "                                              'nan count', 'min', 'max'], decimals=3)\n",
    "\n",
    "# Convert target names\n",
    "f_df.index.name = 'target'\n",
    "b_df.index.name = 'target'\n",
    "f_df = target_to_name(f_df.reset_index())\n",
    "b_df = target_to_name(b_df.reset_index())\n",
    "f_df['target'] = f_df['target'].apply(to_link)\n",
    "b_df['target'] = b_df['target'].apply(to_link)\n",
    "\n",
    "# Save as HTML table\n",
    "f_html = f_df.to_html(float_format=\"%.3f\", border=0,\n",
    "                      index=False, justify='center').replace('&lt;', '<').replace('&gt;', '>')\n",
    "b_html = b_df.to_html(float_format=\"%.3f\", border=0,\n",
    "                      index=False, justify='center').replace('&lt;', '<').replace('&gt;', '>')\n",
    "with open('../docs/_includes/float_table.html', 'w') as f:\n",
    "    f.write(f_html)\n",
    "with open('../docs/_includes/binary_table.html', 'w') as f:\n",
    "    f.write(b_html)"
   ]
  },
  {
   "cell_type": "code",
   "execution_count": null,
   "id": "recent-expense",
   "metadata": {},
   "outputs": [],
   "source": []
  }
 ],
 "metadata": {
  "kernelspec": {
   "display_name": "Python 3.9.1 64-bit ('bpt': conda)",
   "language": "python",
   "name": "python39164bitbptconda7805b3f5d58e4b658b79cb94739371e6"
  },
  "language_info": {
   "codemirror_mode": {
    "name": "ipython",
    "version": 3
   },
   "file_extension": ".py",
   "mimetype": "text/x-python",
   "name": "python",
   "nbconvert_exporter": "python",
   "pygments_lexer": "ipython3",
   "version": "3.9.1"
  }
 },
 "nbformat": 4,
 "nbformat_minor": 5
}
