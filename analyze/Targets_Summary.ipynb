{
 "cells": [
  {
   "cell_type": "code",
   "execution_count": 1,
   "id": "chinese-psychology",
   "metadata": {},
   "outputs": [],
   "source": [
    "import BPt as bp\n",
    "from plot_funcs import target_to_name"
   ]
  },
  {
   "cell_type": "code",
   "execution_count": 3,
   "id": "general-glass",
   "metadata": {},
   "outputs": [],
   "source": [
    "def to_link(in_str):\n",
    "    \n",
    "    i = in_str.lower()\n",
    "    i = i.replace(' ', '-').replace('(', '').replace(')', '')\n",
    "    \n",
    "    return in_str + '(./target_variables#' + i + ')'\n",
    "\n",
    "\n",
    "\n",
    "# Load dataset\n",
    "data = bp.read_pickle('../data/dataset.pkl')\n",
    "\n",
    "# Generate summary\n",
    "f_df, b_df = data.summary('target', measures=['count', 'mean +- std',\n",
    "                                              'nan count', 'min', 'max'], decimals=3)\n",
    "\n",
    "# Convert target names\n",
    "f_df.index.name = 'target'\n",
    "b_df.index.name = 'target'\n",
    "f_df = target_to_name(f_df.reset_index())\n",
    "b_df = target_to_name(b_df.reset_index())\n",
    "f_df['target'] = f_df['target'].apply(to_link)\n",
    "b_df['target'] = b_df['target'].apply(to_link)\n",
    "\n",
    "# Save as HTML table\n",
    "f_html = f_df.to_html(float_format=\"%.3f\", border=0,\n",
    "                      index=False, justify='center')\n",
    "b_html = b_df.to_html(float_format=\"%.3f\", border=0,\n",
    "                      index=False, justify='center')\n",
    "with open('../docs/_includes/float_table.html', 'w') as f:\n",
    "    f.write(f_html)\n",
    "with open('../docs/_includes/binary_table.html', 'w') as f:\n",
    "    f.write(b_html)"
   ]
  },
  {
   "cell_type": "code",
   "execution_count": 9,
   "id": "informed-alignment",
   "metadata": {},
   "outputs": [
    {
     "data": {
      "text/plain": [
       "0     Standing Height (inches)(./target_variables#st...\n",
       "1     Waist Circumference (inches)(./target_variable...\n",
       "2     Measured Weight (lbs)(./target_variables#measu...\n",
       "3     CBCL RuleBreak Syndrome Scale(./target_variabl...\n",
       "4     Parent Age (yrs)(./target_variables#parent-age...\n",
       "5     Motor Development(./target_variables#motor-dev...\n",
       "6     Birth Weight (lbs)(./target_variables#birth-we...\n",
       "7           Age (months)(./target_variables#age-months)\n",
       "8     Little Man Test Score(./target_variables#littl...\n",
       "9     MACVS Religion Subscale(./target_variables#mac...\n",
       "10    Neighborhood Safety(./target_variables#neighbo...\n",
       "11    NeuroCog PCA1 (general ability)(./target_varia...\n",
       "12    NeuroCog PCA2 (executive function)(./target_va...\n",
       "13    NeuroCog PCA3 (learning / memory)(./target_var...\n",
       "14    NIH Card Sort Test(./target_variables#nih-card...\n",
       "15    NIH List Sorting Working Memory Test(./target_...\n",
       "16    NIH Comparison Processing Speed Test(./target_...\n",
       "17    NIH Picture Vocabulary Test(./target_variables...\n",
       "18    NIH Oral Reading Recognition Test(./target_var...\n",
       "19    WISC Matrix Reasoning Score(./target_variables...\n",
       "20    Summed Performance Sports Activity(./target_va...\n",
       "21    Summed Team Sports Activity(./target_variables...\n",
       "Name: target, dtype: object"
      ]
     },
     "execution_count": 9,
     "metadata": {},
     "output_type": "execute_result"
    }
   ],
   "source": []
  },
  {
   "cell_type": "code",
   "execution_count": 7,
   "id": "adjustable-radiation",
   "metadata": {},
   "outputs": [
    {
     "ename": "TypeError",
     "evalue": "string indices must be integers",
     "output_type": "error",
     "traceback": [
      "\u001b[0;31m---------------------------------------------------------------------------\u001b[0m",
      "\u001b[0;31mTypeError\u001b[0m                                 Traceback (most recent call last)",
      "\u001b[0;32m<ipython-input-7-1ba8feb9c545>\u001b[0m in \u001b[0;36m<module>\u001b[0;34m\u001b[0m\n\u001b[0;32m----> 1\u001b[0;31m \u001b[0mf_html\u001b[0m\u001b[0;34m[\u001b[0m\u001b[0;34m'target'\u001b[0m\u001b[0;34m]\u001b[0m\u001b[0;34m\u001b[0m\u001b[0;34m\u001b[0m\u001b[0m\n\u001b[0m",
      "\u001b[0;31mTypeError\u001b[0m: string indices must be integers"
     ]
    }
   ],
   "source": [
    "f_html['target']"
   ]
  },
  {
   "cell_type": "code",
   "execution_count": null,
   "id": "portable-sacrifice",
   "metadata": {},
   "outputs": [],
   "source": []
  }
 ],
 "metadata": {
  "kernelspec": {
   "display_name": "Python 3.9.1 64-bit ('bpt': conda)",
   "language": "python",
   "name": "python39164bitbptconda7805b3f5d58e4b658b79cb94739371e6"
  },
  "language_info": {
   "codemirror_mode": {
    "name": "ipython",
    "version": 3
   },
   "file_extension": ".py",
   "mimetype": "text/x-python",
   "name": "python",
   "nbconvert_exporter": "python",
   "pygments_lexer": "ipython3",
   "version": "3.9.1"
  }
 },
 "nbformat": 4,
 "nbformat_minor": 5
}
