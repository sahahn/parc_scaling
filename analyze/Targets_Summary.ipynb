{
 "cells": [
  {
   "cell_type": "code",
   "execution_count": 1,
   "id": "chinese-psychology",
   "metadata": {},
   "outputs": [],
   "source": [
    "import BPt as bp\n",
    "from plot_funcs import target_to_name"
   ]
  },
  {
   "cell_type": "code",
   "execution_count": 2,
   "id": "general-glass",
   "metadata": {},
   "outputs": [],
   "source": [
    "# Load dataset\n",
    "data = bp.read_pickle('../data/dataset.pkl')\n",
    "\n",
    "# Generate summary\n",
    "f_df, b_df = data.summary('target', measures=['count', 'mean +- std',\n",
    "                                              'nan count', 'min', 'max'], decimals=3)\n",
    "\n",
    "# Convert target names\n",
    "f_df.index.name = 'target'\n",
    "b_df.index.name = 'target'\n",
    "f_df = target_to_name(f_df.reset_index())\n",
    "b_df = target_to_name(b_df.reset_index())\n",
    "\n",
    "# Save as HTML table\n",
    "f_html = f_df.to_html(float_format=\"%.3f\", \n",
    "                      index=False, justify='center')\n",
    "b_html = b_df.to_html(float_format=\"%.3f\", \n",
    "                      index=False, justify='center')\n",
    "with open('../docs/_includes/float_table.html', 'w') as f:\n",
    "    f.write(f_html)\n",
    "with open('../docs/_includes/binary_table.html', 'w') as f:\n",
    "    f.write(b_html)"
   ]
  }
 ],
 "metadata": {
  "kernelspec": {
   "display_name": "Python 3.9.1 64-bit ('bpt': conda)",
   "language": "python",
   "name": "python39164bitbptconda7805b3f5d58e4b658b79cb94739371e6"
  },
  "language_info": {
   "codemirror_mode": {
    "name": "ipython",
    "version": 3
   },
   "file_extension": ".py",
   "mimetype": "text/x-python",
   "name": "python",
   "nbconvert_exporter": "python",
   "pygments_lexer": "ipython3",
   "version": "3.9.1"
  }
 },
 "nbformat": 4,
 "nbformat_minor": 5
}
